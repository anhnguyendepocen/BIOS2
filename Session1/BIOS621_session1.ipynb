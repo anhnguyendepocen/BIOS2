{
 "cells": [
  {
   "cell_type": "markdown",
   "metadata": {},
   "source": [
    "# BIOS 621/821 Session 1\n",
    "\n",
    "Instructor: Levi Waldron"
   ]
  },
  {
   "cell_type": "markdown",
   "metadata": {},
   "source": [
    "Welcome and outline - session 1\n",
    "========================================================\n",
    "\n",
    "* syllabus review\n",
    "* software usage\n",
    "* in-person / online course format\n",
    "* multiple regression\n",
    "    + continuous & categorical predictors\n",
    "    + interactions\n",
    "    + ANOVA tables\n",
    "    + Model formulae\n",
    "* introduction to R\n",
    "\n",
    "A bit about me - research interests\n",
    "==============\n",
    "* High-dimensional statistics (more variables than observations)\n",
    "* Predictive modeling\n",
    "* Cancer genomics\n",
    "* Metagenomic profiling of the human microbiome\n",
    "* HIV treatment effectiveness\n",
    "* http://www.waldronlab.io\n",
    "\n",
    "Some of my activities that may interest you\n",
    "===========================================\n",
    "* \"Statistical Learning\" book club and data competitions:\n",
    "    + https://groups.google.com/forum/#!forum/stat_learning\n",
    "* Research opportunities available\n",
    "\n",
    "Multiple Linear Regression Model (sec. 4.2)\n",
    "========================================================\n",
    "Systematic part of model:\n",
    "\n",
    "$$\n",
    "E[y|x] = \\beta_0 + \\beta_1 x_1 + \\beta_2 x_2 + ... + \\beta_p x_p\n",
    "$$\n",
    "\n",
    "- $E[y|x]$ is the expected value of $y$ given $x$\n",
    "- $y$ is the outcome, response, or dependent variable\n",
    "- $x$ is the vector of predictors / independent variables \n",
    "- $x_p$ are the individual predictors or independent variables\n",
    "- $\\beta_p$ are the regression coefficients\n",
    "\n",
    "Multiple Linear Regression Model (cont'd)\n",
    "========================================================\n",
    "Random part of model:\n",
    "\n",
    "$y_i = E[y_i|x_i] + \\epsilon_i$\n",
    "\n",
    "$y_i = \\beta_0 + \\beta_1 x_{1i} + \\beta_2 x_{2i} + ... + \\beta_p x_{pi} + \\epsilon_i$\n",
    "\n",
    "- $x_{ji}$ is the value of predictor $x_j$ for observation $i$\n",
    "\n",
    "Assumption: $\\epsilon_i \\stackrel{iid}{\\sim} N(0, \\sigma_\\epsilon^2)$\n",
    "\n",
    "* Normal distribution\n",
    "* Mean zero at every value of predictors\n",
    "* Constant variance at every value of predictors\n",
    "* Values that are statistically independent\n",
    "\n",
    "Continuous predictors\n",
    "========================================================\n",
    "* **Coding:** as-is, or may be scaled to unit variance (which results in _adjusted_ regression coefficients)\n",
    "* **Interpretation for linear regression:** An increase of one unit of the predictor results in this much difference in the continuous outcome variable\n",
    "    + *additive model*\n",
    "\n",
    "Binary predictors (2 levels)\n",
    "========================================================\n",
    "* **Coding:** indicator or dummy variable (0-1 coding)\n",
    "* **Interpretation for linear regression:** the increase or decrease in average outcome levels in the group coded “1”, compared to the reference category (“0”)\n",
    "   + _e.g._ $E(y|x) = \\beta_0 + \\beta_1 x$ \n",
    "   + where x={ 1 if male, 0 if female }\n",
    "\n",
    "Multilevel Categorical Predictors (Ordinal or Nominal)\n",
    "========================================================\n",
    "* **Coding:** $K-1$ dummy variables for $K$-level categorical variables *\n",
    "* **Interpretation for linear regression:** as above, the comparisons are done with respect to the reference category\n",
    "* Testing significance of multilevel categorical predictor: partial F-test, a.k.a. nested ANOVA\n",
    "\n",
    "\\small\n",
    "&#42; STATA and R code dummy variables automatically, behind-the-scenes\n",
    "\n",
    "Inference from multiple linear regression\n",
    "=========================================\n",
    "\n",
    "* Coefficients are t-distributed when assumptions are correct\n",
    "* Variance in the estimates of each coefficient can be calculated\n",
    "* The t-test of the null hypothesis $H_0: \\beta_1 = 0$ and from confidence intervals tests whether $x_1$ predicts $y$, *holding other predictors constant*\n",
    "    + often used in causal inference to control for confounding: see section 4.4\n",
    "    \n",
    "Interaction (effect modification)\n",
    "========================================================\n",
    "Interaction is modeled as the product of two covariates:\n",
    "$$\n",
    "E[y|x] = \\beta_0 + \\beta_1 x_1 + \\beta_2 x_2 + \\beta_{12} x_1*x_2\n",
    "$$\n",
    "\n",
    "\n",
    "Interaction (effect modification)\n",
    "========================================================\n",
    "\n",
    "![Interaction between coffee and time of day on performance](coffee_interaction.jpg)\n",
    "  \n",
    "Image credit: http://personal.stevens.edu/~ysakamot/\n",
    "\n",
    "ANOVA table\n",
    "========================================================\n",
    "\n",
    "Source of Variation | Sum Sq | Deg Fr | Mean Sq | F  \n",
    "------------------- | ------ | -- | ------- | --  \n",
    "Model | MSS | k | MSS/k | (MSS/k)/MSE  \n",
    "Residual | RSS | n-(k-1) | RSS/(n-k-1) |  \n",
    "Total | TSS | n-1 | |   \n",
    "\n",
    "* $k$ = Model degrees of freedom = coefficients - 1\n",
    "* $n$ = Number of observations\n",
    "* **F** is F-distributed with $k$ numerator and $n-(k-1)$ denominator degrees of freedom\n",
    "\n",
    "Regression in R: model formulae\n",
    "========================================================\n",
    "\n",
    "[Model formulae tutorial](http://ww2.coastal.edu/kingw/statistics/R-tutorials/formulae.html)\n",
    "\n",
    "* regression functions in R such as `aov()`, `lm()`, `glm()`, and `coxph()` use a \"model formula\" interface.\n",
    "* The formula determines the model that will be built (and tested) by the R procedure. The basic format is:\n",
    "\n",
    "> response variable ~ explanatory variables\n",
    "\n",
    "* The tilde means \"is modeled by\" or \"is modeled as a function of.\" \n",
    "\n",
    "Model formulae (cont'd)\n",
    "========================================================\n",
    "\n",
    "Model formula for simple linear regression: \n",
    "\n",
    "> y ~ x\n",
    "\n",
    "* where \"x\" is the explanatory (independent) variable\n",
    "* \"y\" is the response (dependent) variable. \n",
    "\n",
    "Model formulae (cont'd)\n",
    "========================================================\n",
    "\n",
    "Additional explanatory variables would be added as follows: \n",
    "\n",
    "> y ~ x + z\n",
    "\n",
    "Note that \"+\" does not have its usual meaning, which would be achieved by:\n",
    "\n",
    "> y ~ I(x + z)\n",
    "\n",
    "Types of standard linear models\n",
    "========================================================"
   ]
  },
  {
   "cell_type": "markdown",
   "metadata": {},
   "source": [
    "`lm( y ~ u + v)`"
   ]
  },
  {
   "cell_type": "markdown",
   "metadata": {},
   "source": [
    "`u` and `v` factors: **ANOVA**  \n",
    "`u` and `v` numeric: **multiple regression**  \n",
    "one factor, one numeric: **ANCOVA**\n",
    "\n",
    "Model formulae (cont'd)\n",
    "========================================================\n",
    "\n",
    "symbol  | example | meaning  \n",
    "------- | ------- | --------  \n",
    "+ | + x\t| include this variable  \n",
    "-\t| - x\t| delete this variable  \n",
    ":\t| x : z\t| include the interaction  \n",
    "*\t| x * z\t| include these variables and their interactions  \n",
    "/\t| x / z\t| nesting: include z nested within x  \n",
    "&#124;\t| x &#124; z\t| conditioning: include x given z  \n",
    "^\t| (u + v + w)^3\t| include these variables and \n",
    "&nbsp;  | &nbsp; | all interactions up to three way  \n",
    "1 | -1 | intercept: delete the intercept  \n",
    "\n",
    "Model formulae (cont'd)\n",
    "========================================================\n",
    "\n",
    "How to interpret the following model formulae?\n",
    "\n",
    "y ~ u + v + w + u:v + u:w + v:w  \n",
    "y ~ u * v * w - u:v:w  \n",
    "y ~ (u + v + w)^2  \n",
    "\n",
    "Model formulae (cont'd)\n",
    "========================================================\n",
    "\n",
    "How to interpret the following model formulae?\n",
    "\n",
    "> y ~ u + v + w + u:v + u:w + v:w + u:v:w  \n",
    "> y ~ u * v * w  \n",
    "> y ~ (u + v + w)^3  \n",
    "\n",
    "\n",
    "Introduction to the R language\n",
    "========================================================\n",
    "\n",
    "* `5 + 2  #addition`\n",
    "* `5 - 2  #subtraction`\n",
    "* `5 * 2  #multiplication`\n",
    "* `5 / 2  #division`\n",
    "* `5 ^ 2  #exponentiation`\n",
    "* `5 ** 2 #exponentiation`\n",
    "* `5 %% 2 #modulus (a.k.a. remainder)`\n",
    "\n",
    "Logic\n",
    "========================================================\n",
    "\n",
    "- `5 < x  #less than`\n",
    "- `5 <= x #less than or equal to`\n",
    "- `5 > x  #greater than`\n",
    "- `5 >= x #greater than or equal to`\n",
    "- `5 == x #equal to`\n",
    "- `5 != x #not equal to`\n",
    "- `!x     #logical NOT`\n",
    "- `True || False  #stepwise logical OR`\n",
    "- `True && False  #stepwise logical AND`\n",
    "\n",
    "Storing Data: The Rules\n",
    "========================================================\n",
    "\n",
    "* Letters, numbers, dots, underscores\n",
    "* Must start with a letter or a dot not followed by a number\n",
    "* No reserve words, No spaces"
   ]
  },
  {
   "cell_type": "code",
   "execution_count": null,
   "metadata": {},
   "outputs": [],
   "source": [
    "x <- 5\n",
    "x * 2"
   ]
  },
  {
   "cell_type": "code",
   "execution_count": null,
   "metadata": {},
   "outputs": [],
   "source": [
    "x <- x + 1\n",
    "y <- 4\n",
    "x * y"
   ]
  },
  {
   "cell_type": "markdown",
   "metadata": {},
   "source": [
    "Basic Data Types\n",
    "========================================================\n",
    "* numeric (set seed to sync random number generator):"
   ]
  },
  {
   "cell_type": "code",
   "execution_count": null,
   "metadata": {},
   "outputs": [],
   "source": [
    "set.seed(1)\n",
    "rnorm(5)"
   ]
  },
  {
   "cell_type": "markdown",
   "metadata": {},
   "source": [
    "* integer:"
   ]
  },
  {
   "cell_type": "code",
   "execution_count": null,
   "metadata": {},
   "outputs": [],
   "source": [
    "1:5"
   ]
  },
  {
   "cell_type": "code",
   "execution_count": null,
   "metadata": {},
   "outputs": [],
   "source": [
    "sample( 1:5 )"
   ]
  },
  {
   "cell_type": "markdown",
   "metadata": {},
   "source": [
    "Basic Data Types\n",
    "========================================================\n",
    "* character:"
   ]
  },
  {
   "cell_type": "code",
   "execution_count": null,
   "metadata": {},
   "outputs": [],
   "source": [
    "c(\"yes\", \"no\")"
   ]
  },
  {
   "cell_type": "markdown",
   "metadata": {},
   "source": [
    "* factor (play with this to show character/integer properties):"
   ]
  },
  {
   "cell_type": "code",
   "execution_count": null,
   "metadata": {},
   "outputs": [],
   "source": [
    "factor(c(\"yes\", \"no\"))"
   ]
  },
  {
   "cell_type": "markdown",
   "metadata": {},
   "source": [
    "Basic Data Types\n",
    "========================================================\n",
    "* ordered factor:"
   ]
  },
  {
   "cell_type": "code",
   "execution_count": null,
   "metadata": {},
   "outputs": [],
   "source": [
    "factor(c(\"good\", \"very good\", \"poor\"), \n",
    "       levels=c(\"poor\", \"good\", \"very good\"), \n",
    "       ordered=TRUE)"
   ]
  },
  {
   "cell_type": "markdown",
   "metadata": {},
   "source": [
    "* logical:"
   ]
  },
  {
   "cell_type": "code",
   "execution_count": null,
   "metadata": {},
   "outputs": [],
   "source": [
    "1:5 %in% 4:5"
   ]
  },
  {
   "cell_type": "markdown",
   "metadata": {},
   "source": [
    "- Missing Values and others - **IMPORTANT**"
   ]
  },
  {
   "cell_type": "code",
   "execution_count": null,
   "metadata": {},
   "outputs": [],
   "source": [
    "c(NA, NaN, -Inf, Inf)"
   ]
  },
  {
   "cell_type": "markdown",
   "metadata": {},
   "source": [
    "`class()` to find the class of a variable.\n",
    "\n",
    "Vectors Must Be of One Data Mode\n",
    "========================================================"
   ]
  },
  {
   "cell_type": "code",
   "execution_count": null,
   "metadata": {},
   "outputs": [],
   "source": [
    "c( 1, \"2\", FALSE)"
   ]
  },
  {
   "cell_type": "code",
   "execution_count": null,
   "metadata": {},
   "outputs": [],
   "source": [
    "c( 1, FALSE )"
   ]
  },
  {
   "cell_type": "markdown",
   "metadata": {},
   "source": [
    "Selecting Vector Elements\n",
    "========================================================\n",
    "- One element"
   ]
  },
  {
   "cell_type": "code",
   "execution_count": null,
   "metadata": {},
   "outputs": [],
   "source": [
    "x <- 1:4\n",
    "x[ 2 ]"
   ]
  },
  {
   "cell_type": "markdown",
   "metadata": {},
   "source": [
    "- A slice of a vector"
   ]
  },
  {
   "cell_type": "code",
   "execution_count": null,
   "metadata": {},
   "outputs": [],
   "source": [
    "x <- 1:10\n",
    "x[ 4:7 ]"
   ]
  },
  {
   "cell_type": "markdown",
   "metadata": {},
   "source": [
    "Selecting Vector Elements\n",
    "========================================================\n",
    "- Multiple elements ( not contiguous )"
   ]
  },
  {
   "cell_type": "code",
   "execution_count": null,
   "metadata": {},
   "outputs": [],
   "source": [
    "x <- c( \"a\", \"b\", \"c\", \"d\", \"e\", \"f\" )\n",
    "x[ c(5,3,1) ]"
   ]
  },
  {
   "cell_type": "markdown",
   "metadata": {},
   "source": [
    "- Removing elements"
   ]
  },
  {
   "cell_type": "code",
   "execution_count": null,
   "metadata": {},
   "outputs": [],
   "source": [
    "x[ -1 ]"
   ]
  },
  {
   "cell_type": "code",
   "execution_count": null,
   "metadata": {},
   "outputs": [],
   "source": [
    "x[-1:-2]"
   ]
  },
  {
   "cell_type": "markdown",
   "metadata": {},
   "source": [
    "Selecting Vector Elements\n",
    "========================================================\n",
    "- Using logical vector"
   ]
  },
  {
   "cell_type": "code",
   "execution_count": null,
   "metadata": {},
   "outputs": [],
   "source": [
    "x <- 1:10\n",
    "y <- x%%2 == 0\n",
    "x[y]"
   ]
  },
  {
   "cell_type": "markdown",
   "metadata": {},
   "source": [
    "2-Dimensional Vectors are Matrices\n",
    "========================================================"
   ]
  },
  {
   "cell_type": "code",
   "execution_count": null,
   "metadata": {},
   "outputs": [],
   "source": [
    "matrix( 1:20, nrow = 5, ncol = 4 )"
   ]
  },
  {
   "cell_type": "markdown",
   "metadata": {},
   "source": [
    "Indexing Matrices\n",
    "========================================================\n",
    "- matrix[ r, c ]"
   ]
  },
  {
   "cell_type": "code",
   "execution_count": null,
   "metadata": {},
   "outputs": [],
   "source": [
    "boring.matrix <- matrix( 1:20, nrow = 5, ncol = 4 )\n",
    "dim( boring.matrix )\n",
    "boring.matrix[ ,1 ]"
   ]
  },
  {
   "cell_type": "code",
   "execution_count": null,
   "metadata": {},
   "outputs": [],
   "source": [
    "boring.matrix[ 2, 1 ]"
   ]
  },
  {
   "cell_type": "code",
   "execution_count": null,
   "metadata": {},
   "outputs": [],
   "source": [
    "boring.matrix[ 2, ]"
   ]
  },
  {
   "cell_type": "markdown",
   "metadata": {},
   "source": [
    "Indexing Matrices\n",
    "========================================================"
   ]
  },
  {
   "cell_type": "code",
   "execution_count": null,
   "metadata": {},
   "outputs": [],
   "source": [
    "boring.matrix"
   ]
  },
  {
   "cell_type": "code",
   "execution_count": null,
   "metadata": {},
   "outputs": [],
   "source": [
    "boring.matrix[ boring.matrix[ ,1 ] ==3,]"
   ]
  },
  {
   "cell_type": "markdown",
   "metadata": {},
   "source": [
    "Matrix Operations\n",
    "========================================================\n",
    "- Transpose"
   ]
  },
  {
   "cell_type": "code",
   "execution_count": null,
   "metadata": {},
   "outputs": [],
   "source": [
    "boring.matrix <- matrix(1:9, nrow = 3)\n",
    "boring.matrix"
   ]
  },
  {
   "cell_type": "code",
   "execution_count": null,
   "metadata": {},
   "outputs": [],
   "source": [
    "t(boring.matrix)"
   ]
  },
  {
   "cell_type": "markdown",
   "metadata": {},
   "source": [
    "Matrix Operations (cont'd)\n",
    "========================================================\n",
    "- Adding"
   ]
  },
  {
   "cell_type": "code",
   "execution_count": null,
   "metadata": {},
   "outputs": [],
   "source": [
    "boring.matrix + 1"
   ]
  },
  {
   "cell_type": "code",
   "execution_count": null,
   "metadata": {},
   "outputs": [],
   "source": [
    "boring.matrix + 1:3"
   ]
  },
  {
   "cell_type": "markdown",
   "metadata": {},
   "source": [
    "Matrix Operations (cont'd)\n",
    "========================================================\n",
    "- Adding"
   ]
  },
  {
   "cell_type": "code",
   "execution_count": null,
   "metadata": {},
   "outputs": [],
   "source": [
    "boring.matrix"
   ]
  },
  {
   "cell_type": "code",
   "execution_count": null,
   "metadata": {},
   "outputs": [],
   "source": [
    "boring.matrix + boring.matrix"
   ]
  },
  {
   "cell_type": "markdown",
   "metadata": {},
   "source": [
    "Matrix Operations (cont'd)\n",
    "========================================================\n",
    "- Multiplying"
   ]
  },
  {
   "cell_type": "code",
   "execution_count": null,
   "metadata": {},
   "outputs": [],
   "source": [
    "boring.matrix * boring.matrix"
   ]
  },
  {
   "cell_type": "code",
   "execution_count": null,
   "metadata": {},
   "outputs": [],
   "source": [
    "boring.matrix %*% boring.matrix"
   ]
  },
  {
   "cell_type": "markdown",
   "metadata": {},
   "source": [
    "Naming rows and columns\n",
    "========================================================"
   ]
  },
  {
   "cell_type": "code",
   "execution_count": null,
   "metadata": {},
   "outputs": [],
   "source": [
    "colnames(boring.matrix) <- c(\"col.1\", \"col.2\", \"col.3\")\n",
    "rownames(boring.matrix) <- c(\"row.1\", \"row.2\", \"row.3\")\n",
    "boring.matrix"
   ]
  },
  {
   "cell_type": "code",
   "execution_count": null,
   "metadata": {},
   "outputs": [],
   "source": [
    "boring.matrix[\"row.1\", ]"
   ]
  },
  {
   "cell_type": "markdown",
   "metadata": {},
   "source": [
    "Lists are Filing Cabinets\n",
    "========================================================\n",
    "* e.g. if we have 5 medical measurements, 10 self-reported measurements, a sex, two parent names:"
   ]
  },
  {
   "cell_type": "code",
   "execution_count": null,
   "metadata": {
    "attributes": {
     "": "",
     "classes": [],
     "id": ""
    }
   },
   "outputs": [],
   "source": [
    "measurements <- c( 1.3, 1.6, 3.2, 9.8, 10.2 )\n",
    "self.reporting <- c( 13, 6, 4, 7, 6, 5, 8, 9, 7, 4 )\n",
    "sex <- FALSE\n",
    "parents <- c( \"Parent1.name\", \"Parent2.name\" )"
   ]
  },
  {
   "cell_type": "code",
   "execution_count": null,
   "metadata": {},
   "outputs": [],
   "source": [
    "my.person <- list( measurements, self.reporting, \n",
    "                   sex, parents)\n",
    "my.person"
   ]
  },
  {
   "cell_type": "markdown",
   "metadata": {},
   "source": [
    "Lists are Filing Cabinets\n",
    "========================================================\n",
    "* Single bracket accessing"
   ]
  },
  {
   "cell_type": "code",
   "execution_count": null,
   "metadata": {},
   "outputs": [],
   "source": [
    "my.person[1:2]"
   ]
  },
  {
   "cell_type": "markdown",
   "metadata": {},
   "source": [
    "* Double bracket accessing"
   ]
  },
  {
   "cell_type": "code",
   "execution_count": null,
   "metadata": {},
   "outputs": [],
   "source": [
    "my.person[[1]]"
   ]
  },
  {
   "cell_type": "markdown",
   "metadata": {},
   "source": [
    "Lists are Filing Cabinets\n",
    "========================================================"
   ]
  },
  {
   "cell_type": "code",
   "execution_count": null,
   "metadata": {},
   "outputs": [],
   "source": [
    "my.person <- list( measure = measurements, \n",
    "                   self.measure = self.reporting, \n",
    "                   s = sex, \n",
    "                   parents = parents )\n",
    "my.person"
   ]
  },
  {
   "cell_type": "code",
   "execution_count": null,
   "metadata": {},
   "outputs": [],
   "source": [
    "my.person$parents"
   ]
  },
  {
   "cell_type": "markdown",
   "metadata": {},
   "source": [
    "The data.frame object\n",
    "========================================================\n",
    "* a data.frame is:\n",
    "  + a matrix with columns of potentially different data types, and\n",
    "  + a `list` with vector elements of equal length"
   ]
  },
  {
   "cell_type": "code",
   "execution_count": null,
   "metadata": {},
   "outputs": [],
   "source": [
    "x <- 11:16\n",
    "y <- seq(0,1,.2)\n",
    "z <- c( \"one\", \"two\", \"three\", \"four\", \"five\", \"six\" )\n",
    "a <- factor( z )"
   ]
  },
  {
   "cell_type": "code",
   "execution_count": null,
   "metadata": {},
   "outputs": [],
   "source": [
    "test.dataframe <- data.frame(x,y,z,a)"
   ]
  },
  {
   "cell_type": "markdown",
   "metadata": {},
   "source": [
    "Accessing data.frame elements\n",
    "========================================================"
   ]
  },
  {
   "cell_type": "code",
   "execution_count": null,
   "metadata": {},
   "outputs": [],
   "source": [
    "test.dataframe[[4]]"
   ]
  },
  {
   "cell_type": "code",
   "execution_count": null,
   "metadata": {},
   "outputs": [],
   "source": [
    "test.dataframe$parents"
   ]
  },
  {
   "cell_type": "markdown",
   "metadata": {},
   "source": [
    "Columns of a data.frame May Contain Different Data Modes\n",
    "========================================================"
   ]
  },
  {
   "cell_type": "code",
   "execution_count": null,
   "metadata": {},
   "outputs": [],
   "source": [
    "class( test.dataframe[[1]] )"
   ]
  },
  {
   "cell_type": "code",
   "execution_count": null,
   "metadata": {},
   "outputs": [],
   "source": [
    "class( test.dataframe[[2]] )"
   ]
  },
  {
   "cell_type": "code",
   "execution_count": null,
   "metadata": {},
   "outputs": [],
   "source": [
    "class( test.dataframe[[3]] )"
   ]
  },
  {
   "cell_type": "code",
   "execution_count": null,
   "metadata": {},
   "outputs": [],
   "source": [
    "class( test.dataframe[[4]] )"
   ]
  },
  {
   "cell_type": "markdown",
   "metadata": {},
   "source": [
    "Combining Data Frames\n",
    "========================================================\n",
    "* binding columns with common row names"
   ]
  },
  {
   "cell_type": "code",
   "execution_count": null,
   "metadata": {},
   "outputs": [],
   "source": [
    "mini.frame.one <- data.frame( \"one\" = 1:5 )\n",
    "mini.frame.two <- data.frame( \"two\" = 6:10 )"
   ]
  },
  {
   "cell_type": "code",
   "execution_count": null,
   "metadata": {},
   "outputs": [],
   "source": [
    "cbind( mini.frame.one, mini.frame.two )"
   ]
  },
  {
   "cell_type": "markdown",
   "metadata": {},
   "source": [
    "Alternatively: ```c( mini.frame.one, mini.frame.two )```\n",
    "\n",
    "* rbind for binding rows ( with common column names )\n",
    "\n",
    "Updating Data Frames\n",
    "========================================================\n",
    "\n",
    "\\small"
   ]
  },
  {
   "cell_type": "code",
   "execution_count": null,
   "metadata": {},
   "outputs": [],
   "source": [
    "test.dataframe"
   ]
  },
  {
   "cell_type": "code",
   "execution_count": null,
   "metadata": {},
   "outputs": [],
   "source": [
    "test.dataframe[[1]] = 21:26\n",
    "test.dataframe"
   ]
  },
  {
   "cell_type": "markdown",
   "metadata": {},
   "source": [
    "Navigating Directories\n",
    "========================================================\n",
    "- Paths start at where you opened R in the terminal\n",
    "  + Home directory for RStudio\n",
    "- \"/\" inside a folder\n",
    "- \"parent_folder/inside_folder\"\n",
    "- \"..\" move up one\n",
    "- \"../..\" move up two\n",
    "- getwd()\n",
    "- setwd()\n",
    "\n",
    "Reading Tables\n",
    "========================================================\n",
    "- `read.table`\n",
    "- `read.csv`\n",
    "- `read.delim`\n",
    "\n",
    "Example: Cholesterol vs. Age\n",
    "========================================================"
   ]
  },
  {
   "cell_type": "code",
   "execution_count": null,
   "metadata": {},
   "outputs": [],
   "source": [
    "chol <- read.delim(\"https://raw.githubusercontent.com/waldronlab/BIOS2/master/Session1/cholesterol.tsv\", row.names=NULL)\n",
    "summary(chol)"
   ]
  },
  {
   "cell_type": "markdown",
   "metadata": {},
   "source": [
    "Example: Cholesterol vs. Age linear model\n",
    "========================================================"
   ]
  },
  {
   "cell_type": "code",
   "execution_count": null,
   "metadata": {},
   "outputs": [],
   "source": [
    "fit <- lm(cholesterol ~ age * state, data=chol)\n",
    "summary(fit)"
   ]
  },
  {
   "cell_type": "markdown",
   "metadata": {},
   "source": [
    "Example: Cholesterol vs. Age ANOVA table\n",
    "========================================================"
   ]
  },
  {
   "cell_type": "code",
   "execution_count": null,
   "metadata": {},
   "outputs": [],
   "source": [
    "anova(fit)"
   ]
  },
  {
   "cell_type": "markdown",
   "metadata": {},
   "source": [
    "Example: Cholesterol vs. Age diagnostic plots\n",
    "========================================================"
   ]
  },
  {
   "cell_type": "code",
   "execution_count": null,
   "metadata": {},
   "outputs": [],
   "source": [
    "plot(fit)"
   ]
  },
  {
   "cell_type": "markdown",
   "metadata": {},
   "source": [
    "Example: Cholesterol vs. Age partial F-test\n",
    "========================================================"
   ]
  },
  {
   "cell_type": "code",
   "execution_count": null,
   "metadata": {},
   "outputs": [],
   "source": [
    "fit1 <- lm(cholesterol ~ state, data=chol)\n",
    "fit2 <- lm(cholesterol ~ state + age, data=chol)\n",
    "anova(fit1, fit2)"
   ]
  },
  {
   "cell_type": "markdown",
   "metadata": {},
   "source": [
    "Example: Cholesterol vs. Age backwards selection\n",
    "========================================================"
   ]
  },
  {
   "cell_type": "code",
   "execution_count": null,
   "metadata": {},
   "outputs": [],
   "source": [
    "library(MASS)\n",
    "fit <- lm(cholesterol ~ age * state, data=chol)\n",
    "step <- stepAIC(fit, direction=\"backward\")"
   ]
  },
  {
   "cell_type": "markdown",
   "metadata": {},
   "source": [
    "**AIC = Akaike's Information Criterion**"
   ]
  }
 ],
 "metadata": {
  "kernelspec": {
   "display_name": "R",
   "language": "R",
   "name": "r"
  },
  "language_info": {
   "codemirror_mode": "r",
   "file_extension": ".r",
   "mimetype": "text/x-r-source",
   "name": "R",
   "pygments_lexer": "r",
   "version": "3.4.1"
  }
 },
 "nbformat": 4,
 "nbformat_minor": 2
}
