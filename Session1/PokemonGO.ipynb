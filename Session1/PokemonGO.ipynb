{
 "cells": [
  {
   "cell_type": "markdown",
   "metadata": {},
   "source": [
    "# Pokemon GO data analysis\n",
    "\n",
    "Levi Waldron"
   ]
  },
  {
   "cell_type": "markdown",
   "metadata": {},
   "source": [
    "# Load the Pokemon dataset\n",
    "\n",
    "Pokemon dataset from https://www.openintro.org/stat/data/?data=pokemon.\n",
    "\n",
    "Option 1, after downloading the csv file to the same directory as this script:"
   ]
  },
  {
   "cell_type": "code",
   "execution_count": null,
   "metadata": {
    "attributes": {
     "classes": [],
     "eval": "FALSE",
     "id": ""
    }
   },
   "outputs": [],
   "source": [
    "pokemon = read.csv(\"pokemon.csv\")"
   ]
  },
  {
   "cell_type": "markdown",
   "metadata": {},
   "source": [
    "Option 2, downloading from the internet:"
   ]
  },
  {
   "cell_type": "code",
   "execution_count": null,
   "metadata": {},
   "outputs": [],
   "source": [
    "pokemon = read.csv(\"https://www.openintro.org/stat/data/pokemon.csv\")"
   ]
  },
  {
   "cell_type": "markdown",
   "metadata": {},
   "source": [
    "# Linear models on Combat Power"
   ]
  },
  {
   "cell_type": "code",
   "execution_count": null,
   "metadata": {},
   "outputs": [],
   "source": [
    "pfit = lm(cp ~ species + hp + weight + height, data=pokemon)\n",
    "pfit2 = lm(cp ~ (species + hp + weight + height)^2, data=pokemon) #all 2-way interactions\n",
    "pfit3 = lm(cp ~ . - notes - name - attack_weak, data=pokemon)  # all available predictors except for notes, names, and attack_weak."
   ]
  },
  {
   "cell_type": "markdown",
   "metadata": {},
   "source": [
    "# `dplyr` introduction\n",
    "\n",
    "Help at https://www.rstudio.com/wp-content/uploads/2015/02/data-wrangling-cheatsheet.pdf\n",
    "\n",
    "Create a dataset that excludes all columns whose name ends in \"new\" (notice the - before `ends_with()`:"
   ]
  },
  {
   "cell_type": "code",
   "execution_count": null,
   "metadata": {},
   "outputs": [],
   "source": [
    "library(dplyr)\n",
    "pokemon2 = select(pokemon, -ends_with(\"new\"))"
   ]
  },
  {
   "cell_type": "markdown",
   "metadata": {},
   "source": [
    "Exclude columns whose name ends in new, then keep only rows where the species is \"Pidgey\":"
   ]
  },
  {
   "cell_type": "code",
   "execution_count": null,
   "metadata": {},
   "outputs": [],
   "source": [
    "pokemon2 = pokemon %>% \n",
    "  select(-ends_with(\"new\")) %>%\n",
    "  filter(species == \"Pidgey\")\n",
    "summary(pokemon$species)\n",
    "summary(pokemon2$species)"
   ]
  },
  {
   "cell_type": "markdown",
   "metadata": {},
   "source": [
    "# `ggplot2` introduction\n",
    "\n",
    "Help at https://www.rstudio.com/wp-content/uploads/2015/03/ggplot2-cheatsheet.pdf\n",
    "\n",
    "## A blank canvas\n",
    "`ggplot2` plots are built up piece by piece. The following creates a blank plot, and store all the data to make that plot and build on it in the `myplot` object:"
   ]
  },
  {
   "cell_type": "code",
   "execution_count": null,
   "metadata": {},
   "outputs": [],
   "source": [
    "library(ggplot2)\n",
    "myplot = ggplot(aes(cp, cp_new), data=pokemon)"
   ]
  },
  {
   "cell_type": "markdown",
   "metadata": {},
   "source": [
    "## A scatterplot\n",
    "To add a scatterplot with colors and a legend, just add a `geom_point()` call. We could save this to a new object, like `myplot2`, but in this example we won't create any new object, just make a scatterplot:"
   ]
  },
  {
   "cell_type": "code",
   "execution_count": null,
   "metadata": {},
   "outputs": [],
   "source": [
    "myplot + geom_point(aes(color=species))"
   ]
  },
  {
   "cell_type": "markdown",
   "metadata": {},
   "source": [
    "## A scatterplot plus regression lines\n",
    "Try doing the following one by one, just adding new things to the existing plot. These functions are all documented in the `ggplot2` cheat sheet. You can also try skipping some of the lines. Note that nothing will happen until there is a line that doesn't end in \"+\""
   ]
  },
  {
   "cell_type": "code",
   "execution_count": null,
   "metadata": {},
   "outputs": [],
   "source": [
    "ggplot(aes(cp, cp_new), data=pokemon) +\n",
    "  geom_point(aes(color=species)) +  #scatterplot\n",
    "  geom_smooth(method=\"lm\") +  #linear regression line and confidence bands\n",
    "  theme_bw()  #get rid of the grey background"
   ]
  },
  {
   "cell_type": "markdown",
   "metadata": {},
   "source": [
    "## Boxplot\n",
    "\n",
    "Now let's make a boxplot:"
   ]
  },
  {
   "cell_type": "code",
   "execution_count": null,
   "metadata": {},
   "outputs": [],
   "source": [
    "ggplot(aes(species, cp), data=pokemon) +\n",
    "  geom_boxplot(fill=\"grey\") +\n",
    "  ggtitle(\"Combat Power by Species\") +\n",
    "  xlab(\"Species\") + \n",
    "  ylab(\"Combat Power\") +\n",
    "  theme_bw()"
   ]
  },
  {
   "cell_type": "markdown",
   "metadata": {},
   "source": [
    "Try other kinds of plots, `geom_violin` and `geom_dotplot`..."
   ]
  }
 ],
 "metadata": {
  "kernelspec": {
   "display_name": "R",
   "language": "R",
   "name": "r"
  },
  "language_info": {
   "codemirror_mode": "r",
   "file_extension": ".r",
   "mimetype": "text/x-r-source",
   "name": "R",
   "pygments_lexer": "r",
   "version": "3.4.1"
  }
 },
 "nbformat": 4,
 "nbformat_minor": 2
}
