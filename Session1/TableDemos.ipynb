{
 "cells": [
  {
   "cell_type": "markdown",
   "metadata": {},
   "source": [
    "# Quick but powerful demos\n",
    "\n",
    "**Levi Waldron**\n",
    "\n",
    "This is using a Jupyter notebook"
   ]
  },
  {
   "cell_type": "markdown",
   "metadata": {},
   "source": [
    "# glm example"
   ]
  },
  {
   "cell_type": "code",
   "execution_count": null,
   "metadata": {},
   "outputs": [],
   "source": [
    "counts <- c(18,17,15,20,10,20,25,13,12)\n",
    "outcome <- gl(3,1,9)\n",
    "treatment <- gl(3,3)\n",
    "print(d.AD <- data.frame(treatment, outcome, counts))\n",
    "glm.D93 <- glm(counts ~ outcome + treatment, family = poisson())\n",
    "anova(glm.D93)\n",
    "summary(glm.D93)"
   ]
  },
  {
   "cell_type": "markdown",
   "metadata": {},
   "source": [
    "# stargazer example"
   ]
  },
  {
   "cell_type": "code",
   "execution_count": null,
   "metadata": {},
   "outputs": [],
   "source": [
    "library(\"stargazer\")\n",
    "stargazer(attitude, type=\"text\")"
   ]
  },
  {
   "cell_type": "markdown",
   "metadata": {},
   "source": [
    "# kable example"
   ]
  },
  {
   "cell_type": "code",
   "execution_count": null,
   "metadata": {},
   "outputs": [],
   "source": [
    "library(knitr)\n",
    "library(kableExtra)\n",
    "library(IRdisplay)\n",
    "\n",
    "mtcars %>%\n",
    "  kable(\"html\") %>%\n",
    "  row_spec(which(mtcars$mpg > 20), bold = T, color = \"red\") %>%\n",
    "  as.character() %>%\n",
    "  display_html()"
   ]
  },
  {
   "cell_type": "markdown",
   "metadata": {},
   "source": [
    "# Another stargazer example"
   ]
  },
  {
   "cell_type": "code",
   "execution_count": null,
   "metadata": {},
   "outputs": [],
   "source": [
    "##  2 OLS models\n",
    "linear.1 <- lm(rating ~ complaints + privileges + learning \n",
    "                        + raises + critical, data=attitude)\n",
    "\n",
    "linear.2 <- lm(rating ~ complaints + privileges + learning, data=attitude)\n",
    "\n",
    "## create an indicator dependent variable, and run a probit model\n",
    " \n",
    "attitude$high.rating <- (attitude$rating > 70)\n",
    "probit.model <- glm(high.rating ~ learning + critical + advance, data=attitude,\n",
    "                    family = binomial(link = \"probit\"))\n",
    " \n",
    "stargazer(linear.1, linear.2, probit.model, title=\"Regression Results\", type=\"text\")"
   ]
  },
  {
   "cell_type": "markdown",
   "metadata": {},
   "source": [
    "# Tableone example"
   ]
  },
  {
   "cell_type": "code",
   "execution_count": null,
   "metadata": {},
   "outputs": [],
   "source": [
    "## from https://cran.r-project.org/web/packages/tableone/vignettes/introduction.html\n",
    "## tableone package itself\n",
    "library(tableone)\n",
    "## survival pcakge for Mayo Clinic's PBC data\n",
    "library(survival)\n",
    "data(pbc)\n",
    "CreateTableOne(data = pbc)"
   ]
  },
  {
   "cell_type": "code",
   "execution_count": null,
   "metadata": {},
   "outputs": [],
   "source": [
    "## Vector of variables to summarize\n",
    "myVars <- c(\"time\", \"status\", \"trt\", \"age\", \"sex\", \"ascites\", \"hepato\",\n",
    "          \"spiders\", \"edema\", \"bili\", \"chol\", \"albumin\", \"copper\", \"alk.phos\",\n",
    "          \"ast\", \"trig\", \"platelet\", \"protime\", \"stage\")\n",
    "## Vector of categorical variables that need transformation\n",
    "catVars <- c(\"status\", \"trt\", \"ascites\", \"hepato\",\n",
    "             \"spiders\", \"edema\", \"stage\")\n",
    "## Create a TableOne object\n",
    "tab2 <- CreateTableOne(vars = myVars, data = pbc, factorVars = catVars)\n",
    "tab2"
   ]
  },
  {
   "cell_type": "code",
   "execution_count": null,
   "metadata": {},
   "outputs": [],
   "source": [
    "sessionInfo()"
   ]
  }
 ],
 "metadata": {
  "kernelspec": {
   "display_name": "R",
   "language": "R",
   "name": "r"
  },
  "language_info": {
   "codemirror_mode": "r",
   "file_extension": ".r",
   "mimetype": "text/x-r-source",
   "name": "R",
   "pygments_lexer": "r",
   "version": "3.4.1"
  }
 },
 "nbformat": 4,
 "nbformat_minor": 2
}
