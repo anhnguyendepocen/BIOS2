{
 "cells": [
  {
   "cell_type": "markdown",
   "metadata": {},
   "source": [
    "# Session 10: Repeated Measures and Longitudinal Data Analysis II\n",
    "\n",
    "\n",
    "# Welcome and outline - session 10\n",
    "\n",
    "* Learning objectives\n",
    "    - identify hierarchical data\n",
    "    - define mixed effects models and population average models\n",
    "    - perform model diagnostics for random effects models\n",
    "    - interpret random intercepts and random slopes\n",
    "\n",
    "* Vittinghoff sections 8.2, 8.3, 8.5\n",
    "\n",
    "# Recall the simple repeated measures example: fecal fat\n",
    "\n",
    "* Lack of digestive enzymes in the intestine can cause bowel absorption problems.\n",
    "     - This will be indicated by excess fat in the feces. \n",
    "     - Pancreatic enzyme supplements can alleviate the problem.\n",
    "     - fecfat.csv: a study of fecal fat quantity (g/day) for individuals given each of a placebo and 3 types of pills\n",
    "     \n",
    "![Fecal Fat dataset](VittinghoffTable71.png)"
   ]
  },
  {
   "cell_type": "code",
   "execution_count": null,
   "metadata": {
    "attributes": {
     "classes": [],
     "echo": "FALSE",
     "id": ""
    }
   },
   "outputs": [],
   "source": [
    "fecfat <- read.csv(\"fecfat.csv\")\n",
    "fecfat$pilltype <- factor(fecfat$pilltype, levels=c(\"none\", \"tablet\", \"capsule\", \"coated\"))\n",
    "fecfat$subject <- factor(fecfat$subject)"
   ]
  },
  {
   "cell_type": "markdown",
   "metadata": {},
   "source": [
    "# Fecal fat dataset"
   ]
  },
  {
   "cell_type": "code",
   "execution_count": null,
   "metadata": {
    "attributes": {
     "classes": [],
     "echo": "FALSE,",
     "fig.height": "6,",
     "id": "",
     "warning": "FALSE"
    }
   },
   "outputs": [],
   "source": [
    "fecfat$fecfatminusmean <- residuals(lm(fecfat ~ subject, data=fecfat))\n",
    "par(mfrow=c(1,2), cex=1.35)\n",
    "library(RColorBrewer)\n",
    "# colors from display.brewer.all(n=3)\n",
    "mycols <- c(\"white\", brewer.pal(n=3, \"Pastel2\"))\n",
    "boxplot(fecfat ~ pilltype, data=fecfat,\n",
    "        notch=TRUE,\n",
    "        col=mycols, \n",
    "        xlab=\"Treatment\", ylab=\"Fecal Fat (mg/day)\")\n",
    "stripchart(fecfat ~ pilltype, data=fecfat, vertical=TRUE, pch=20,\n",
    "           method=\"jitter\", jitter=0.1, add=TRUE)\n",
    "interaction.plot(x.factor=fecfat$pilltype, \n",
    "                 trace.factor=fecfat$subject, \n",
    "                 response=fecfat$fecfat, \n",
    "                 xlab=\"Treatment\", ylab=\"Fecal Fat (mg/day)\",\n",
    "                 legend=FALSE)"
   ]
  },
  {
   "cell_type": "markdown",
   "metadata": {},
   "source": [
    "# Analysis strategies for hierarchical data\n",
    "\n",
    "* Analyses for each subgroup\n",
    "    - e.g., look at each patient independently\n",
    "    - doesn't work at all in this example, and in general is not an integrated analysis of the whole data\n",
    "    - could sort of work for an example with many patients per doctor, a few doctors\n",
    "    \n",
    "* Analysis at the highest level in the hierarchy\n",
    "    - first summarize data to highest level\n",
    "    - doesn't work at all in this example\n",
    "    - could sort of work for an example with many patients per doctor, a few doctors\n",
    "\n",
    "* Analysis on \"Derived Variables\"\n",
    "    - consider each treatment type separately, take differences in fat levels between treatment/control for each patient and use paired t-tests\n",
    "    - can work, but not work for unbalanced groups (e.g. incomplete data for some participants)\n",
    "\n",
    "# Better analysis strategies for hierarchical data\n",
    "\n",
    "* Fixed effects models\n",
    "* Random / mixed effects models\n",
    "    - model certain regression coefficients (intercept, slopes) as random variables\n",
    "* Population average models\n",
    "    - using Generalized Estimating Equations (GEE)\n",
    "\n",
    "# When is hierarchical analysis needed?\n",
    "\n",
    "* Hierarchical analysis strategies are needed:\n",
    "     1. when the correlation structure is of primary interest, _e.g._ familial aggregation of disease, or consistency of treatment within centers,\n",
    "     2. when we wish to “borrow strength” across the levels of a hierarchy in order to improve estimates, and\n",
    "     3. when dealing with unbalanced, correlated data.\n",
    "\n",
    "# Fixed effects: two-way analysis of variance\n",
    "\n",
    "* Two-way ANOVA (person $i$ with pill type $j$):\n",
    "$$\n",
    "FECFAT_{ij} = \\beta_0 + \\beta_{subject i} SUBJECT_i + \\beta_{pilltype j} PILLTYPE_j + \\epsilon_{ij}\n",
    "$$\n",
    "Assumption: $\\epsilon_i \\stackrel{iid}{\\sim} N(0, \\sigma_\\epsilon^2)$\n",
    "\n",
    "\\footnotesize"
   ]
  },
  {
   "cell_type": "code",
   "execution_count": null,
   "metadata": {
    "attributes": {
     "classes": [],
     "echo": "FALSE,",
     "id": "",
     "message": "FALSE",
     "results": "'asis',"
    }
   },
   "outputs": [],
   "source": [
    "library(xtable)\n",
    "fit2 <- lm(fecfat ~ subject + pilltype, data=fecfat)\n",
    "print(xtable(anova(fit2), caption=\"Two-way analysis of variance table.  Equivalent to subtracting the mean fecal fat content for each individual.\"), comment=FALSE)"
   ]
  },
  {
   "cell_type": "markdown",
   "metadata": {},
   "source": [
    "\\normalsize\n",
    "* Accounts for individual differences in mean fecal fat\n",
    "* Fits a coefficient for mean fecal fat per indivudual\n",
    "\n",
    "\n",
    "# Mixed effects model\n",
    "\n",
    "* Model looks like two-way ANOVA:\n",
    "$$\n",
    "FECFAT_{ij} = \\beta_0 + \\beta_{subject i} SUBJECT_i + \\beta_{pilltype j} PILLTYPE_j + \\epsilon_{ij}\n",
    "$$\n",
    "     - Assumption: $\\epsilon_i \\stackrel{iid}{\\sim} N(0, \\sigma_\\epsilon^2)$\n",
    "\n",
    "* But instead of fitting a $\\beta$ to each individual, we assume that the subject effects are selected from a distribution of possible subject effects:\n",
    "$$\n",
    "FECFAT_{ij} = \\beta_0 + SUBJECT_i + \\beta_{pilltype j} PILLTYPE_j + \\epsilon_{ij}\n",
    "$$\n",
    "\n",
    "Where we assume: $SUBJECT_i \\stackrel{iid}{\\sim} N(0, \\tau_{00}^2)$\n",
    "\n",
    "* This is a *mixed effects* model because:\n",
    "    - the \"true\" intercept varies randomly from patient to patient\n",
    "    - the \"true\" (population) coefficient of treatment is fixed (the same for everyone)\n",
    "\n",
    "# Mixed effects model coeffients, variances, ICC"
   ]
  },
  {
   "cell_type": "code",
   "execution_count": null,
   "metadata": {
    "attributes": {
     "classes": [],
     "echo": "FALSE",
     "id": ""
    }
   },
   "outputs": [],
   "source": [
    "##Shortcut for calculating ICC from an lme object:\n",
    "ICClme <- function(out){\n",
    "  varests <- as.numeric(VarCorr(out)[1:2])\n",
    "  varests[1] / sum(varests)\n",
    "}"
   ]
  },
  {
   "cell_type": "markdown",
   "metadata": {},
   "source": [
    "\\tiny"
   ]
  },
  {
   "cell_type": "code",
   "execution_count": null,
   "metadata": {
    "attributes": {
     "classes": [],
     "echo": "FALSE",
     "id": "",
     "message": "FALSE,"
    }
   },
   "outputs": [],
   "source": [
    "library(nlme)\n",
    "fitmix <- nlme::lme(fecfat ~ pilltype, data=fecfat, random=~1|subject)\n",
    "fitmix"
   ]
  },
  {
   "cell_type": "markdown",
   "metadata": {},
   "source": [
    "$ICC = 15.9^2 / (15.9^2 + 10.34^2)$ = `r round(15.9^2 / (15.9^2 + 10.34^2), 2)` = `r round(ICClme(fitmix), 2)`.\n",
    "\n",
    "\\normalsize\n",
    "\n",
    "* Recall ICC is a measure of how large the subject effect is, in relation to the error term\n",
    "* Variances were estimated directly by the model!\n",
    "\n",
    "# Assumptions of the mixed model\n",
    "\n",
    "$$\n",
    "FECFAT_{ij} = \\beta_0 + SUBJECT_i + \\beta_{pilltype j} PILLTYPE_j + \\epsilon_{ij}\n",
    "$$\n",
    "\n",
    "* Normally distributed residuals as in fixed effects model: \n",
    "    - $\\epsilon_i \\stackrel{iid}{\\sim} N(0, \\sigma_\\epsilon^2)$\n",
    "* Normally distributed **latent variable**:\n",
    "    - $SUBJECT_i \\stackrel{iid}{\\sim} N(0, \\tau_{00}^2)$\n",
    "\n",
    "# Mixed effects model results (cont'd)\n",
    "A plot of the random intercept:"
   ]
  },
  {
   "cell_type": "code",
   "execution_count": null,
   "metadata": {
    "attributes": {
     "classes": [],
     "echo": "FALSE",
     "id": ""
    }
   },
   "outputs": [],
   "source": [
    "par(cex=2)\n",
    "plot(ranef(fitmix), cex=2)"
   ]
  },
  {
   "cell_type": "markdown",
   "metadata": {},
   "source": [
    "# Mixed effects model diagnostics"
   ]
  },
  {
   "cell_type": "code",
   "execution_count": null,
   "metadata": {
    "attributes": {
     "classes": [],
     "echo": "FALSE",
     "id": ""
    }
   },
   "outputs": [],
   "source": [
    "par(mfrow=c(1,2), cex=1.5)\n",
    "qqnorm(residuals(fitmix, type=\"pearson\"), main=\"QQ plot residuals\")\n",
    "qqline(residuals(fitmix, type=\"pearson\"))\n",
    "qqnorm(ranef(fitmix)[, 1], main=\"QQ plot random intercepts\")\n",
    "qqline(ranef(fitmix)[, 1])"
   ]
  },
  {
   "cell_type": "markdown",
   "metadata": {},
   "source": [
    "# Mixed effects model results\n"
   ]
  },
  {
   "cell_type": "code",
   "execution_count": null,
   "metadata": {
    "attributes": {
     "classes": [],
     "echo": "FALSE",
     "id": ""
    }
   },
   "outputs": [],
   "source": [
    "summary(fitmix)"
   ]
  },
  {
   "cell_type": "markdown",
   "metadata": {},
   "source": [
    "\n",
    "* Note: correlation of the estimator of the fixed effects\n",
    "    + high correlations may (but not necessarily) be due to collinearity\n",
    "    + not usually useful, not included in output of some packages\n",
    "\n",
    "# Mixed effects model results (cont'd)\n",
    "Inference for variance terms (and fixed effects):\n"
   ]
  },
  {
   "cell_type": "code",
   "execution_count": null,
   "metadata": {
    "attributes": {
     "classes": [],
     "echo": "FALSE",
     "id": ""
    }
   },
   "outputs": [],
   "source": [
    "intervals(fitmix)"
   ]
  },
  {
   "cell_type": "markdown",
   "metadata": {},
   "source": [
    "\n",
    "* Would conclude that variation of the intercept between subjects is non-zero\n",
    "    + not attributable to within-subject variation"
   ]
  },
  {
   "cell_type": "code",
   "execution_count": null,
   "metadata": {},
   "outputs": [],
   "source": [
    "\n",
    "# Longitudinal data\n",
    "* Interested in the change in the value of a variable within a “subject” \n",
    "* Collect data repeatedly through time. \n",
    "* For hierarchical longitudinal analysis to be effective, before/after measurements need to be positively correlated"
   ]
  },
  {
   "cell_type": "code",
   "execution_count": null,
   "metadata": {
    "attributes": {
     "classes": [],
     "echo": "FALSE",
     "id": "",
     "message": "FALSE,"
    }
   },
   "outputs": [],
   "source": [
    "library(nlme)\n",
    "fitmix <- nlme::lme(fecfat ~ pilltype, data=fecfat, random=~1|subject)"
   ]
  },
  {
   "cell_type": "markdown",
   "metadata": {},
   "source": [
    "# Longitudinal data\n",
    "* Interested in the change in the value of a variable within a “subject” \n",
    "* Collect data repeatedly through time. \n",
    "* For hierarchical longitudinal analysis to be effective, before/after measurements need to be positively correlated\n",
    "\n",
    "# Longitudinal data examples\n",
    "\n",
    "* Example 1: a measure of sleepiness before and after administration of treatment or placebo\n",
    "* Example 2: Study of Osteoporotic Fractores (SOF dataset)\n",
    "     - 9,704 women tracked with clinical visits every two years\n",
    "     - Bone Mineral Density (BMD), Body Mass Index (BMI), many other variables\n",
    "* Questions for Example 2:\n",
    "     1. Is change in BMD related to age at menopause?  This is a time-invariant predictor, age at menopause, with time-dependent changes in the outcome, BMD.\n",
    "     2. Is change in BMD related to change in BMI? This is an analysis relating a time-varying predictor, BMI, with changes in the outcome, BMD. BMI varies quite a lot between women, but also varies within a woman over time.\n",
    "\n",
    "# Longitudinal data examples (cont'd)\n",
    "\n",
    "* birthweight and birth order\n",
    "* provides birthweights and order of infants from mothers who had 5 children in Georgia\n",
    "     - interested in whether birthweight of babies changes with order\n",
    "     - whether this difference depends on the _mother's age at first childbirth_ or on the _weight of initial baby_."
   ]
  },
  {
   "cell_type": "code",
   "execution_count": null,
   "metadata": {
    "attributes": {
     "classes": [],
     "echo": "FALSE",
     "id": ""
    }
   },
   "outputs": [],
   "source": [
    "ga <- read.csv(\"gababies.csv\")\n",
    "ga$momage[ga$momage==99] <- NA\n",
    "ga$agebin <- cut(ga$initage, breaks=c(0, 20, 100))\n",
    "##ga <- ga[ga$birthord %in% c(1, 5), ]\n",
    "ga$momid=factor(ga$momid)\n",
    "ga$lowbrth=factor(ga$lowbrth, levels=0:1, labels=c(\"normal\", \"low\"))"
   ]
  },
  {
   "cell_type": "markdown",
   "metadata": {},
   "source": [
    "# Georgia Birthweights dataset\n",
    "\"Spaghetti\" plot:"
   ]
  },
  {
   "cell_type": "code",
   "execution_count": null,
   "metadata": {
    "attributes": {
     "classes": [],
     "echo": "FALSE",
     "id": ""
    }
   },
   "outputs": [],
   "source": [
    "interaction.plot(x.factor=ga$birthord, \n",
    "                 trace.factor=ga$momid, \n",
    "                 response=ga$bweight, \n",
    "                 xlab=\"Birth Order\", ylab=\"Birth Weight (g)\",\n",
    "                 legend=FALSE)"
   ]
  },
  {
   "cell_type": "markdown",
   "metadata": {},
   "source": [
    "# Georgia Birthweights dataset\n",
    "* Do birth weights or the effect of birth order vary by mother?\n",
    "     + random intercept, random slope"
   ]
  },
  {
   "cell_type": "code",
   "execution_count": null,
   "metadata": {},
   "outputs": [],
   "source": [
    "gafit1 <- nlme::lme(bweight ~ birthord, data=ga, \n",
    "    random=~birthord|momid,\n",
    "    na.action=na.omit,\n",
    "    control=list(msMaxIter=600, msMaxEval=600, \n",
    "                 sing.tol=1e-20, msVerbose=FALSE))  "
   ]
  },
  {
   "cell_type": "markdown",
   "metadata": {},
   "source": [
    "Note: the control argument increases the max # iterations to allow convergence. If `msVerbose=TRUE`, it produces verbose output.\n",
    "\n",
    "# Georgia Birthweights dataset (cont'd)"
   ]
  },
  {
   "cell_type": "code",
   "execution_count": null,
   "metadata": {
    "attributes": {
     "classes": [],
     "echo": "FALSE",
     "id": ""
    }
   },
   "outputs": [],
   "source": [
    "plot(ranef(gafit1))"
   ]
  },
  {
   "cell_type": "markdown",
   "metadata": {},
   "source": [
    "# Georgia Birthweights dataset (cont'd)\n"
   ]
  },
  {
   "cell_type": "code",
   "execution_count": null,
   "metadata": {},
   "outputs": [],
   "source": [
    "summary(gafit1)"
   ]
  },
  {
   "cell_type": "markdown",
   "metadata": {},
   "source": [
    "# Georgia Birthweights dataset (cont'd)"
   ]
  },
  {
   "cell_type": "code",
   "execution_count": null,
   "metadata": {},
   "outputs": [],
   "source": [
    "intervals(gafit1)"
   ]
  },
  {
   "cell_type": "markdown",
   "metadata": {},
   "source": [
    "\n",
    "* Do birth weights or the effect of birth order vary by mother?\n",
    "    - yes: both standard deviations are non-zero\n",
    "\n",
    "# Population Average Models\n",
    "\n",
    "* An alternative to random / mixed-effects models that is more robust to assumptions of:\n",
    "    - distribution of random effects\n",
    "    - correlation structure\n",
    "\n",
    "* Estimates correlation structure from the data rather than assuming normality    \n",
    "    - Requires a fair bit more clusters than observations per cluster\n",
    "\n",
    "* Estimates regression coefficients and robust standard errors\n",
    "    - commonly by Generalized Estimating Equations (GEE)\n",
    "\n",
    "# Population Average Models\n",
    "\n",
    "* Compare mixed model multiple linear regression:\n",
    "$$\n",
    "E[Y_{ij}|X_{ij}] = \\beta_0 + \\alpha_{0j} + \\beta_1 X_{ij}, \\alpha_{0j} \\sim N(0, \\sigma)\n",
    "$$\n",
    "for subject $i$ in group $j$.\n",
    "\n",
    "* to a population average model:\n",
    "$$\n",
    "E[Y_{ij}|X_{ij}] = \\beta_0^* + \\beta_1^* X_{ij}\n",
    "$$\n",
    "\n",
    "* Interpretations of $\\beta^*$ and $\\beta$ are equivalent\n",
    "* Numerically equivalent for linear and log-linear models (if specification of mixed model is correct), but not for logistic link.\n",
    "\n",
    "\n",
    "# Fit a population average model\n"
   ]
  },
  {
   "cell_type": "code",
   "execution_count": null,
   "metadata": {
    "attributes": {
     "classes": [],
     "id": "",
     "message": "FALSE,",
     "results": "\"hide\""
    }
   },
   "outputs": [],
   "source": [
    "gafit.gee <- gee::gee(bweight ~ birthord, corstr=\"exchangeable\",\n",
    "                      id=momid, data=ga)"
   ]
  },
  {
   "cell_type": "code",
   "execution_count": null,
   "metadata": {},
   "outputs": [],
   "source": [
    "summary(gafit.gee)"
   ]
  },
  {
   "cell_type": "markdown",
   "metadata": {},
   "source": [
    "# GEE working correlation types\n",
    "\n",
    "* Must make some assumption about form correlation among observations from the same subject, same hospital, etc\n",
    "\n",
    "* Independence\n",
    "    - no correlation between measurements within group\n",
    "* Exchangeable\n",
    "    - all correlations (except those variables with themselves) are a common value\n",
    "    - nothing to distinguish one member of a cluster from another\n",
    "    - appropriate in the absence of other data structures such as measurements taken through time or space\n",
    "* Auto-regressive\n",
    "    - observations taken more closely in time are more highly correlated\n",
    "\n",
    "# GEE working correlation types\n",
    "\n",
    "* Unstructured\n",
    "    - estimates a separate correlation between observations taken on each pair of \"times\"\n",
    "* Non-stationary\n",
    "    - similar to unstructured, but assumes all correlations for pairs separated far enough in time are zero\n",
    "* Stationary\n",
    "    - e.g. stationary of order 2: observations taken at time points 1 and 3 have the same correlation as time points 2 and 4\n",
    "    - but this might be different from the correlation between observations taken at times 2 and 3\n",
    "    - correlations for observations 3 or more time periods apart assumed to be zero\n",
    "\n",
    "*Fewer assumptions requires more data, and good assumptions improve results*\n",
    "\n",
    "# Help in choosing a method\n",
    "\n",
    "![decision table](journal.pone.0146721.t002.PNG)\n",
    "\n",
    "# Conclusions\n",
    "\n",
    "* Ignoring within-subject correlations can produce very wrong results, and is not always \"conservative\"\n",
    "* Hierarchical analysis strategies are needed for any of:\n",
    "     1. When the correlation structure is of primary interest, _e.g._ familial aggregation of disease, or consistency of treatment within centers,\n",
    "     2. When we wish to “borrow strength” across the levels of a hierarchy in order to improve estimates, and\n",
    "     3. When dealing with unbalanced correlated data.  E.g., no requirement that each Georgia mother have exactly 5 children.\n",
    "* Population average models provide a robust alternative to mixed models\n",
    "    - for one level of hierarchy\n",
    "    \n",
    "# Lab exercise\n",
    "\n",
    "For the fecal fat dataset:\n",
    "1. Fit a linear model with random coefficients for pills, and summarize the output\n",
    "2. Estimate confidence intervals for the coefficients of this model, and interpret them\n",
    "3. Calculate the ICC\n",
    "4. Create residuals plots for this model and interpret\n",
    "5. Fit population average models for the fecal fat dataset using at least two different working correlation structures. Compare the results to each other and to the mixed model"
   ]
  }
 ],
 "metadata": {
  "kernelspec": {
   "display_name": "R",
   "language": "R",
   "name": "ir"
  },
  "language_info": {
   "codemirror_mode": "r",
   "file_extension": ".r",
   "mimetype": "text/x-r-source",
   "name": "R",
   "pygments_lexer": "r",
   "version": "3.5.1"
  }
 },
 "nbformat": 4,
 "nbformat_minor": 2
}
