{
 "cells": [
  {
   "cell_type": "markdown",
   "metadata": {},
   "source": [
    "Session 2 Lab Exercises\n",
    "=================================================\n",
    "\n",
    "1. What is the mean fraction of women using birth control for each age group? Each education level? For women who do or don't want more children?\n",
    "     - Hint: look at the \"data wrangling\" cheat sheet functions `mutate`, `group_by`, and `summarize`\n",
    "2. Based on ```fit1```, write on paper the model for expected probability of using birth control.  Don't forget the logit function.\n",
    "3. Based on ```fit1```, what is the expected probability of an individual 25-29 years old, with high education, who wants more children, using birth control? Calculate it manually, and using `predict(fit1)`\n",
    "4. Based on ```fit1```: Relative to women under 25 who want to have children, what is the predicted increase in odds that a woman 40-49 years old who does _not_ want to have children will be taking birth control?\n",
    "5. Using a likelihood ratio test, is there evidence that a model with interactions improves on ```fit1``` (no interactions)?\n",
    "6. Which, if any, variables have the strongest interactions?"
   ]
  }
 ],
 "metadata": {
  "kernelspec": {
   "display_name": "R",
   "language": "R",
   "name": "ir"
  },
  "language_info": {
   "codemirror_mode": "r",
   "file_extension": ".r",
   "mimetype": "text/x-r-source",
   "name": "R",
   "pygments_lexer": "r",
   "version": "3.5.1"
  }
 },
 "nbformat": 4,
 "nbformat_minor": 2
}
