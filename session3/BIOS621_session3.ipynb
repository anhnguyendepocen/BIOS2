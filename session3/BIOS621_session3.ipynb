{
 "cells": [
  {
   "cell_type": "markdown",
   "metadata": {},
   "source": [
    "\n",
    "# BIOS621 Session 3\n",
    "\n",
    "## Levi Waldron\n",
    "\n",
    "\n",
    "Learning objectives - session 3\n",
    "========================================================\n",
    "\n",
    "* fit and interpret interaction terms\n",
    "* define and interpret model matrices for (generalized) linear models\n",
    "\n",
    "Components of GLM\n",
    "========================================================\n",
    "\n",
    "* **Random component** specifies the conditional distribution for the response variable\n",
    "    + doesn’t have to be normal\n",
    "    + can be any distribution in the \"exponential\" family of distributions\n",
    "* **Systematic component** specifies linear function of predictors (linear predictor)\n",
    "* **Link** [denoted by g(.)] specifies the relationship between the expected value of the random component and the systematic component\n",
    "    + can be linear or nonlinear  \n",
    "\n",
    "Logistic Regression as GLM\n",
    "========================================================\n",
    "\n",
    "* **The model**: \n",
    "$$\n",
    "Logit(P(x)) = log \\left( \\frac{P(x)}{1-P(x)} \\right) = \\beta_0 + \\beta_1 x_{1i} + \\beta_2 x_{2i} + ... + \\beta_p x_{pi}\n",
    "$$\n",
    "\n",
    "* **Random component**: $y_i$ follows a Binomial distribution (outcome is a binary variable)\n",
    "\n",
    "* **Systematic component**: linear predictor \n",
    "$$\n",
    "\\beta_0 + \\beta_1 x_{1i} + \\beta_2 x_{2i} + ... + \\beta_p x_{pi}\n",
    "$$\n",
    "\n",
    "* **Link function**: _logit_ (log of the odds that the event occurs)\n",
    "\n",
    "$$\n",
    "g(P(x)) = logit(P(x)) = log\\left( \\frac{P(x)}{1-P(x)} \\right)\n",
    "$$\n",
    "\n",
    "$$\n",
    "P(x) = g^{-1}\\left( \\beta_0 + \\beta_1 x_{1i} + \\beta_2 x_{2i} + ... + \\beta_p x_{pi}\n",
    " \\right)\n",
    "$$\n",
    "\n",
    "Additive vs. Multiplicative models\n",
    "=================================================\n",
    "\n",
    "* Linear regression is an _additive_ model\n",
    "    + _e.g._ for two binary variables $\\beta_1 = 1.5$, $\\beta_2 = 1.5$.\n",
    "    + If $x_1=1$ and $x_2=1$, this adds 3.0 to $E(y|x)$\n",
    "* Logistic regression is a _multiplicative_ model\n",
    "    + If $x_1=1$ and $x_2=1$, this adds 3.0 to $log(\\frac{P}{1-P})$\n",
    "    + Odds-ratio $\\frac{P}{1-P}$ increases 20-fold: $exp(1.5+1.5)$ or $exp(1.5) * exp(1.5)$\n",
    "\n",
    "Motivating example: contraceptive use data\n",
    "=================================================\n",
    "From http://data.princeton.edu/wws509/datasets/#cuse"
   ]
  },
  {
   "cell_type": "code",
   "execution_count": null,
   "metadata": {
    "attributes": {
     "classes": [],
     "echo": "FALSE",
     "id": ""
    }
   },
   "outputs": [],
   "source": [
    "cuse <- read.table(\"cuse.dat\", header=TRUE)\n",
    "summary(cuse)"
   ]
  },
  {
   "cell_type": "markdown",
   "metadata": {},
   "source": [
    "Motivating example: contraceptive use data\n",
    "=================================================\n",
    "\n",
    "Univariate regression to \"wants more children\" only:"
   ]
  },
  {
   "cell_type": "code",
   "execution_count": null,
   "metadata": {},
   "outputs": [],
   "source": [
    "fit <- glm(cbind(using, notUsing) ~ wantsMore, \n",
    "           data=cuse, family=binomial(\"logit\"))"
   ]
  },
  {
   "cell_type": "code",
   "execution_count": null,
   "metadata": {
    "attributes": {
     "classes": [],
     "echo": "FALSE,",
     "id": "",
     "message": "FALSE",
     "results": "\"asis\","
    }
   },
   "outputs": [],
   "source": [
    "fit.table <- xtable::xtable(fit, label=NULL)\n",
    "print(fit.table, type=\"html\")"
   ]
  },
  {
   "cell_type": "markdown",
   "metadata": {},
   "source": [
    "<p></p>\n",
    "* Interpretation of this table:\n",
    "    * Coefficients for **(Intercept)** and **dummy variables**\n",
    "    * Coefficients are normally distributed when assumptions are correct\n",
    "\n",
    "Interpretation of coefficients\n",
    "================================================="
   ]
  },
  {
   "cell_type": "code",
   "execution_count": null,
   "metadata": {
    "attributes": {
     "classes": [],
     "fig.cap": "\"Diagram of the estimated coefficients in the GLM. The green arrow indicates the Intercept term, which goes from zero to the mean of the reference group (here the 'wantsMore = no' samples). The orange arrow indicates the difference in log-odds of the yes group minus the no group, which is negative in this example. The circles show the individual samples, jittered horizontally to avoid overplotting.\",echo=FALSE",
     "id": ""
    }
   },
   "outputs": [],
   "source": [
    "logit <- function(P) log(P/(1-P))\n",
    "cuse$frac = logit(cuse$using / (cuse$using + cuse$notUsing))\n",
    "set.seed(1) #same jitter in stripchart\n",
    "stripchart(split(cuse$frac, cuse$wantsMore),\n",
    "           main=\"Additive coefficient interpretation on log-odds scale\",\n",
    "           ylab=\"logit(fraction using contraception)\", xlab=\"Wants more children\",\n",
    "           vertical=TRUE, pch=1, method=\"jitter\", las=2)\n",
    "coefs <- coef(fit)##[c(\"(Intercept)\", \"wantsMoreyes\")]\n",
    "a <- -0.15\n",
    "lgth <- .1\n",
    "library(RColorBrewer)\n",
    "cols <- brewer.pal(3,\"Dark2\")\n",
    "abline(h=0)\n",
    "arrows(1+a,0,1+a,coefs[1],lwd=3,col=cols[1],length=lgth)\n",
    "abline(h=coefs[1],col=cols[1])\n",
    "arrows(2+a,coefs[1],2+a,coefs[1]+coefs[2],lwd=3,col=cols[2],length=lgth)\n",
    "abline(h=coefs[1]+coefs[2],col=cols[2])\n",
    "legend(\"topright\",names(coefs),fill=cols,cex=.75,bg=\"white\")"
   ]
  },
  {
   "cell_type": "markdown",
   "metadata": {},
   "source": [
    "Regression on **age**\n",
    "=================================================\n",
    "\n",
    "There are four age groups:"
   ]
  },
  {
   "cell_type": "code",
   "execution_count": null,
   "metadata": {},
   "outputs": [],
   "source": [
    "fit <- glm(cbind(using, notUsing) ~ age, \n",
    "           data=cuse, family=binomial(\"logit\"))"
   ]
  },
  {
   "cell_type": "code",
   "execution_count": null,
   "metadata": {
    "attributes": {
     "classes": [],
     "echo": "FALSE,",
     "id": "",
     "message": "FALSE",
     "results": "\"asis\","
    }
   },
   "outputs": [],
   "source": [
    "fit.table <- xtable::xtable(fit, label=NULL)\n",
    "print(fit.table, type=\"html\")"
   ]
  },
  {
   "cell_type": "markdown",
   "metadata": {},
   "source": [
    "- Interpretation of the dummy variables `age25-29`, `age30-39`, `age40-49`\n",
    "\n",
    "Regression with multiple predictors - model formulae:\n",
    "=================================================\n",
    "\n",
    "symbol  | example | meaning\n",
    "------- | ------------ | --------------------------  \n",
    "+ | + x\t| include this variable  \n",
    "-\t| - x\t| delete this variable  \n",
    ":\t| x : z\t| include the interaction  \n",
    "*\t| x * z\t| include these variables and their interactions  \n",
    "^\t| (u + v + w)^3\t| include these variables and all interactions up to three way\n",
    "1 | -1 | intercept: delete the intercept  \n",
    "\n",
    "Regression on **age** and **wantsMore**\n",
    "================================================="
   ]
  },
  {
   "cell_type": "code",
   "execution_count": null,
   "metadata": {},
   "outputs": [],
   "source": [
    "fit <- glm(cbind(using, notUsing) ~ age + wantsMore, \n",
    "           data=cuse, family=binomial(\"logit\"))"
   ]
  },
  {
   "cell_type": "code",
   "execution_count": null,
   "metadata": {
    "attributes": {
     "classes": [],
     "echo": "FALSE,",
     "id": "",
     "message": "FALSE",
     "results": "\"asis\","
    }
   },
   "outputs": [],
   "source": [
    "fit.table <- xtable::xtable(fit, label=NULL)\n",
    "print(fit.table, type=\"html\")"
   ]
  },
  {
   "cell_type": "markdown",
   "metadata": {},
   "source": [
    "Interaction / Effect Modification\n",
    "=================================================\n",
    "\n",
    "* What if we want to know whether the effect of age is modified by whether the woman wants more children or not?\n",
    "\n",
    "Interaction is modeled as the product of two covariates:\n",
    "$$\n",
    "E[y|x] = \\beta_0 + \\beta_1 x_1 + \\beta_2 x_2 + \\beta_{12} x_1*x_2\n",
    "$$\n",
    "\n",
    "Interaction / Effect Modification (cont'd)\n",
    "============================================"
   ]
  },
  {
   "cell_type": "code",
   "execution_count": null,
   "metadata": {},
   "outputs": [],
   "source": [
    "fit <- glm(cbind(using, notUsing) ~ age * wantsMore, \n",
    "           data=cuse, family=binomial(\"logit\"))"
   ]
  },
  {
   "cell_type": "code",
   "execution_count": null,
   "metadata": {
    "attributes": {
     "classes": [],
     "echo": "FALSE,",
     "id": "",
     "message": "FALSE",
     "results": "\"asis\","
    }
   },
   "outputs": [],
   "source": [
    "fit.table <- xtable::xtable(fit, label=NULL)\n",
    "print(fit.table, type=\"html\")"
   ]
  },
  {
   "cell_type": "markdown",
   "metadata": {},
   "source": [
    "The Design Matrix\n",
    "=================================================\n",
    "\n",
    "* Why the design matrix?\n",
    "    - There are multiple possible and reasonable regression models for a given study design.\n",
    "    - The design matrix is the most generic, flexible way to specify them\n",
    "\n",
    "The Design Matrix\n",
    "=================================================\n",
    "\n",
    "Matrix notation for the multiple linear regression model:\n",
    "\n",
    "$$\n",
    "\\,\n",
    "\\begin{pmatrix}\n",
    "Y_1\\\\\n",
    "Y_2\\\\\n",
    "\\vdots\\\\\n",
    "Y_N\n",
    "\\end{pmatrix} = \n",
    "\\begin{pmatrix}\n",
    "1&x_1\\\\\n",
    "1&x_2\\\\\n",
    "\\vdots\\\\\n",
    "1&x_N\n",
    "\\end{pmatrix}\n",
    "\\begin{pmatrix}\n",
    "\\beta_0\\\\\n",
    "\\beta_1\n",
    "\\end{pmatrix} +\n",
    "\\begin{pmatrix}\n",
    "\\varepsilon_1\\\\\n",
    "\\varepsilon_2\\\\\n",
    "\\vdots\\\\\n",
    "\\varepsilon_N\n",
    "\\end{pmatrix}\n",
    "$$\n",
    "\n",
    "or simply: \n",
    "\n",
    "$$\n",
    "\\mathbf{Y}=\\mathbf{X}\\boldsymbol{\\beta}+\\boldsymbol{\\varepsilon}\n",
    "$$\n",
    "\n",
    "* The design matrix is $\\mathbf{X}$\n",
    "    * which the computer will take as a given when solving for $\\boldsymbol{\\beta}$ by minimizing the sum of squares of residuals $\\boldsymbol{\\varepsilon}$, or maximizing likelihood.\n",
    "    \n",
    "\n",
    "Choice of design matrix\n",
    "=================================================\n",
    "    \n",
    "* the model formula encodes a default model matrix, e.g.:"
   ]
  },
  {
   "cell_type": "code",
   "execution_count": null,
   "metadata": {},
   "outputs": [],
   "source": [
    "group <- factor( c(1, 1, 2, 2) )\n",
    "model.matrix(~ group)"
   ]
  },
  {
   "cell_type": "markdown",
   "metadata": {},
   "source": [
    "Choice of design matrix\n",
    "=================================================\n",
    "\n",
    "What if we forgot to code group as a factor?"
   ]
  },
  {
   "cell_type": "code",
   "execution_count": null,
   "metadata": {},
   "outputs": [],
   "source": [
    "group <- c(1, 1, 2, 2)\n",
    "model.matrix(~ group)"
   ]
  },
  {
   "cell_type": "markdown",
   "metadata": {},
   "source": [
    "More groups, still one variable\n",
    "================================================="
   ]
  },
  {
   "cell_type": "code",
   "execution_count": null,
   "metadata": {},
   "outputs": [],
   "source": [
    "group <- factor(c(1,1,2,2,3,3))\n",
    "model.matrix(~ group)"
   ]
  },
  {
   "cell_type": "markdown",
   "metadata": {},
   "source": [
    "Changing the baseline group\n",
    "================================================="
   ]
  },
  {
   "cell_type": "code",
   "execution_count": null,
   "metadata": {},
   "outputs": [],
   "source": [
    "group <- factor(c(1,1,2,2,3,3))\n",
    "group <- relevel(x=group, ref=3)\n",
    "model.matrix(~ group)"
   ]
  },
  {
   "cell_type": "markdown",
   "metadata": {},
   "source": [
    "More than one variable\n",
    "================================================="
   ]
  },
  {
   "cell_type": "code",
   "execution_count": null,
   "metadata": {},
   "outputs": [],
   "source": [
    "agegroup <- factor(c(1,1,1,1,2,2,2,2))\n",
    "wantsMore <- factor(c(\"y\",\"y\",\"n\",\"n\",\"y\",\"y\",\"n\",\"n\"))\n",
    "model.matrix(~ agegroup + wantsMore)"
   ]
  },
  {
   "cell_type": "markdown",
   "metadata": {},
   "source": [
    "With an interaction term\n",
    "================================================="
   ]
  },
  {
   "cell_type": "code",
   "execution_count": null,
   "metadata": {},
   "outputs": [],
   "source": [
    "model.matrix(~ agegroup + wantsMore + agegroup:wantsMore)"
   ]
  },
  {
   "cell_type": "markdown",
   "metadata": {},
   "source": [
    "Design matrix to contrast what we want\n",
    "=================================================\n",
    "\n",
    "- Contraceptive use example\n",
    "    - Is the effect of wanting more children different for 40-49 year-olds than for <25 year-olds is answered by the term `age40-49:wantsMoreyes` in a model with interaction terms:"
   ]
  },
  {
   "cell_type": "code",
   "execution_count": null,
   "metadata": {},
   "outputs": [],
   "source": [
    "fitX <- glm(cbind(using, notUsing) ~ age * wantsMore, \n",
    "           data=cuse, family=binomial(\"logit\"))"
   ]
  },
  {
   "cell_type": "code",
   "execution_count": null,
   "metadata": {
    "attributes": {
     "classes": [],
     "echo": "FALSE,",
     "id": "",
     "message": "FALSE",
     "results": "\"asis\","
    }
   },
   "outputs": [],
   "source": [
    "fit.table <- xtable::xtable(fitX, label=NULL)\n",
    "print(fit.table, type=\"html\")"
   ]
  },
  {
   "cell_type": "markdown",
   "metadata": {},
   "source": [
    "Design matrix to contrast what we want\n",
    "=================================================\n",
    "\n",
    "* What if we want to ask this question for 40-49 year-olds vs. 30-39 year-olds?\n",
    "\n",
    "The desired contrast is:\n",
    "\n",
    "`age40-49:wantsMoreyes - age30-39:wantsMoreyes`\n",
    "\n",
    "There are many ways to construct this design, one is with `library(multcomp)`:"
   ]
  },
  {
   "cell_type": "code",
   "execution_count": null,
   "metadata": {},
   "outputs": [],
   "source": [
    "names(coef(fitX))\n",
    "contmat <- matrix(c(0,0,0,0,0,0,-1,1), 1) \n",
    "new.interaction <- multcomp::glht(fitX, linfct=contmat) \n",
    "summary(new.interaction)"
   ]
  },
  {
   "cell_type": "markdown",
   "metadata": {},
   "source": [
    "Lab Exercises\n",
    "=================================================\n",
    "\n",
    "1. What is the mean fraction of women using birth control for each age group? Each education level? For women who do or don't want more children?\n",
    "     - Hint: look at the \"data wrangling\" cheat sheet functions `mutate`, `group_by`, and `summarize`\n",
    "2. Create a fit to the birth control data using all predictors, called ```fit1```. Based on ```fit1```, write on paper the model for expected probability of using birth control.  Don't forget the logit function.\n",
    "3. Based on ```fit1```, what is the expected probability of an individual 25-29 years old, with high education, who wants more children, using birth control? Calculate it manually, and using `predict(fit1)`\n",
    "4. Based on ```fit1```: Relative to women under 25 who want to have children, what is the predicted increase in odds that a woman 40-49 years old who does _not_ want to have children will be taking birth control?\n",
    "5. Using a likelihood ratio test, is there evidence that a model with interactions improves on ```fit1``` (no interactions)?\n",
    "6. Which, if any, variables have the strongest interactions?\n",
    "7. Create a contrast matrix for a fit on age only, with contrasts between *every pair* of age groups. Between which age groups is the contrast significant?"
   ]
  }
 ],
 "metadata": {
  "kernelspec": {
   "display_name": "R",
   "language": "R",
   "name": "ir"
  },
  "language_info": {
   "codemirror_mode": {
    "name": "ipython",
    "version": 2
   },
   "file_extension": ".py",
   "mimetype": "text/x-python",
   "name": "python",
   "nbconvert_exporter": "python",
   "pygments_lexer": "ipython2",
   "version": "2.7.15"
  }
 },
 "nbformat": 4,
 "nbformat_minor": 2
}
