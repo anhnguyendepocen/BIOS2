{
  "cells": [
    {
      "cell_type": "markdown",
      "source": [
        "# BIOS621 sessions 2-3 lab exercises"
      ],
      "metadata": {}
    },
    {
      "cell_type": "markdown",
      "source": [
        "# Motivating example: contraceptive use data\n",
        "\nLoad the data from http://data.princeton.edu/wws509/datasets/#cuse"
      ],
      "metadata": {}
    },
    {
      "cell_type": "markdown",
      "source": [
        "# Problem 1\n",
        "\n",
        "1. What is the mean fraction of women using birth control for each age group? Each education level? For women who do or don't want more children?\n",
        "     - Hint: look at the [\"data wrangling\" cheat sheet](https://www.rstudio.com/wp-content/uploads/2015/02/data-wrangling-cheatsheet.pdf) functions `mutate`, `group_by`, and `summarize`."
      ],
      "metadata": {}
    },
    {
      "cell_type": "markdown",
      "source": [
        "Problem 2\n",
        "==============================\n",
        "\nBased on ```fit1```, write on paper the model for expected probability of using birth control? Don't forget the (inverse) logit function."
      ],
      "metadata": {}
    },
    {
      "cell_type": "markdown",
      "source": [
        "\n",
        "Problem 3\n",
        "==========================\n",
        "Based on ```fit1```, what is the expected probability of an individual 25-29 years old, with high education, who wants more children, using birth control? Calculate it manually, and using `predict(fit1)`\n",
        "\nThis can be done using the `predict()` function, using a new `data.frame` giving the values that you want to predict for:"
      ],
      "metadata": {}
    },
    {
      "cell_type": "markdown",
      "source": [
        "Problem 4\n",
        "==========================\n",
        "\nBased on ```fit1```: Relative to women under 25 who want to have children, what is the predicted odds ratio for a woman 40-49 years old who does _not_ want to have children will be taking birth control?"
      ],
      "metadata": {}
    },
    {
      "cell_type": "markdown",
      "source": [
        "Problem 5\n",
        "==========================\n",
        "\nUsing a likelihood ratio test, is there evidence that a model with interactions improves on ```fit1``` (no interactions)?"
      ],
      "metadata": {}
    },
    {
      "cell_type": "markdown",
      "source": [
        "Problem 6\n",
        "==========================\n",
        "\n",
        "Which, if any, variables have the strongest interactions? I use the \"stargazer\" package here which is extremely flexible for showing regression results from all kinds of models, capable of comparing multiple models or multiple dependent variables in the same table, and providing formatting customized to numerous journal styles.\n",
        "\nWe see here that the strongest interaction coeffient is for `age30-39:wantsMoreyes`. It is statistically significant and negative (`r round(coef(fit1.int)[\"age30-39:wantsMoreyes\"], 2)`). It appears that being 30-39 years old and wanting more children has a multiplicative effect against using birth control, moreso than expected based on the age or wanting more children alone."
      ],
      "metadata": {}
    },
    {
      "cell_type": "markdown",
      "source": [
        "Problem 7\n",
        "========================================\n",
        "\nCreate a model matrix for a fit on age only, with contrasts between *every pair* of age groups. Between which age groups is the contrast significant?"
      ],
      "metadata": {}
    }
  ],
  "metadata": {
    "kernelspec": {
      "display_name": "Python 2",
      "language": "python",
      "name": "python2"
    },
    "language_info": {
      "codemirror_mode": {
        "name": "ipython",
        "version": 2
      },
      "file_extension": ".py",
      "mimetype": "text/x-python",
      "name": "python",
      "nbconvert_exporter": "python",
      "pygments_lexer": "ipython2",
      "version": "2.7.15"
    },
    "nteract": {
      "version": "0.11.9"
    }
  },
  "nbformat": 4,
  "nbformat_minor": 2
}