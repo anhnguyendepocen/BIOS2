{
  "cells": [
    {
      "cell_type": "markdown",
      "source": [
        "# BIOS621 sessions 2-3 lab exercises\n",
        "\n## Levi Waldron"
      ],
      "metadata": {}
    },
    {
      "cell_type": "code",
      "source": [
        "if(!require(dplyr)) install.packages(\"tidyverse\")\n",
        "if(!require(stargazer)) install.packages(\"stargazer\")\n",
        "if(!require(multcomp)) install.packages(\"multcomp\")"
      ],
      "outputs": [],
      "execution_count": null,
      "metadata": {}
    },
    {
      "cell_type": "markdown",
      "source": [
        "# Motivating example: contraceptive use data\n",
        "\nLoad the data from http://data.princeton.edu/wws509/datasets/#cuse"
      ],
      "metadata": {}
    },
    {
      "cell_type": "code",
      "source": [
        "cuse <- read.table(\"cuse.dat\", header=TRUE)\n",
        "summary(cuse)"
      ],
      "outputs": [],
      "execution_count": null,
      "metadata": {
        "attributes": {
          "classes": [],
          "echo": "FALSE",
          "id": ""
        }
      }
    },
    {
      "cell_type": "markdown",
      "source": [
        "# Problem 1\n",
        "\n",
        "1. What is the mean fraction of women using birth control for each age group? Each education level? For women who do or don't want more children?\n",
        "     - Hint: look at the [\"data wrangling\" cheat sheet](https://www.rstudio.com/wp-content/uploads/2015/02/data-wrangling-cheatsheet.pdf) functions `mutate`, `group_by`, and `summarize`."
      ],
      "metadata": {}
    },
    {
      "cell_type": "code",
      "source": [
        "library(dplyr)\n",
        "cuse2 <- mutate(cuse, fracusing = using / (using + notUsing))\n",
        "cuse2 %>% group_by(age) %>% summarize(mean(fracusing))"
      ],
      "outputs": [],
      "execution_count": null,
      "metadata": {
        "attributes": {
          "classes": [],
          "id": "",
          "message": "FALSE"
        }
      }
    },
    {
      "cell_type": "markdown",
      "source": [
        "Here the `%>%` is called a \"pipe\", and it sends the output of the previous function to the input of the next function. This could also have been done in one step:"
      ],
      "metadata": {}
    },
    {
      "cell_type": "code",
      "source": [
        "mutate(cuse, fracusing = using / (using + notUsing)) %>%\n",
        "  group_by(age) %>% \n",
        "  summarize(mean(fracusing))"
      ],
      "outputs": [],
      "execution_count": null,
      "metadata": {}
    },
    {
      "cell_type": "markdown",
      "source": [
        "Here the result is not stored anywhere; if you wanted to store it in a variable called `myanswer`, you could have started the above command with `myanswer <-` or `myanswer =`.\n",
        "\n",
        "Also note that the line breaks are optional: you could put this all on one line, but breaking it up makes it more readable.\n",
        "\n",
        "Problem 2\n",
        "==============================\n",
        "\nBased on ```fit1```, write on paper the model for expected probability of using birth control? Don't forget the (inverse) logit function."
      ],
      "metadata": {}
    },
    {
      "cell_type": "code",
      "source": [
        "fit1 <- glm(cbind(using, notUsing) ~ age + education + wantsMore, \n",
        "           data=cuse, family=binomial(\"logit\"))"
      ],
      "outputs": [],
      "execution_count": null,
      "metadata": {}
    },
    {
      "cell_type": "markdown",
      "source": [
        "I'm going to store the coefficients of `fit1` in a new variable `b` just to save typing when writing out the formula, and round to two decimal places:"
      ],
      "metadata": {}
    },
    {
      "cell_type": "code",
      "source": [
        "b <- round(coef(fit1), 2)"
      ],
      "outputs": [],
      "execution_count": null,
      "metadata": {}
    },
    {
      "cell_type": "markdown",
      "source": [
        "Here I'm going to take advantage of R Markdown's support for LaTeX formulae to write out the fitted regression model. I also use the \\`    r 2+2 \\`     syntax (the result is `r 2+2`) for putting results of R code inline, instead of writing out numbers of the coefficients. I never wrote the number \"four\", but you'll have to look at the .Rmd to see how I did that! Doing this in reports allows you to update them as input data changes, without having to manually re-enter or copy numbers.\n",
        "\n",
        "$P = \\textit{logit}^{-1} \\left( \n",
        "   `r b[\"(Intercept)\"]` + `r b[\"age25-29\"]` \\times \\textit{age25-29} + \n",
        "   `r b[\"age30-39\"]` \\times \\textit{age30-39} +\n",
        "   `r b[\"age40-49\"]` \\times \\textit{age40-49} +\n",
        "   `r b[\"educationlow\"]` \\times \\textit{educationlow} +\n",
        "   `r b[\"wantsMoreyes\"]` \\times \\textit{wantsMoreyes} \n",
        "   \\right)$\n",
        "\n",
        "$\\textit{logit}^{-1}(x) = \\frac{1}{1+e^{-x}}$\n",
        "\n",
        "Problem 3\n",
        "==========================\n",
        "Based on ```fit1```, what is the expected probability of an individual 25-29 years old, with high education, who wants more children, using birth control? Calculate it manually, and using `predict(fit1)`\n",
        "\nThis can be done using the `predict()` function, using a new `data.frame` giving the values that you want to predict for:"
      ],
      "metadata": {}
    },
    {
      "cell_type": "code",
      "source": [
        "invLogit <- function(x) 1/(1+exp(-x))\n",
        "newdata=data.frame(age=\"25-29\", education=\"high\", wantsMore=\"yes\")\n",
        "invLogit( predict(fit1, newdata=newdata) )"
      ],
      "outputs": [],
      "execution_count": null,
      "metadata": {}
    },
    {
      "cell_type": "markdown",
      "source": [
        "By default, `predict()` predicts on the original data, and taking a look, I noticed that the 7th value is the one we want to predict on:"
      ],
      "metadata": {}
    },
    {
      "cell_type": "code",
      "source": [
        "invLogit( predict(fit1)[7] )"
      ],
      "outputs": [],
      "execution_count": null,
      "metadata": {}
    },
    {
      "cell_type": "markdown",
      "source": [
        "If we were really doing this manually, on paper, we would just calculate the linear predictor, then use the inverse logit function. Note that education=\"high\" is the reference group, so we don't use it here:"
      ],
      "metadata": {}
    },
    {
      "cell_type": "code",
      "source": [
        "invLogit( b[\"(Intercept)\"] + b[\"age25-29\"] + b[\"wantsMoreyes\"] )"
      ],
      "outputs": [],
      "execution_count": null,
      "metadata": {}
    },
    {
      "cell_type": "markdown",
      "source": [
        "I don't *really* care, but if the remnant \"(Intercept)\" name there were annoying me, I would assign this to a variable then get rid of that name:"
      ],
      "metadata": {}
    },
    {
      "cell_type": "code",
      "source": [
        "res <- invLogit( b[\"(Intercept)\"] + b[\"age25-29\"] + b[\"wantsMoreyes\"] )\n",
        "names(res) <- NULL\n",
        "res"
      ],
      "outputs": [],
      "execution_count": null,
      "metadata": {}
    },
    {
      "cell_type": "markdown",
      "source": [
        "Problem 4\n",
        "==========================\n",
        "\nBased on ```fit1```: Relative to women under 25 who want to have children, what is the predicted odds ratio for a woman 40-49 years old who does _not_ want to have children will be taking birth control?"
      ],
      "metadata": {}
    },
    {
      "cell_type": "code",
      "source": [
        "exp( coef(fit1)[\"age40-49\"] - coef(fit1)[\"wantsMoreyes\"])"
      ],
      "outputs": [],
      "execution_count": null,
      "metadata": {}
    },
    {
      "cell_type": "markdown",
      "source": [
        "Problem 5\n",
        "==========================\n",
        "\nUsing a likelihood ratio test, is there evidence that a model with interactions improves on ```fit1``` (no interactions)?"
      ],
      "metadata": {}
    },
    {
      "cell_type": "code",
      "source": [
        "fit1.int <- glm(cbind(using, notUsing) ~ age * education * wantsMore, \n",
        "           data=cuse, family=binomial(\"logit\"))\n",
        "anova(fit1, fit1.int, test=\"LRT\")"
      ],
      "outputs": [],
      "execution_count": null,
      "metadata": {}
    },
    {
      "cell_type": "markdown",
      "source": [
        "Problem 6\n",
        "==========================\n",
        "\n",
        "Which, if any, variables have the strongest interactions? I use the \"stargazer\" package here which is extremely flexible for showing regression results from all kinds of models, capable of comparing multiple models or multiple dependent variables in the same table, and providing formatting customized to numerous journal styles.\n",
        "\nWe see here that the strongest interaction coeffient is for `age30-39:wantsMoreyes`. It is statistically significant and negative (`r round(coef(fit1.int)[\"age30-39:wantsMoreyes\"], 2)`). It appears that being 30-39 years old and wanting more children has a multiplicative effect against using birth control, moreso than expected based on the age or wanting more children alone."
      ],
      "metadata": {}
    },
    {
      "cell_type": "code",
      "source": [
        "library(stargazer)\n",
        "stargazer(fit1, fit1.int, type=\"text\", \n",
        "          dep.var.caption = \" \",  #Otherwise the default is \"Dependent Variable:\"\n",
        "          dep.var.labels = \"Outcome: Using Birth Control\",\n",
        "          digits = 2,  #show 2 digits\n",
        "          column.labels = c(\"No Interaction\", \"With Interactions\"),\n",
        "          ci=c(TRUE, TRUE), #show confidence intervals\n",
        "          single.row=TRUE, #put results on a single line\n",
        "          report=\"vc*s\")  #report the variable name, coefficient with significance asterisks, and standard error (actually replaced by confidence interval because of ci argument above)"
      ],
      "outputs": [],
      "execution_count": null,
      "metadata": {
        "attributes": {
          "classes": [],
          "echo": "FALSE,",
          "id": "",
          "message": "FALSE",
          "results": "\"asis\","
        }
      }
    },
    {
      "cell_type": "markdown",
      "source": [
        "Problem 7\n",
        "========================================\n",
        "\n",
        "Create a model matrix for a fit on age only, with contrasts between *every pair* of age groups. Between which age groups is the contrast significant?\n",
        "\n",
        "## semi-manually\n",
        "\nFirst, I'll do it manually, using the `multcomp` package and following an example from `?glht`. I'm not going to bother anymore creating pretty tables with `stargazer` though..."
      ],
      "metadata": {}
    },
    {
      "cell_type": "code",
      "source": [
        "fit = glm(cbind(using, notUsing) ~ age, data=cuse, family=binomial(\"logit\"))\n",
        "coef(fit)\n",
        "K <- rbind(\"25-29 - <25\" = c(-1, 1, 0, 0),\n",
        "           \"30-39 - <25\" = c(-1, 0, 1, 0),\n",
        "           \"40-49 - <25\" = c(-1, 0, 0, 1),\n",
        "           \"30-39 - 25-29\" = c(0, -1, 1, 0),\n",
        "           \"40-49 - 25-29\" = c(0, -1, 0, 1),\n",
        "           \"40-49 - 30-39\" = c(0, 0, -1, 1))\n",
        "K\n",
        "fit.all.cont = multcomp::glht(fit, linfct=K)\n",
        "summary(fit.all.cont)"
      ],
      "outputs": [],
      "execution_count": null,
      "metadata": {}
    },
    {
      "cell_type": "markdown",
      "source": [
        "## Using Tukey contrasts\n",
        "\nThere is an easier way if you realize that these are the \"Tukey\" contrasts and use the `contrMat` function from the `multcomp` package:"
      ],
      "metadata": {}
    },
    {
      "cell_type": "code",
      "source": [
        "K2 = multcomp::contrMat(1:4, type=\"Tukey\")\n",
        "K2\n",
        "fit.all.cont2 = multcomp::glht(fit, linfct=K2)\n",
        "summary(fit.all.cont2)"
      ],
      "outputs": [],
      "execution_count": null,
      "metadata": {}
    },
    {
      "cell_type": "markdown",
      "source": [
        "We didn't get the same informative coefficient names this time, but we could have just by renaming the rows in `K2`, for example:"
      ],
      "metadata": {}
    },
    {
      "cell_type": "code",
      "source": [
        "rownames(K2) = rownames(K)\n",
        "K2\n",
        "summary( multcomp::glht(fit, linfct=K2) )"
      ],
      "outputs": [],
      "execution_count": null,
      "metadata": {}
    },
    {
      "cell_type": "markdown",
      "source": [
        "## Other contrast schemes\n",
        "\n",
        "There are plenty of canned contrast schemes provided by `multcomp::contrMat`. Note use of the `example()` function to run all examples from the `contrmat()` function. This is a great example of how there are **many** ways to analyze one particular experimental design, but that you need to know design matrices to utilize many of them. \n",
        "\nIn these examples, the first line `n <- c(10,20,30,40)` just signifies four levels, `n = 1:4` would do exactly the same thing."
      ],
      "metadata": {}
    },
    {
      "cell_type": "code",
      "source": [
        "library(multcomp)\n",
        "example(\"contrMat\")"
      ],
      "outputs": [],
      "execution_count": null,
      "metadata": {
        "attributes": {
          "classes": [],
          "id": "",
          "message": "FALSE"
        }
      }
    }
  ],
  "metadata": {
    "kernelspec": {
      "name": "ir",
      "language": "R",
      "display_name": "R"
    },
    "language_info": {
      "name": "R",
      "codemirror_mode": "r",
      "pygments_lexer": "r",
      "mimetype": "text/x-r-source",
      "file_extension": ".r",
      "version": "3.5.1"
    },
    "kernel_info": {
      "name": "ir"
    },
    "nteract": {
      "version": "0.11.9"
    }
  },
  "nbformat": 4,
  "nbformat_minor": 2
}