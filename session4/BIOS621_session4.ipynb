{
  "cells": [
    {
      "cell_type": "markdown",
      "source": [
        "# BIOS621 Session 4 - loglinear regression part 1\n",
        "## Levi Waldron\n",
        "\n",
        "Welcome and outline - session 4\n",
        "========================================================\n",
        "\n",
        "* brief review of GLMs\n",
        "* Motivating example for log-linear models\n",
        "    + Poisson regression\n",
        "* Checking model assumptions and fit: Residual Analysis\n",
        "* Note on collinearity\n",
        "\n",
        "Reading: Vittinghoff textbook chapter 8.1-8.3\n",
        "\n",
        "Learning Objectives\n",
        "========================================================\n",
        "\n",
        "* Define log-linear models in GLM framework\n",
        "* Identify situations that motivate use of log-linear models\n",
        "* Assess model fit of log-linear models\n",
        "* Define multi-collinearity\n",
        "\n",
        "Components of GLM\n",
        "========================================================\n",
        "\n",
        "* **Random component** specifies the conditional distribution for the response variable - it doesn’t have to be normal but can be any distribution that belongs to the “exponential” family of distributions\n",
        "* **Systematic component** specifies linear function of predictors (linear predictor)\n",
        "* **Link** [denoted by g(.)] specifies the relationship between the expected value of the random component and the systematic component, can be linear or nonlinear  \n",
        "\n",
        "Linear Regression as GLM\n",
        "========================================================\n",
        "\n",
        "* **The model**: $y_i = E[y|x] + \\epsilon_i = \\beta_0 + \\beta_1 x_{1i} + \\beta_2 x_{2i} + ... + \\beta_p x_{pi} + \\epsilon_i$\n",
        "\n",
        "* **Random component** of $y_i$ is normally distributed:   $\\epsilon_i \\stackrel{iid}{\\sim} N(0, \\sigma_\\epsilon^2)$\n",
        "\n",
        "* **Systematic component** (linear predictor): $\\beta_0 + \\beta_1 x_{1i} + \\beta_2 x_{2i} + ... + \\beta_p x_{pi}$\n",
        "\n",
        "* **Link function** here is the _identity link_: $g(E(y | x)) = E(y | x)$.  We are modeling the mean directly, no transformation.\n",
        "\n",
        "Logistic Regression as GLM\n",
        "========================================================\n",
        "\n",
        "* **The model**: \n",
        "$$\n",
        "Logit(P(x)) = log \\left( \\frac{P(x)}{1-P(x)} \\right) = \\beta_0 + \\beta_1 x_{1i} + \\beta_2 x_{2i} + ... + \\beta_p x_{pi}\n",
        "$$\n",
        "\n",
        "* **Random component**: $y_i$ follows a Binomial distribution (outcome is a binary variable)\n",
        "\n",
        "* **Systematic component**: linear predictor \n",
        "$$\n",
        "\\beta_0 + \\beta_1 x_{1i} + \\beta_2 x_{2i} + ... + \\beta_p x_{pi}\n",
        "$$\n",
        "\n",
        "* **Link function**: _logit_ (log of the odds that the event occurs)\n",
        "\n",
        "$$\n",
        "g(P(x)) = logit(P(x)) = log\\left( \\frac{P(x)}{1-P(x)} \\right)\n",
        "$$\n",
        "\n",
        "$$\n",
        "P(x) = g^{-1}\\left( \\beta_0 + \\beta_1 x_{1i} + \\beta_2 x_{2i} + ... + \\beta_p x_{pi}\n",
        " \\right)\n",
        "$$\n",
        "\n\n",
        "Additive vs. Multiplicative models\n",
        "=================================================\n",
        "\n",
        "* Linear regression is an _additive_ model\n",
        "    + _e.g._ for two binary variables $\\beta_1 = 1.5$, $\\beta_2 = 1.5$.\n",
        "    + If $x_1=1$ and $x_2=1$, this adds 3.0 to $E(y|x)$\n",
        "* Logistic regression is a _multiplicative_ model\n",
        "    + If $x_1=1$ and $x_2=1$, this adds 3.0 to $log(\\frac{P}{1-P})$\n",
        "    + Odds-ratio $\\frac{P}{1-P}$ increases 20-fold: $exp(1.5+1.5)$ or $exp(1.5) * exp(1.5)$\n",
        "\n",
        "Motivating example for log-linear models  \n",
        "=================================================\n",
        "* Effectiveness of a new case-management program for depression\n",
        "    + can the new treatment reduce the number of needed visits to the emergency room, compared to standard care?\n",
        "* *outcome*: # of emergency room visits for each patient in the year following initial treatment\n",
        "* *predictors*: *race* (white or nonwhite), *treatment* (treated or control), *amount of alcohol consumption* (numerical measure), *drug use* (numerical measure)\n",
        "   \n",
        "Motivating example (cont'd)\n",
        "=================================================\n",
        "* Statistical issues:\n",
        "     + about 1/3 of observations are exactly 0 (did not return to the emergency room within the year)\n",
        "     + highly nonnormal and cannot be transformed to be approximately normal\n",
        "     + even $log(y_i + 1)$ transformation will have a \"lump\" at zero\n",
        "        + over 1/2 the transformed data would have values of 0 or $log(2)$\n",
        "     + a linear regression model would give negative predictions for some covariate combinations\n",
        "     + some subjects die or cannot be followed up on for a whole year\n",
        "\n",
        "Motivating example (cont'd)\n",
        "=================================================\n",
        "* A _multiplicative_ model will allow us to make inference on _ratios_ of mean emergency room usage\n",
        "* Modeling $log$ of the _mean_ emergency usage ensures positive means, and does not suffer from $log(0)$ problem\n",
        "* Random component of GLM, or residuals (was $\\epsilon_i \\stackrel{iid}{\\sim} N(0, \\sigma_\\epsilon^2)$ for linear regression) may still not be normal, but we can choose from other distributions\n",
        "\n",
        "Motivating example: proposed model without time\n",
        "=================================================\n",
        "\n",
        "$$\n",
        "log(E[Y_i]) = \\beta_0 + \\beta_1 \\textrm{RACE}_i + \\beta_2 \\textrm{TRT}_i + \\beta_3 \\textrm{ALCH}_i + \\beta_4 \\textrm{DRUG}_i\n",
        "$$\n",
        "Or equivalently:\n",
        "$$\n",
        "E[Y_i] = exp \\left( \\beta_0 + \\beta_1 \\textrm{RACE}_i + \\beta_2 \\textrm{TRT}_i + \\beta_3 \\textrm{ALCH}_i + \\beta_4 \\textrm{DRUG}_i \\right)\n",
        "$$\n",
        "where $E[Y_i]$ is the expected number of emergency room visits for patient _i_.\n",
        "\n",
        "* Important note: Modeling $log(E[Y_i])$ is _not_ equivalent to modeling $E(log(Y_i))$\n",
        "\n",
        "Motivating example: accounting for time of follow-up\n",
        "=================================================\n",
        "Instead, model mean count per unit time:\n",
        "$$\n",
        "log(E[Y_i]/t_i) = \\beta_0 + \\beta_1 \\textrm{RACE}_i + \\beta_2 \\textrm{TRT}_i + \\beta_3 \\textrm{ALCH}_i + \\beta_4 \\textrm{DRUG}_i\n",
        "$$\n",
        "Or equivalently:\n",
        "$$\n",
        "log(E[Y_i]) = \\beta_0 + \\beta_1 \\textrm{RACE}_i + \\beta_2 \\textrm{TRT}_i + \\beta_3 \\textrm{ALCH}_i + \\beta_4 \\textrm{DRUG}_i + log(t_i)\n",
        "$$\n",
        "\n",
        "* $log(t_i)$ is not a covariate, it is called an _offset_\n",
        "\n",
        "Motivating example: Choice of Distribution\n",
        "=================================================\n",
        "* Count data are often modeled as Poisson distributed:\n",
        "       + mean $\\lambda$ is greater than 0\n",
        "       + variance is also $\\lambda$\n",
        "       + Probability density $P(k, \\lambda) = \\frac{\\lambda^k}{k!} e^{-\\lambda}$"
      ],
      "metadata": {}
    },
    {
      "cell_type": "code",
      "source": [
        "par(cex=2)  #increase size of type and axes\n",
        "plot(x=0:10, y=dpois(0:10, lambda=1), \n",
        "     type=\"b\", lwd=2,\n",
        "     xlab=\"Counts (k)\", ylab=\"Probability density\")\n",
        "lines(x=0:10, y=dpois(0:10, lambda=2), \n",
        "      type=\"b\", lwd=2, lty=2, pch=2)\n",
        "lines(x=0:10, dpois(0:10, lambda=4), \n",
        "      type=\"b\", lwd=2, lty=3, pch=3)\n",
        "legend(\"topright\", lwd=2, lty=1:3, pch=1:3,\n",
        "       legend=c(expression(paste(lambda, \"=1\")),\n",
        "                expression(paste(lambda, \"=2\")),\n",
        "                expression(paste(lambda, \"=4\"))))"
      ],
      "outputs": [],
      "execution_count": null,
      "metadata": {
        "attributes": {
          "classes": [],
          "echo": "FALSE",
          "id": ""
        }
      }
    },
    {
      "cell_type": "markdown",
      "source": [
        "Motivating example: the Poisson GLM\n",
        "=================================================\n",
        "* Model the number of counts per unit time as Poisson-distributed\n",
        "       + so the expected number of counts per time is $\\lambda_i$\n",
        "       \n",
        "$E[Y_i]/t_i = \\lambda_i$ \\newline\n",
        "$log(E[Y_i]/t_i) = log(\\lambda_i)$ \\newline\n",
        "$log(E[Y_i]) = log(\\lambda_i) + log(t_i)$ \\newline\n",
        "\n\n",
        "Recalling the log-linear model systematic component:\n",
        "$$log(E[Y_i]) = \\beta_0 + \\beta_1 \\textrm{RACE}_i + \\beta_2 \\textrm{TRT}_i + \\beta_3 \\textrm{ALCH}_i + \\beta_4 \\textrm{DRUG}_i + log(t_i)$$\n",
        "\n",
        "Motivating example: the Poisson GLM\n",
        "=================================================\n",
        "\n",
        "Then the systematic part of the GLM is:\n",
        "$$\n",
        "log(\\lambda_i) = \\beta_0 + \\beta_1 \\textrm{RACE}_i + \\beta_2 \\textrm{TRT}_i + \\beta_3 \\textrm{ALCH}_i + \\beta_4 \\textrm{DRUG}_i\n",
        "$$\n",
        "Or alternatively:\n",
        "$$\n",
        "\\lambda_i = exp \\left( \\beta_0 + \\beta_1 \\textrm{RACE}_i + \\beta_2 \\textrm{TRT}_i + \\beta_3 \\textrm{ALCH}_i + \\beta_4 \\textrm{DRUG}_i \\right)\n",
        "$$\n",
        "\n",
        "Motivating example: interpretation of coefficients\n",
        "=================================================\n",
        "* Suppose that $\\hat \\beta_1 = -0.5$ in the fitted model, where $\\textrm{RACE}_i=0$ for white and $\\textrm{RACE}_i=1$ for non-white. \n",
        "* The mean rate of emergency room visits per unit time for white relative to non-white, all else held equal, is estimated to be:\n",
        "\n",
        "$$\n",
        "\\frac{exp \\left( \\beta_0 + 0 + \\beta_2 \\textrm{TRT}_i + \\beta_3 \\textrm{ALCH}_i + \\beta_4 \\textrm{DRUG}_i \\right)}{exp \\left( \\beta_0 - 0.5 + \\beta_2 \\textrm{TRT}_i + \\beta_3 \\textrm{ALCH}_i + \\beta_4 \\textrm{DRUG}_i \\right)}\n",
        "$$\n",
        "$$\n",
        "= \\frac{e^{\\beta_0} e^0 e^{\\beta_2 \\textrm{TRT}_i} e^{\\beta_3 \\textrm{ALCH}_i} e^{\\beta_4 \\textrm{DRUG}_i}}\n",
        "{e^{\\beta_0} e^{-0.5} e^{\\beta_2 \\textrm{TRT}_i} e^{\\beta_3 \\textrm{ALCH}_i} e^{\\beta_4 \\textrm{DRUG}_i}}\n",
        "$$\n",
        "$$\n",
        "= \\frac{e^0}{e^{-0.5}}\n",
        "$$\n",
        "$$\n",
        "= e^{0.5} \\approxeq 1.65\n",
        "$$\n",
        "\n",
        "Motivating example: interpretation of coefficients\n",
        "=================================================\n",
        "* If $\\hat \\beta_1=-0.5$ with whites as the reference group:\n",
        "       - after adjustment for treatment group, alcohol and drug usage, whites tend to use the emergency room at a rate 1.65 times higher than non-whites.\n",
        "       - equivalently, the average rate of usage for whites is 65% higher than that for non-whites\n",
        "* Multiplicative rules apply for other coefficients as well, because they are exponentiated to estimate the mean rate.\n",
        "\n",
        "Example by simulation\n",
        "================================================="
      ],
      "metadata": {}
    },
    {
      "cell_type": "code",
      "source": [
        "set.seed(1)"
      ],
      "outputs": [],
      "execution_count": null,
      "metadata": {
        "attributes": {
          "classes": [],
          "echo": "FALSE",
          "id": ""
        }
      }
    },
    {
      "cell_type": "code",
      "source": [
        "simdat <- data.frame(race=sample(c(\"white\", \"non-white\"), size=10000, replace=TRUE))\n",
        "simdat$race <- factor(simdat$race, levels=c(\"white\", \"non-white\"))\n",
        "simdat$y <- rpois(10000, lambda=ifelse(simdat$race==\"white\", exp(3.5), exp(3)))\n",
        "fit <- glm(y ~ race, data=simdat, family=poisson(\"log\"))\n",
        "summary(fit)"
      ],
      "outputs": [],
      "execution_count": null,
      "metadata": {}
    },
    {
      "cell_type": "markdown",
      "source": [
        "Inference on deviance residuals\n",
        "================================================="
      ],
      "metadata": {}
    },
    {
      "cell_type": "code",
      "source": [
        "(df <- fit$df.residual) #residual degrees of freedom\n",
        "(res.dev <- sum(fit$deviance))  #total residual deviance"
      ],
      "outputs": [],
      "execution_count": null,
      "metadata": {
        "attributes": {
          "classes": [],
          "echo": "FALSE,",
          "id": "",
          "results": "'hide'"
        }
      }
    },
    {
      "cell_type": "markdown",
      "source": [
        "* The difference in total deviance between two nested models is $\\chi^2$ distributed under $H_0$ that the more complex model is no better at explaining the response.\n",
        "     + The difference in deviance residuals is (26157 - 10111) = 16046, with a difference of 1 degrees of freedom.\n",
        "\nThe critical threshold for rejection at p=0.05 is:"
      ],
      "metadata": {}
    },
    {
      "cell_type": "code",
      "source": [
        "qchisq(0.95, df=1)"
      ],
      "outputs": [],
      "execution_count": null,
      "metadata": {}
    },
    {
      "cell_type": "markdown",
      "source": [
        "So we reject $H_0$\n",
        "\n",
        "Inference on deviance residuals 2\n",
        "=================================================\n",
        "\n",
        "* Total residual deviance is $\\chi^2$ distributed if the model is correctly specified\n",
        "     + What is the critical value for rejecting $H_0$ at $p < 0.05$ with a $\\chi^2$ distribution of 9998 degrees of freedom?"
      ],
      "metadata": {}
    },
    {
      "cell_type": "code",
      "source": [
        "qchisq(0.95, df=9998)"
      ],
      "outputs": [],
      "execution_count": null,
      "metadata": {}
    },
    {
      "cell_type": "markdown",
      "source": [
        "Here total residual deviance is 10111, so we do *not* exceed the threshold and do not reject $H_0$ that the model is correctly specified.\n",
        "\n",
        "Example by simulation: Deviance Residuals Plots\n",
        "================================================="
      ],
      "metadata": {}
    },
    {
      "cell_type": "code",
      "source": [
        "par(mfrow=c(2,2))\n",
        "plot(fit)"
      ],
      "outputs": [],
      "execution_count": null,
      "metadata": {
        "attributes": {
          "classes": [],
          "echo": "FALSE",
          "id": ""
        }
      }
    },
    {
      "cell_type": "markdown",
      "source": [
        "Example: Risky Drug Use Behavior\n",
        "=================================================\n",
        "* Load the \"needle_sharing\" dataset is available csv format\n",
        "* Outcome is # times the drug user shared a syringe in the past month (shared_syr)\n",
        "* Predictors: sex, ethn, homeless"
      ],
      "metadata": {}
    },
    {
      "cell_type": "code",
      "source": [
        "needledat = read.csv(\"needle_sharing.csv\")\n",
        "summary(needledat$shared_syr)\n",
        "var(needledat$shared_syr, na.rm=TRUE)"
      ],
      "outputs": [],
      "execution_count": null,
      "metadata": {}
    },
    {
      "cell_type": "markdown",
      "source": [
        "Example: Risky Drug Use Behavior\n",
        "================================================="
      ],
      "metadata": {}
    },
    {
      "cell_type": "code",
      "source": [
        "par(mfrow=c(1,2))\n",
        "hist(needledat$shared_syr, main=\"\")\n",
        "plot(sort(needledat$shared_syr), pch=\".\")"
      ],
      "outputs": [],
      "execution_count": null,
      "metadata": {
        "attributes": {
          "classes": [],
          "echo": "FALSE",
          "id": ""
        }
      }
    },
    {
      "cell_type": "markdown",
      "source": [
        "* There are a _lot_ of zeros - Poisson model is not a good fit\n",
        "\n",
        "Risky Drug Use Behavior: fitting a Poisson model\n",
        "================================================="
      ],
      "metadata": {}
    },
    {
      "cell_type": "code",
      "source": [
        "needledat$homeless <- factor(needledat$homeless, levels=0:1, \n",
        "                             labels=c(\"no\", \"yes\"))"
      ],
      "outputs": [],
      "execution_count": null,
      "metadata": {
        "attributes": {
          "classes": [],
          "echo": "FALSE",
          "id": ""
        }
      }
    },
    {
      "cell_type": "code",
      "source": [
        "fit.pois <- glm(shared_syr ~ sex + ethn + homeless, \n",
        "           data=needledat, family=poisson(link=\"log\"))\n",
        "summary(fit.pois)"
      ],
      "outputs": [],
      "execution_count": null,
      "metadata": {
        "attributes": {
          "classes": [],
          "echo": "FALSE",
          "id": ""
        }
      }
    },
    {
      "cell_type": "markdown",
      "source": [
        "Risky Drug Use Behavior: residuals plots\n",
        "================================================="
      ],
      "metadata": {}
    },
    {
      "cell_type": "code",
      "source": [
        "par(mfrow=c(2,2))\n",
        "plot(fit.pois)"
      ],
      "outputs": [],
      "execution_count": null,
      "metadata": {
        "attributes": {
          "classes": [],
          "echo": "FALSE,",
          "id": "",
          "warning": "FALSE"
        }
      }
    },
    {
      "cell_type": "markdown",
      "source": [
        "Multicollinearity\n",
        "=================================================\n",
        "\n",
        "* *Multicollinearity* exists when two or more of the independent variables in regression are moderately or highly correlated.\n",
        "* Multicollinearity implies near-linear relationship among the predictors\n",
        "* The presence of near-linear dependence dramatically impacts the ability to estimate regression coefficients\n",
        "* High multicollinearity results in larger standard errors for regression coefficients\n",
        "    + estimates of such regression coefficients will tend to be less stable over repeated sampling\n",
        "    \n",
        "Concluding notes\n",
        "=================================================\n",
        "* Inference from log-linear models is sensitive to the choice of link function  (assumption on distribution of residuals)\n",
        "* We will cover other options next week for when the Poisson model doesn't fit:\n",
        "    + Variance proportional to mean, instead of equal\n",
        "    + Negative Binomial\n",
        "    + Zero Inflation"
      ],
      "metadata": {}
    }
  ],
  "metadata": {
    "kernelspec": {
      "name": "ir",
      "language": "R",
      "display_name": "R"
    },
    "kernel_info": {
      "name": "ir"
    },
    "language_info": {
      "name": "R",
      "codemirror_mode": "r",
      "pygments_lexer": "r",
      "mimetype": "text/x-r-source",
      "file_extension": ".r",
      "version": "3.5.1"
    },
    "nteract": {
      "version": "0.11.7"
    }
  },
  "nbformat": 4,
  "nbformat_minor": 2
}