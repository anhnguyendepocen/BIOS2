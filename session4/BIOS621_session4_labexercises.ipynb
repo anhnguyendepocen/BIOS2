{
 "cells": [
  {
   "cell_type": "markdown",
   "metadata": {},
   "source": [
    "# BIOS621 Session 4 - loglinear regression part 1 lab"
   ]
  },
  {
   "cell_type": "markdown",
   "metadata": {},
   "source": [
    "## Load the needle sharing dataset into R"
   ]
  },
  {
   "cell_type": "markdown",
   "metadata": {},
   "source": [
    "## Calculate the percentage of zero values for the response variable `shared_syr`"
   ]
  },
  {
   "cell_type": "markdown",
   "metadata": {},
   "source": [
    "## Calculate the mean and variance of `shared_syr`"
   ]
  },
  {
   "cell_type": "markdown",
   "metadata": {},
   "source": [
    "## Re-code variables as (ordered) factors where appropriate\n",
    "\n",
    "Factors include sex, ethn, age, dprsn_dx, sexabuse, hivstat, hplsns, nivdu, shsyryn, shsyryn, polydrug, homeless"
   ]
  },
  {
   "cell_type": "markdown",
   "metadata": {},
   "source": [
    "## Which of the variables are collinear?\n",
    "\n",
    "Use the `table()` function to identify any collinear predictors. "
   ]
  },
  {
   "cell_type": "markdown",
   "metadata": {},
   "source": [
    "## Fit a multivariate log-linear model with Poisson error term\n",
    "\n",
    "Fit a multivariate model with shared_syr as the outcome, with sex, ethn, age, dprsn_dx, sexabuse, hivstat, hplsns, homeless as predictors."
   ]
  },
  {
   "cell_type": "markdown",
   "metadata": {},
   "source": [
    "## Model selection\n",
    "\n",
    "Identifying the best-fitting multivariate model using the `stepAIC` function from the `MASS` package. Do this using complete cases only (imputation is another option, which we aren't covering)."
   ]
  },
  {
   "cell_type": "code",
   "execution_count": null,
   "metadata": {},
   "outputs": [],
   "source": []
  }
 ],
 "metadata": {
  "kernel_info": {
   "name": "ir"
  },
  "kernelspec": {
   "display_name": "R",
   "language": "R",
   "name": "ir"
  },
  "language_info": {
   "codemirror_mode": "r",
   "file_extension": ".r",
   "mimetype": "text/x-r-source",
   "name": "R",
   "pygments_lexer": "r",
   "version": "3.5.1"
  },
  "nteract": {
   "version": "0.11.9"
  }
 },
 "nbformat": 4,
 "nbformat_minor": 2
}
