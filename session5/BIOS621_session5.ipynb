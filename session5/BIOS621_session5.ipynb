{
  "cells": [
    {
      "cell_type": "markdown",
      "source": [
        "# Loglinear regression part 2\n",
        "\n",
        "Welcome and outline - session 5\n",
        "=================================================\n",
        "* Review of log-linear Poisson glm\n",
        "* Review of diagnostics and interpretation of coefficients\n",
        "* Over-dispersed models:\n",
        "    + negative binomial distribution\n",
        "* Zero-inflated models\n",
        "* Vittinghoff section 8.1-8.3\n",
        "\n",
        "Components of GLM\n",
        "========================================================\n",
        "\n",
        "* **Random component** specifies the conditional distribution for the response variable - it doesn’t have to be normal but can be any distribution that belongs to the “exponential” family of distributions\n",
        "* **Systematic component** specifies linear function of predictors (linear predictor)\n",
        "* **Link** [denoted by g(.)] specifies the relationship between the expected value of the random component and the systematic component, can be linear or nonlinear  \n",
        "\n\n",
        "Motivating example: Choice of Distribution\n",
        "=================================================\n",
        "* Count data are often modeled as Poisson distributed:\n",
        "       + mean $\\lambda$ is greater than 0\n",
        "       + variance is also $\\lambda$\n",
        "       + Probability density $P(k, \\lambda) = \\frac{\\lambda^k}{k!} e^{-\\lambda}$"
      ],
      "metadata": {}
    },
    {
      "cell_type": "code",
      "source": [
        "##par(cex=2)  #increase size of type and axes\n",
        "plot(x=0:10, y=dpois(0:10, lambda=1), \n",
        "     type=\"b\", lwd=2,\n",
        "     xlab=\"Counts (k)\", ylab=\"Probability density\")\n",
        "lines(x=0:10, y=dpois(0:10, lambda=2), \n",
        "      type=\"b\", lwd=2, lty=2, pch=2)\n",
        "lines(x=0:10, dpois(0:10, lambda=4), \n",
        "      type=\"b\", lwd=2, lty=3, pch=3)\n",
        "legend(\"topright\", lwd=2, lty=1:3, pch=1:3,\n",
        "       legend=c(expression(paste(lambda, \"=1\")),\n",
        "                expression(paste(lambda, \"=2\")),\n",
        "                expression(paste(lambda, \"=4\"))))"
      ],
      "outputs": [],
      "execution_count": null,
      "metadata": {
        "attributes": {
          "classes": [],
          "echo": "FALSE",
          "id": ""
        }
      }
    },
    {
      "cell_type": "markdown",
      "source": [
        "Poisson model: the GLM\n",
        "=================================================\n",
        "\n",
        "The **systematic part** of the GLM is:\n",
        "$$\n",
        "log(\\lambda_i) = \\beta_0 + \\beta_1 \\textrm{RACE}_i + \\beta_2 \\textrm{TRT}_i + \\beta_3 \\textrm{ALCH}_i + \\beta_4 \\textrm{DRUG}_i\n",
        "$$\n",
        "Or alternatively:\n",
        "$$\n",
        "\\lambda_i = exp \\left( \\beta_0 + \\beta_1 \\textrm{RACE}_i + \\beta_2 \\textrm{TRT}_i + \\beta_3 \\textrm{ALCH}_i + \\beta_4 \\textrm{DRUG}_i \\right)\n",
        "$$\n",
        "\n",
        "The **random part** is (Recall the $\\lambda_i$ is both the mean and variance of a Poisson distribution):\n",
        "$$\n",
        "y_i \\sim Poisson(\\lambda_i)\n",
        "$$\n",
        "\n\n",
        "Example: Risky Drug Use Behavior\n",
        "=================================================\n",
        "* Download the \"needle_sharing\" dataset in csv format\n",
        "* Outcome is # times the drug user shared a syringe in the past month (shared_syr)\n",
        "* Predictors: sex, ethn, homeless\n",
        "\n\\small"
      ],
      "metadata": {}
    },
    {
      "cell_type": "code",
      "source": [
        "needledat = read.csv(\"needle_sharing.csv\")\n",
        "needledat2 <- needledat[needledat$sex %in% c(\"M\", \"F\") & \n",
        "    needledat$ethn %in% c(\"White\", \"AA\", \"Hispanic\"), ]\n",
        "summary(needledat2$shared_syr)\n",
        "var(needledat2$shared_syr, na.rm=TRUE)"
      ],
      "outputs": [],
      "execution_count": null,
      "metadata": {}
    },
    {
      "cell_type": "markdown",
      "source": [
        "Example: Risky Drug Use Behavior\n",
        "================================================="
      ],
      "metadata": {}
    },
    {
      "cell_type": "code",
      "source": [
        "par(mfrow=c(1,2))\n",
        "##par(cex=2)\n",
        "hist(needledat2$shared_syr, main=\"\")\n",
        "plot(sort(needledat2$shared_syr), pch=\".\")"
      ],
      "outputs": [],
      "execution_count": null,
      "metadata": {
        "attributes": {
          "classes": [],
          "echo": "FALSE",
          "id": ""
        }
      }
    },
    {
      "cell_type": "markdown",
      "source": [
        "* There are a _lot_ of zeros and variance is much greater than mean\n",
        "    + Poisson model is probably not a good fit\n",
        "\n",
        "Risky Drug Use Behavior: fitting a Poisson model\n",
        "================================================="
      ],
      "metadata": {}
    },
    {
      "cell_type": "code",
      "source": [
        "needledat2$homeless <- factor(needledat2$homeless, levels=0:1, \n",
        "                             labels=c(\"no\", \"yes\"))"
      ],
      "outputs": [],
      "execution_count": null,
      "metadata": {
        "attributes": {
          "classes": [],
          "echo": "FALSE",
          "id": ""
        }
      }
    },
    {
      "cell_type": "code",
      "source": [
        "fit.pois <- glm(shared_syr ~ sex + ethn + homeless, \n",
        "           data=needledat2, family=poisson(link=\"log\"))"
      ],
      "outputs": [],
      "execution_count": null,
      "metadata": {
        "attributes": {
          "cache": "TRUE",
          "classes": [],
          "id": "",
          "results": "'hide',"
        }
      }
    },
    {
      "cell_type": "markdown",
      "source": [
        "Risky Drug Use Behavior: residuals plots\n",
        "================================================="
      ],
      "metadata": {}
    },
    {
      "cell_type": "code",
      "source": [
        "par(mfrow=c(2,2))\n",
        "plot(fit.pois)"
      ],
      "outputs": [],
      "execution_count": null,
      "metadata": {
        "attributes": {
          "classes": [],
          "echo": "FALSE,",
          "id": "",
          "warning": "FALSE"
        }
      }
    },
    {
      "cell_type": "markdown",
      "source": [
        "* Poisson model is definitely not a good fit.\n",
        "\n",
        "When the Poisson model doesn't fit\n",
        "=================================================\n",
        "* inference from log-linear models is sensitive to assumptions on the distribution of residuals (e.g. Poisson)\n",
        "* In the Poisson distribution, the variance is equal to the mean.\n",
        "* _i.e._ if subjects with a particular pattern of covariates have a mean of 4 visits/yr, then variance is also 4 and the standard deviation is 2 visits / yr.\n",
        "* The Poisson distribution often fails when the variance exceeds the mean\n",
        "    + You can _check_ this assumption      \n",
        "* Can use alternative random distributions:\n",
        "    + Negative binomial distribution\n",
        "* Can introduce zero-inflation\n",
        "\n",
        "Negative binomial distribution\n",
        "=================================================\n",
        "* The binomial distribution is the number of successes in n trials:\n",
        "    + Roll a die ten times, how many times do you see a 6?\n",
        "* The negative binomial distribution is the number of successes it takes to observe r failures:\n",
        "    + How many times do you have to roll the die to see a 6 ten times?\n",
        "    + Note that the number of rolls is no longer fixed.\n",
        "    + In this example, p=5/6 and a 6 is a \"failure\"\n",
        "\n",
        "Negative binomial GLM\n",
        "=================================================\n",
        "\n",
        "*One way* to parametrize a NB model is with a **systematic part** equivalent to the Poisson model:\n",
        "$$\n",
        "log(\\lambda_i) = \\beta_0 + \\beta_1 \\textrm{RACE}_i + \\beta_2 \\textrm{TRT}_i + \\beta_3 \\textrm{ALCH}_i + \\beta_4 \\textrm{DRUG}_i\n",
        "$$\n",
        "Or:\n",
        "$$\n",
        "\\lambda_i = exp \\left( \\beta_0 + \\beta_1 \\textrm{RACE}_i + \\beta_2 \\textrm{TRT}_i + \\beta_3 \\textrm{ALCH}_i + \\beta_4 \\textrm{DRUG}_i \\right)\n",
        "$$\n",
        "\n",
        "And a **random part**:\n",
        "$$\n",
        "y_i \\sim NB(\\lambda_i, \\theta)\n",
        "$$\n",
        "\n",
        "* $\\theta$ is a **dispersion parameter** that is estimated\n",
        "* When $\\theta = 0$ it is equivalent to Poisson model\n",
        "* `MASS::glm.nb()` uses this parametrization, `dnbinom()` does not\n",
        "* The Poisson model can be considered **nested** within the Negative Binomial model\n",
        "\n",
        "Negative Binomial Random Distribution\n",
        "================================================="
      ],
      "metadata": {}
    },
    {
      "cell_type": "code",
      "source": [
        "plot(x=0:40, y=dnbinom(0:40, size=10, prob=0.5), \n",
        "     type=\"b\", lwd=2, ylim=c(0, 0.2),\n",
        "     xlab=\"Counts (k)\", ylab=\"Probability density\")\n",
        "lines(x=0:40, y=dnbinom(0:40, size=20, prob=0.5), \n",
        "      type=\"b\", lwd=2, lty=2, pch=2)\n",
        "lines(x=0:40, y=dnbinom(0:40, size=10, prob=0.3),\n",
        "      type=\"b\", lwd=2, lty=3, pch=3)\n",
        "legend(\"topright\", lwd=2, lty=1:3, pch=1:3,\n",
        "       legend=c(\"n=10, p=0.5\", \"n=20, p=0.5\", \"n=10, p=0.3\"))"
      ],
      "outputs": [],
      "execution_count": null,
      "metadata": {
        "attributes": {
          "classes": [],
          "echo": "FALSE",
          "id": ""
        }
      }
    },
    {
      "cell_type": "markdown",
      "source": [
        "Compare Poisson vs. Negative Binomial\n",
        "=================================================\n",
        "Negative Binomial Distribution has two parameters: # of trials n, and probability of success p"
      ],
      "metadata": {}
    },
    {
      "cell_type": "code",
      "source": [
        "plot(x=0:40, y=dnbinom(0:40, size=10, prob=0.5), \n",
        "     type=\"b\", lwd=2, ylim=c(0, 0.15),\n",
        "     xlab=\"Counts (k)\", ylab=\"Probability density\")\n",
        "lines(x=0:40, y=dnbinom(0:40, size=20, prob=0.5), \n",
        "      type=\"b\", lwd=2, lty=2, pch=2)\n",
        "lines(x=0:40, y=dnbinom(0:40, size=10, prob=0.3),\n",
        "      type=\"b\", lwd=2, lty=3, pch=3)\n",
        "lines(x=0:40, y=dpois(0:40, lambda=9), col=\"red\")\n",
        "lines(x=0:40, y=dpois(0:40, lambda=20), col=\"red\")\n",
        "legend(\"topright\", lwd=c(2,2,2,1), lty=c(1:3,1), pch=c(1:3,-1), col=c(rep(\"black\", 3), \"red\"),\n",
        "       legend=c(\"n=10, p=0.5\", \"n=20, p=0.5\", \"n=10, p=0.3\", \"Poisson\"))"
      ],
      "outputs": [],
      "execution_count": null,
      "metadata": {
        "attributes": {
          "classes": [],
          "echo": "FALSE",
          "id": ""
        }
      }
    },
    {
      "cell_type": "markdown",
      "source": [
        "Risky drug behavior: Negative Binomial Regression\n",
        "================================================="
      ],
      "metadata": {}
    },
    {
      "cell_type": "code",
      "source": [
        "library(MASS)\n",
        "fit.negbin <- glm.nb(shared_syr ~ sex + ethn + homeless, \n",
        "                     data=needledat2)\n",
        "summary(fit.negbin)"
      ],
      "outputs": [],
      "execution_count": null,
      "metadata": {
        "attributes": {
          "classes": [],
          "echo": "TRUE,",
          "id": "",
          "message": "FALSE,",
          "warning": "FALSE"
        }
      }
    },
    {
      "cell_type": "markdown",
      "source": [
        "Likelihood ratio test \n",
        "=================================================\n",
        "\n",
        "Recall from class 2 the Deviance:\n",
        "\n",
        "$\\Delta (\\textrm{D}) = -2 * \\Delta (\\textrm{log likelihood})$\n",
        "\nAnd recall the difference in deviance under $H_0$ (no improvement in fit) is *chi-square distributed*, with df equal to the difference in df of the two models:"
      ],
      "metadata": {}
    },
    {
      "cell_type": "code",
      "source": [
        "(ll.negbin <- logLik(fit.negbin))\n",
        "(ll.pois <- logLik(fit.pois))\n",
        "pchisq(2 * (ll.negbin - ll.pois), df=1, lower.tail=FALSE)"
      ],
      "outputs": [],
      "execution_count": null,
      "metadata": {}
    },
    {
      "cell_type": "markdown",
      "source": [
        "Risky Drug Use Behavior: NB regression residuals plots\n",
        "================================================="
      ],
      "metadata": {}
    },
    {
      "cell_type": "code",
      "source": [
        "par(mfrow=c(2,2))\n",
        "plot(fit.negbin)"
      ],
      "outputs": [],
      "execution_count": null,
      "metadata": {
        "attributes": {
          "classes": [],
          "echo": "FALSE,",
          "id": "",
          "warning": "FALSE"
        }
      }
    },
    {
      "cell_type": "markdown",
      "source": [
        "Zero Inflation\n",
        "=================================================\n",
        "* Two-step model:\n",
        "    1. logistic model to determine whether count is zero or Poisson/NB\n",
        "    2. Poisson or NB regression distribution for $y_i$ not set to zero by *1.*\n",
        "\n",
        "Poisson Distribution with Zero Inflation\n",
        "================================================="
      ],
      "metadata": {}
    },
    {
      "cell_type": "code",
      "source": [
        "library(gamlss)\n",
        "##par(cex=2)  #increase size of type and axes\n",
        "plot(x=0:10, y=dpois(0:10, lambda=2), \n",
        "     type=\"b\", lwd=2, ylim=c(0, 0.5),\n",
        "     xlab=\"Counts (k)\", ylab=\"Probability density\")\n",
        "lines(x=0:10, y=dZIP(0:10, mu=2, sigma=0.2),\n",
        "      type=\"b\", lwd=2, lty=2, pch=2)\n",
        "lines(x=0:10, y=dZIP(0:10, mu=2, sigma=0.4),\n",
        "      type=\"b\", lwd=2, lty=3, pch=3)\n",
        "legend(\"topright\", lwd=2, lty=1:3, pch=1:3,\n",
        "       legend=c(expression(paste(lambda, \"=2\")),\n",
        "                expression(paste(\"ZIP: \", lambda, \"=2, \", Sigma, \"=0.2\")),\n",
        "                expression(paste(\"ZIP: \", lambda, \"=2, \", Sigma, \"=0.4\"))))"
      ],
      "outputs": [],
      "execution_count": null,
      "metadata": {
        "attributes": {
          "classes": [],
          "echo": "FALSE,",
          "id": "",
          "message": "FALSE,",
          "warning": "FALSE"
        }
      }
    },
    {
      "cell_type": "markdown",
      "source": [
        "Risky drug behavior: Zero-inflated Poisson regression\n",
        "================================================="
      ],
      "metadata": {}
    },
    {
      "cell_type": "code",
      "source": [
        "library(pscl)\n",
        "fit.ZIpois <- zeroinfl(shared_syr ~ sex+ethn+homeless, \n",
        "                        dist=\"poisson\",data=needledat2)"
      ],
      "outputs": [],
      "execution_count": null,
      "metadata": {
        "attributes": {
          "classes": [],
          "echo": "TRUE,",
          "id": "",
          "message": "FALSE,",
          "results": "'hide',",
          "warning": "FALSE"
        }
      }
    },
    {
      "cell_type": "markdown",
      "source": [
        "Zero-inflated Poisson regression - the model\n",
        "================================================="
      ],
      "metadata": {}
    },
    {
      "cell_type": "code",
      "source": [
        "summary(fit.ZIpois)"
      ],
      "outputs": [],
      "execution_count": null,
      "metadata": {}
    },
    {
      "cell_type": "markdown",
      "source": [
        "Risky drug behavior: Zero-inflated Negative Binomial regression\n",
        "================================================="
      ],
      "metadata": {}
    },
    {
      "cell_type": "code",
      "source": [
        "fit.ZInegbin <- zeroinfl(shared_syr ~ sex+ethn+homeless, \n",
        "                        dist=\"negbin\", data=needledat2)"
      ],
      "outputs": [],
      "execution_count": null,
      "metadata": {
        "attributes": {
          "classes": [],
          "echo": "TRUE,",
          "id": "",
          "message": "FALSE",
          "results": "'hide',"
        }
      }
    },
    {
      "cell_type": "markdown",
      "source": [
        "* *NOTE*: zero-inflation model can include any of your variables as predictors\n",
        "* *WARNING* Default in `zerinfl()` function is to use _all_ variables as predictors in logistic model \n",
        "\n",
        "Zero-inflated Negative Binomial regression - model 1\n",
        "=================================================\n"
      ],
      "metadata": {}
    },
    {
      "cell_type": "code",
      "source": [
        "summary(fit.ZInegbin)"
      ],
      "outputs": [],
      "execution_count": null,
      "metadata": {}
    },
    {
      "cell_type": "markdown",
      "source": [
        "Zero-inflated Negative Binomial regression - simplified ZI model\n",
        "=================================================\n",
        "* Model is much more interpretable if the exposure of interest is _not_ included in the zero-inflation model.\n",
        "* E.g. with HIV status as the only predictor in zero-inflation model:"
      ],
      "metadata": {}
    },
    {
      "cell_type": "code",
      "source": [
        "needledat2$hiv <- factor(ifelse(needledat2$hivstat==0,\n",
        "                                \"negative\",\"positive\"))\n",
        "fit.ZInb2<-zeroinfl(shared_syr~sex+ethn+homeless+hiv|hiv, \n",
        "                        dist=\"negbin\", data=needledat2)"
      ],
      "outputs": [],
      "execution_count": null,
      "metadata": {
        "attributes": {
          "classes": [],
          "echo": "TRUE,",
          "id": "",
          "message": "FALSE",
          "results": "'hide',"
        }
      }
    },
    {
      "cell_type": "markdown",
      "source": [
        "Zero-inflated Negative Binomial regression - model 2\n",
        "=================================================\n"
      ],
      "metadata": {}
    },
    {
      "cell_type": "code",
      "source": [
        "summary(fit.ZInb2)"
      ],
      "outputs": [],
      "execution_count": null,
      "metadata": {}
    },
    {
      "cell_type": "markdown",
      "source": [
        "Intercept-only zero-inflation model\n",
        "================================================="
      ],
      "metadata": {}
    },
    {
      "cell_type": "code",
      "source": [
        "fit.ZInb3 <- zeroinfl(shared_syr~sex+ethn+homeless|1, \n",
        "                        dist=\"negbin\", data=needledat2)\n",
        "summary(fit.ZInb3)"
      ],
      "outputs": [],
      "execution_count": null,
      "metadata": {}
    },
    {
      "cell_type": "markdown",
      "source": [
        "Residuals vs. fitted values\n",
        "=================================================\n",
        "I invisibly define functions plotpanel1 and plotpanel2 that will work for all types of models (see .R or .Rmd file for functions).  These use Pearson residuals."
      ],
      "metadata": {}
    },
    {
      "cell_type": "code",
      "source": [
        "plotpanel1 <- function(fit, ...){\n",
        "  plot(x=predict(fit), y=residuals(fit, type=\"pearson\"), \n",
        "       xlab=\"Predicted Values\", ylab=\"Pearson Residuals\", ...)\n",
        "  abline(h=0, lty=3)\n",
        "  lines(lowess(x=predict(fit), y=resid(fit, type=\"pearson\")), \n",
        "        col=\"red\")\n",
        "}\n",
        "plotpanel2 <- function(fit, ...){\n",
        "  resids <- scale(residuals(fit, type=\"pearson\"))\n",
        "  qqnorm(resids, ylab=\"Std Pearson resid.\", ...)\n",
        "  qqline(resids)\n",
        "}"
      ],
      "outputs": [],
      "execution_count": null,
      "metadata": {
        "attributes": {
          "classes": [],
          "echo": "FALSE",
          "id": ""
        }
      }
    },
    {
      "cell_type": "code",
      "source": [
        "par(mfrow=c(2,2))\n",
        "plotpanel1(fit.pois, main=\"Residuals vs. Fitted\\n Poisson\")\n",
        "plotpanel1(fit.negbin, main=\"Residuals vs. Fitted\\n Negative Binomial\")\n",
        "plotpanel1(fit.ZIpois, main=\"Residuals vs. Fitted\\n Zero-inflated Poisson\")\n",
        "plotpanel1(fit.ZInegbin, main=\"Residuals vs. Fitted\\n Zero-inflated Negative Binomial\")"
      ],
      "outputs": [],
      "execution_count": null,
      "metadata": {
        "attributes": {
          "classes": [],
          "echo": "FALSE,",
          "id": "",
          "warning": "FALSE"
        }
      }
    },
    {
      "cell_type": "markdown",
      "source": [
        "Quantile-quantile plots for residuals\n",
        "================================================="
      ],
      "metadata": {}
    },
    {
      "cell_type": "code",
      "source": [
        "par(mfrow=c(2,2))\n",
        "plotpanel2(fit.pois, main=\"Normal Q-Q Plot\\n Poisson\")\n",
        "plotpanel2(fit.negbin, main=\"Normal Q-Q Plot\\n Negative Binomial\")\n",
        "plotpanel2(fit.ZIpois, main=\"Normal Q-Q Plot\\n Zero-inflated Poisson\")\n",
        "plotpanel2(fit.ZInegbin, main=\"Normal Q-Q Plot\\n Zero-inflated Negative Binomial\")"
      ],
      "outputs": [],
      "execution_count": null,
      "metadata": {
        "attributes": {
          "classes": [],
          "echo": "FALSE,",
          "id": "",
          "warning": "FALSE"
        }
      }
    },
    {
      "cell_type": "markdown",
      "source": [
        "_still_ over-dispersed - ideas?\n",
        "\n",
        "Inference from the different models\n",
        "=================================================\n"
      ],
      "metadata": {}
    },
    {
      "cell_type": "code",
      "source": [
        "library(stargazer)\n",
        "stargazer(fit.pois, fit.negbin, fit.ZIpois, fit.ZInegbin, fit.ZInb3, \n",
        "          title=\"\", type=\"text\",\n",
        "          style=\"default\", header=FALSE)"
      ],
      "outputs": [],
      "execution_count": null,
      "metadata": {
        "attributes": {
          "classes": [],
          "echo": "FALSE,",
          "id": "",
          "message": "FALSE",
          "results": "\"asis\","
        }
      }
    },
    {
      "cell_type": "markdown",
      "source": [
        "Zero-inflated models are 3) Poisson, 4) Negative Binomial, and 5) Negative Binomial with intercept-only zero inflation model.\n",
        "\n",
        "Example of plotting observed and predicted counts\n",
        "================================================="
      ],
      "metadata": {}
    },
    {
      "cell_type": "code",
      "source": [
        "observed <- data.frame(table(needledat2$shared_syr))\n",
        "fit.lm <- lm(shared_syr~sex+ethn+homeless, data=needledat2)\n",
        "pred.lm <- data.frame(table(round(predict(fit.lm))))\n",
        "pred.pois <- data.frame(table(round(predict(fit.pois, type=\"response\"))))\n",
        "pred.negbin <- data.frame(table(round(predict(fit.negbin, type=\"response\"))))\n",
        "pred.ZIpois <- data.frame(table(round(predict(fit.ZIpois, type=\"response\"))))\n",
        "pred.ZInegbin <- data.frame(table(round(predict(fit.ZInegbin, type=\"response\"))))\n",
        "\n",
        "plot(as.numeric(observed[, 1]), observed[, 2], type=\"l\", lwd=2,\n",
        "     xlab=\"Counts\", ylab=\"Frequency\")\n",
        "lines(as.numeric(pred.pois[, 1]), pred.pois[, 2], lty=2, lwd=2)\n",
        "lines(as.numeric(pred.negbin[, 1]), pred.negbin[, 2], lty=3, lwd=2)\n",
        "lines(as.numeric(pred.ZInegbin[, 1]), pred.ZInegbin[, 2], lty=4, lwd=2)\n",
        "legend(\"topright\", legend=c(\"Observed\", \"Poisson\", \"Negbin\", \"ZI negbin\"),\n",
        "       lty=1:4, lwd=2)"
      ],
      "outputs": [],
      "execution_count": null,
      "metadata": {
        "attributes": {
          "classes": [],
          "echo": "FALSE",
          "id": ""
        }
      }
    },
    {
      "cell_type": "markdown",
      "source": [
        "Lab exercises\n",
        "=================================================\n",
        "\n",
        "* Perform chi-square nested deviance tests for the zero-inflated models\n",
        "* Try fitting the needle dataset using a zero-inflated gamma count distribution\n",
        "\n",
        "Resources for R and SAS\n",
        "=================================================\n",
        "* Short, practical tutrorials on regression in R and SAS from UCLA at http://www.ats.ucla.edu/stat/:\n",
        "    + Poisson Regression: http://www.ats.ucla.edu/stat/r/dae/poissonreg.htm\n",
        "    + Negative Binomial: http://www.ats.ucla.edu/stat/r/dae/nbreg.htm\n",
        "    + Zero-inflated Poisson: http://www.ats.ucla.edu/stat/r/dae/zipoisson.htm\n",
        "    + Zero-inflated Negative Binomial: http://www.ats.ucla.edu/stat/r/dae/zinbreg.htm"
      ],
      "metadata": {}
    }
  ],
  "metadata": {
    "kernelspec": {
      "name": "ir",
      "language": "R",
      "display_name": "R"
    },
    "kernel_info": {
      "name": "ir"
    },
    "language_info": {
      "name": "R",
      "codemirror_mode": "r",
      "pygments_lexer": "r",
      "mimetype": "text/x-r-source",
      "file_extension": ".r",
      "version": "3.5.1"
    },
    "nteract": {
      "version": "0.11.9"
    }
  },
  "nbformat": 4,
  "nbformat_minor": 2
}