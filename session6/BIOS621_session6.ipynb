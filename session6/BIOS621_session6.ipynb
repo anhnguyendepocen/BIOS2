{
  "cells": [
    {
      "cell_type": "markdown",
      "source": [
        "# Survival Analysis I\n",
        "\n",
        "author: Levi Waldron\n",
        "\n",
        "# Welcome and outline - session 6\n",
        "\n",
        "* Vittinghoff sections 3.1-3.5\n",
        "* What is survival analysis?\n",
        "    + Outcome variable: time-to-event\n",
        "    + Censored data\n",
        "* Assumptions in survival analysis\n",
        "* Survival function and Kaplan-Meier estimator\n",
        "* Comparing groups - Log-rank test\n",
        "\n",
        "# Learning objectives\n",
        "\n",
        "* Distinguish censored data from binary or continuous data\n",
        "* Define survival function, hazard functions, cumulative event function\n",
        "* Perform a Kaplan-Meier estimate\n",
        "* Perform, interpret, and identify assumptions of the logrank test\n",
        "* Define **potential follow-up time**\n",
        "* Calculate median survival time and potential follow-up time\n",
        "\n",
        "# Outcome variable: time to event\n",
        "\n",
        "* Generally time to the occurrence of a particular event, e.g. \n",
        "    + death\n",
        "    + disease recurrence\n",
        "    + or other experience of interest\n",
        "\n",
        "* Time: The time from the beginning of an observation period t0 (e.g. surgery) to:\n",
        "    + an event, or \n",
        "    + end of the study, or\n",
        "    + loss of contact or withdrawal from the study\n",
        "\n",
        "# Typical research questions\n",
        "\n",
        "* What is the median survival time (in years) of patients diagnosed with a certain disease?\n",
        "* What is the probability of those patients surviving for at least 5 years?\n",
        "* Are certain personal, behavioral, or clinical characteristics correlated with participant’s chance of survival?\n",
        "* Is there a survival difference between groups?\n",
        "    + e.g. treatment vs. control\n",
        "    + e.g. exposed vs. unexposed\n",
        "\n",
        "# Special considerations in survival analysis\n",
        "\n",
        "* Survival data requires special techniques:\n",
        "    + Survival data is generally not normally distributed\n",
        "    + **Censoring** - observe individuals for differing lengths of time that may or may not result in an \"event\"\n",
        "* Censoring is a key challenge in survival analysis.  Consider a clinical study where:\n",
        "    + patient 1 dies 1 month after diagnosis\n",
        "    + patient 2 dies 12 years after diagnosis\n",
        "    + patient 3 is lost to follow-up after 1 month\n",
        "    + patient 4 is still alive after 12 years of follow-up\n",
        "\n",
        "*Question #1: which patients are \"censored?\"*\n",
        "\n",
        "*Question #2: how would you rank these patients in order of disease severity?*\n",
        "\n",
        "# Definitions\n",
        "\n",
        "*Definition*: A survival time is said to be *right-censored* \n",
        "at time t if it is only known to be greater than t.\n",
        "\n",
        "*Definition*: The *survival function* at time t, denoted $S(t)$, is the probability of being event-free at t.  Equivalently, it is the probability that the survival time is greater than t.\n",
        "\n",
        "# leukemia Example: see leuk.csv\n",
        "* Study of 6-mercaptopurine (6-MP) maintenance therapy for children in remission from acute lymphoblastic leukemia (ALL)\n",
        "* 42 patients achieved remission from induction therapy and were then randomized in equal numbers to 6-MP or placebo.\n",
        "* Survival time studied was from randomization until relapse.\n",
        "\nSurvival times in weeks for Placebo group:"
      ],
      "metadata": {}
    },
    {
      "cell_type": "code",
      "source": [
        "leuk <- read.csv(\"leuk.csv\")\n",
        "library(survival)\n",
        "with(leuk[leuk$group==\"Placebo\", ], Surv(time, cens))"
      ],
      "outputs": [],
      "execution_count": null,
      "metadata": {
        "attributes": {
          "classes": [],
          "echo": "FALSE,",
          "id": "",
          "message": "FALSE"
        }
      }
    },
    {
      "cell_type": "markdown",
      "source": [
        "Survival times in weeks for Treatment group:"
      ],
      "metadata": {}
    },
    {
      "cell_type": "code",
      "source": [
        "with(leuk[leuk$group==\"6 MP\", ], Surv(time, cens))"
      ],
      "outputs": [],
      "execution_count": null,
      "metadata": {
        "attributes": {
          "classes": [],
          "echo": "FALSE",
          "id": ""
        }
      }
    },
    {
      "cell_type": "markdown",
      "source": [
        "# A graphical look at the treatment group"
      ],
      "metadata": {}
    },
    {
      "cell_type": "code",
      "source": [
        "par(cex=2)\n",
        "leuk.t <- leuk[leuk$group==\"6 MP\", ]\n",
        "set.seed(1)\n",
        "t0 <- sample(0:26, size=nrow(leuk.t), replace=TRUE)\n",
        "t1 <- t0 + leuk.t$time\n",
        "plot(x=seq(min(t0), max(t1), length.out=nrow(leuk.t)+2), y=0:(nrow(leuk.t)+1), \n",
        "     type='n', yaxt='n', xlab=\"Time (weeks)\", ylab=\"Treatment Group Patients\")\n",
        "segments(x0=t0, x1=t1, y0=1:nrow(leuk.t), y1=1:nrow(leuk.t))\n",
        "points(x=t0, y=1:nrow(leuk.t), pch=\"|\", cex=0.75)\n",
        "points(x=t1[leuk.t$cens==0], y=which(leuk.t$cens==0), pch=\">\", cex=0.5)\n",
        "points(x=t1[leuk.t$cens==1], y=which(leuk.t$cens==1), pch=\"X\", cex=0.5)"
      ],
      "outputs": [],
      "execution_count": null,
      "metadata": {
        "attributes": {
          "classes": [],
          "echo": "FALSE",
          "id": ""
        }
      }
    },
    {
      "cell_type": "markdown",
      "source": [
        "(Initiation times (t0) are simulated between 0 and 26 weeks)\n",
        "\n",
        "# leukemia study follow-up table\n",
        "\n",
        "![leukemia Follow-up Table](figures/leukemiatable.png)\n",
        "\n",
        "This is the **Kaplan-Meier Estimate** $\\hat S(t)$ of the Survival function $S(t)$.\n",
        "\n# Kaplan-Meier Estimate vs. time"
      ],
      "metadata": {}
    },
    {
      "cell_type": "code",
      "source": [
        "suppressPackageStartupMessages(library(survminer))\n",
        "par(cex=1.5)\n",
        "fit <- survfit(Surv(time, cens)~group, data=leuk)\n",
        "ggsurvplot(fit, xlab=\"Time (weeks)\", ylab=\"Survival Probability\", risk.table=TRUE)"
      ],
      "outputs": [],
      "execution_count": null,
      "metadata": {
        "attributes": {
          "classes": [],
          "echo": "FALSE",
          "id": ""
        }
      }
    },
    {
      "cell_type": "markdown",
      "source": [
        "# Median Survival Time\n",
        "\n",
        "*Definition*: *Median Survival Time* is the time at which half of a group (sample, population) is expected to experience an event (in this example, death)\n",
        "\n",
        "* Without censoring, median survival time can be calculated the obvious way\n",
        "* With censoring, we need to use the Kaplan-Meier estimate of the survival function $\\hat S(t)$\n",
        "\n\\footnotesize"
      ],
      "metadata": {}
    },
    {
      "cell_type": "code",
      "source": [
        "survfit(Surv(time, cens)~group, data=leuk)"
      ],
      "outputs": [],
      "execution_count": null,
      "metadata": {}
    },
    {
      "cell_type": "markdown",
      "source": [
        "# Median Potential Follow-Up Time\n",
        "\n",
        "*Definition*: *Median Potential Follow-Up Time* is the time for which half of a sample would have been expected to be followe, *in the absence of events*.\n",
        "\n",
        "* Without any events, median follow-up time can be calculated the obvious way\n",
        "* With events, a simple median will *under-estimate* the potential follow-up time.  Use a reverse Kaplan-Meier estimate instead:\n",
        " \n",
        "\\footnotesize"
      ],
      "metadata": {}
    },
    {
      "cell_type": "code",
      "source": [
        "survfit(Surv(time, 1-cens)~group, data=leuk)"
      ],
      "outputs": [],
      "execution_count": null,
      "metadata": {}
    },
    {
      "cell_type": "markdown",
      "source": [
        "*Note*: *Actual* median follow-up time is half as long for the placebo group, but there is not reason to believe the potential follow-up times were different\n",
        "\n",
        "# Cumulative Event Function\n",
        "\n*Definition*: The *cumulative event function* at time t, denoted $F(t)$, is the probability that the event has occurred by time t, or equivalently, the probability that the survival time is less than or equal to t. Note $F(t) = 1-S(t)$."
      ],
      "metadata": {}
    },
    {
      "cell_type": "code",
      "source": [
        "par(mfrow=c(1,2), cex=1.5)\n",
        "fit <- survfit(Surv(time, cens)~group, data=leuk)\n",
        "plot(fit, lty=1:2, lw=2,\n",
        "     xlab=\"Time (weeks)\", ylab=\"Survival Probability S(t)\")\n",
        "legend(\"topright\", lty=1:2, legend=c(\"6 MP\", \"Placebo\"), bty=\"n\")\n",
        "plot(fit, fun=\"event\", lty=1:2, lw=2, \n",
        "     xlab=\"Time (weeks)\", ylab=\"Event Probability F(t)\")"
      ],
      "outputs": [],
      "execution_count": null,
      "metadata": {
        "attributes": {
          "classes": [],
          "echo": "FALSE,",
          "fig.height": "6",
          "id": ""
        }
      }
    },
    {
      "cell_type": "markdown",
      "source": [
        "# Hazard and Cumulative Hazard functions\n",
        "* $h(t)$: hazard function, risk of event at a point in time\n",
        "    + only calculated by software\n",
        "* $H(t) = -log[S(t)]$: cumulative hazard function\n",
        "    + not easily interpretable\n",
        "    + cumulative force of mortality, or the number of events that would be expected for each individual by time t if the event were a repeatable process.\n",
        "* Will be important next class for Cox Proportional Hazards\n",
        "\n",
        "# Comparing Groups Using the Logrank Test\n",
        "\n",
        "* *logrank test* is used to compare survival between two or more groups\n",
        "    + $H_0$ is that the population survival functions are equal at all follow-up times\n",
        "    + $H_1$ is that the population survival functions differ at at least one follow-up time\n",
        "* logrank test is really just a *chi-square test* comparing expected vs. observed number of events in each group.  \n",
        "    + Observed is just what we see.\n",
        "    + How to calculate expected?\n",
        "    \n",
        "# Comparing Groups Using the Logrank Test\n",
        "\n\\footnotesize"
      ],
      "metadata": {}
    },
    {
      "cell_type": "code",
      "source": [
        "survdiff(Surv(time, cens)~group, data=leuk)"
      ],
      "outputs": [],
      "execution_count": null,
      "metadata": {}
    },
    {
      "cell_type": "markdown",
      "source": [
        "* Many alternatives are available, but log-rank should be the default unless you have good reason.\n",
        "    + E.g. Wilcoxon (Breslow), Tarone-Ware, Peto tests\n",
        "\n\n",
        "# Notes about the Logrank Test\n",
        "\n",
        "* Non-parametric: no assumptions on the form of $S(t)$\n",
        "* Log-rank test and K-M curves don’t work with continuous predictors\n",
        "* Assumes *non-informative censoring*:\n",
        "    + censoring is unrelated to the likelihood of developing the event of interest\n",
        "    + for each subject, his/her censoring time is statistically independent from their failure time\n",
        "    \n",
        "# Summary\n",
        "\n",
        "* Censoring requires special methods to make full use of the data\n",
        "* Kaplan-Meier estimate provides non-parametric estimate of the survival function\n",
        "    + non-parametric meaning that no form of the survival function is assumed; instead it is empirically estimated\n",
        "* Logrank test provides a non-parametric hypothesis test\n",
        "    + H0: identical survival functions of multiple strata\n",
        "\n",
        "# Lab exercises\n",
        "\n",
        "1. Calculate the follow-up table for 6 MP patients in the leukemia study\n",
        "2. Plot the Kaplan-Meier estimate of the follow-up table from 1. `library(survminer)` is recommendable. \n",
        "3. What is the 75th percentile of survival times for the 6 MP group? For the Placebo group? This is the time that 75% of the patients survive.\n",
        "4. Suppose you were instructed to cap follow-up times at 20 weeks. Re-do the Kaplan-Meier plot for both groups, and re-do the logrank test.\n",
        "5. Give a hypothetical example of how censoring in this example might be \"informative.\""
      ],
      "metadata": {}
    }
  ],
  "metadata": {
    "nteract": {
      "version": "0.11.9"
    }
  },
  "nbformat": 4,
  "nbformat_minor": 2
}