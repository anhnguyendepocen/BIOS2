{
 "cells": [
  {
   "cell_type": "markdown",
   "metadata": {},
   "source": [
    "# Session 7 PBC lab\n",
    "## Levi Waldron\n",
    "\n",
    "# Example: Primary Biliary Cirrhosis (PBC)\n",
    "\n",
    "* Mayo Clinic trial in primary biliary cirrhosis (PBC) of the liver conducted between 1974 and 1984, n=424 patients. \n",
    "* randomized placebo controlled trial of the drug D-penicillamine.\n",
    "    + 312 cases from RCT, plus additional 112 not from RCT.\n",
    "* Primary outcome is (censored) time to death"
   ]
  },
  {
   "cell_type": "code",
   "execution_count": null,
   "metadata": {},
   "outputs": [],
   "source": [
    "library(survival)\n",
    "data(pbc)\n",
    "summary(pbc)"
   ]
  },
  {
   "cell_type": "markdown",
   "metadata": {},
   "source": [
    "# Problems\n",
    "\n",
    "1. Create a `Surv` object using variables \"time\" and \"status\", add this to the pbc dataframe\n",
    "2. Plot a KM curve for all participants using `library(survminer)` function `ggsurvplot()`. \n",
    "3. Stratify by treatment and add a p-value to this plot (see `?ggsurvplot`). \n",
    "4. Check on the command line whether these p-values correspond to results from a log-rank test.\n",
    "5. Perform a Cox proportional hazards regression, using the \"trt\" variable as a predictor.\n",
    "6. Create a log-minus-log plot to test the proportional hazards assumption."
   ]
  }
 ],
 "metadata": {
  "kernelspec": {
   "display_name": "R",
   "language": "R",
   "name": "ir"
  },
  "language_info": {
   "codemirror_mode": {
    "name": "ipython",
    "version": 2
   },
   "file_extension": ".py",
   "mimetype": "text/x-python",
   "name": "python",
   "nbconvert_exporter": "python",
   "pygments_lexer": "ipython2",
   "version": "2.7.15"
  },
  "nteract": {
   "version": "0.11.9"
  }
 },
 "nbformat": 4,
 "nbformat_minor": 2
}
