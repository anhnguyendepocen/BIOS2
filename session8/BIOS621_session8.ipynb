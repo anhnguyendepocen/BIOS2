{
 "cells": [
  {
   "cell_type": "markdown",
   "metadata": {},
   "source": [
    "# Session 8 - Survival Analysis III\n",
    "\n",
    "## Levi Waldron\n",
    "\n",
    "\n",
    "# Welcome and outline - session 8\n",
    "\n",
    "**Learning Objectives:**\n",
    "\n",
    "* Check model assumptions and fit of the Cox model\n",
    "    + residuals analysis\n",
    "    + log-minus-log plot\n",
    "* Fit and interpret multivariate Cox models\n",
    "    + perform tests for trend\n",
    "    + predict survival for specific covariate patterns\n",
    "    + predict survival for adjusted coefficients\n",
    "\n",
    "* Explain and perform stratified analysis and its use\n",
    "* Explain time-dependent covariates and when to use them\n",
    "    \n",
    "* Vittinghoff sections 6.2-6.4\n",
    "    \n",
    "\n",
    "# Cox proportional hazards model\n",
    "\n",
    "* Cox proportional hazard regression assesses the relationship between a right-censored, time-to-event outcome and multiple predictors:\n",
    "    + categorical variables (e.g., treatment groups)\n",
    "    + continuous variables\n",
    "\n",
    "$$\n",
    "log(HR(x_i)) = log \\frac{h(t|x_i)}{h_0(t)} = \\beta_0 + \\beta_1 x_{1i} + \\beta_2 x_{2i} + ... + \\beta_p x_{pi}\n",
    "$$\n",
    "\n",
    "* $HR(x_i)$ is the hazard of patient $i$ relative to baseline\n",
    "* $h(t|x_i)$ is the time-dependent hazard function $h(t)$ for patient $i$\n",
    "* $h_0(t)$ is the *baseline hazard function*, and is the negative of the slope of the $S_0(t)$, the baseline _survival_ function.\n",
    "\n",
    "* Multiplicative model\n",
    "\n",
    "# Caveats and Assumptions\n",
    "* Categories with no events\n",
    "    + can occur when the group is small or its risk is low\n",
    "    + HRs with respect to such a reference group are infinite\n",
    "    + hypothesis tests and CIs are difficult / impossible to interpret\n",
    "\n",
    "* Assumptions of Cox PH model\n",
    "    + Constant hazard ratio over time (proportional hazards)\n",
    "    + Linear association between log(HR) and predictors (log-linearity) / multiplicative relationship between hazard and predictors\n",
    "    + Independence of survival times between individuals in the sample\n",
    "\n",
    "# Residuals analysis\n",
    "* Residuals are used to investigate the lack of fit of a model to a given subject. \n",
    "* For Cox regression, there’s no easy analog to the usual \"observed minus predicted\" residual"
   ]
  },
  {
   "cell_type": "code",
   "execution_count": null,
   "metadata": {},
   "outputs": [],
   "source": [
    "library(pensim); set.seed(1)\n",
    "mydat <- create.data(nvars=c(1, 1), nsamples=500, \n",
    "    cors=c(0, 0), associations=c(0.5, 0.5), \n",
    "    firstonly=c(TRUE, TRUE), censoring=c(0, 8.5))$data"
   ]
  },
  {
   "cell_type": "code",
   "execution_count": null,
   "metadata": {
    "attributes": {
     "classes": [],
     "echo": "TRUE",
     "id": ""
    }
   },
   "outputs": [],
   "source": [
    "## Rename variables of simulated data, and make one variable categorical.\n",
    "colnames(mydat)[1:2] <- c(\"Var1\", \"Var2\")\n",
    "mydat$Var1 <- cut(mydat$Var1, breaks=2, labels=c(\"low\", \"high\"))\n",
    "mydat$time <- ceiling(mydat$time*1000)"
   ]
  },
  {
   "cell_type": "markdown",
   "metadata": {},
   "source": [
    "# Simulated data to test residuals methods"
   ]
  },
  {
   "cell_type": "code",
   "execution_count": null,
   "metadata": {},
   "outputs": [],
   "source": [
    "summary(mydat)"
   ]
  },
  {
   "cell_type": "markdown",
   "metadata": {},
   "source": [
    "# Kaplan-Meier plot of simulated data, stratified by Var1"
   ]
  },
  {
   "cell_type": "code",
   "execution_count": null,
   "metadata": {
    "attributes": {
     "classes": [],
     "echo": "FALSE",
     "id": ""
    }
   },
   "outputs": [],
   "source": [
    "##Do Kaplan-Meier plot\n",
    "par(cex=1.5)\n",
    "suppressPackageStartupMessages({\n",
    "  library(survival)\n",
    "  library(survminer)\n",
    "})\n",
    "kmfit <- survfit(Surv(time, cens)~Var1, data=mydat)\n",
    "ggsurvplot(kmfit, risk.table = TRUE, linetype=1:2)"
   ]
  },
  {
   "cell_type": "markdown",
   "metadata": {},
   "source": [
    "# Martingale residuals\n",
    "\n",
    "* censoring variable $c_i$ (1 if event, 0 if censored) minus the estimated cumulative hazard function $H(t_i, X_i, \\beta_i)$ (1 - survival function)\n",
    "    + E.g., for a subject censored at 1 year ($c_i=0$), whose predicted cumulative hazard at 1 year was 30\\%, Martingale = 0 - 0.30 = -0.30.\n",
    "    + E.g. for a subject who had an event at 6 months, and whose predicted cumulative hazard at 6 months was 80%, Margingale = 1 - 0.8 = 0.2.\n",
    "\n",
    "* Problem: not symmetrically distributed, even when model fits the data well\n",
    "\n",
    "# Martingale residuals in simulated data"
   ]
  },
  {
   "cell_type": "code",
   "execution_count": null,
   "metadata": {
    "attributes": {
     "classes": [],
     "echo": "FALSE",
     "id": ""
    }
   },
   "outputs": [],
   "source": [
    "fitsim <- coxph(Surv(time, cens) ~ Var1 + Var2, data=mydat)\n",
    "par(cex=1.5)\n",
    "plot(mydat$time, resid(fitsim),\n",
    "     xlab=\"Time\", ylab=\"Martingale Residuals\")\n",
    "abline(h=0, lty=2)\n",
    "lines(lowess(mydat$time, resid(fitsim)), col='red')"
   ]
  },
  {
   "cell_type": "markdown",
   "metadata": {},
   "source": [
    "# Deviance residuals in simulated data\n",
    "* Deviance residuals are scaled Martingale residuals\n",
    "* Should be more symmetrically distributed about zero?\n",
    "* Observations with large deviance residuals are poorly predicted by the model"
   ]
  },
  {
   "cell_type": "code",
   "execution_count": null,
   "metadata": {
    "attributes": {
     "classes": [],
     "echo": "FALSE",
     "id": ""
    }
   },
   "outputs": [],
   "source": [
    "par(cex=1.5)\n",
    "plot(mydat$time, resid(fitsim, type=\"deviance\"),\n",
    "     xlab=\"Time\", ylab=\"Deviance Residuals\")\n",
    "abline(h=0, lty=2)\n",
    "lines(lowess(mydat$time, resid(fitsim)),col='red')"
   ]
  },
  {
   "cell_type": "markdown",
   "metadata": {},
   "source": [
    "# Schoenfeld residuals\n",
    "* technical definition: contribution of a covariate at each event time to the partial derivative of the log-likelihood\n",
    "* intuitive interpretation: the observed minus the expected values of the covariates at each event time.\n",
    "* a random (unsystematic) pattern across event times gives evidence the covariate effect is not changing with respect to time\n",
    "* If it is systematic, it suggests that as time passes, the covariate effect is changing.\n",
    "\n",
    "# Schoenfeld residuals for simulated data"
   ]
  },
  {
   "cell_type": "code",
   "execution_count": null,
   "metadata": {
    "attributes": {
     "classes": [],
     "echo": "FALSE",
     "id": ""
    }
   },
   "outputs": [],
   "source": [
    "fitzph <- cox.zph(fitsim)\n",
    "par(mfrow=c(1,2), cex=1.5)\n",
    "plot(fitzph, var=1)\n",
    "plot(fitzph, var=2)"
   ]
  },
  {
   "cell_type": "markdown",
   "metadata": {},
   "source": [
    "# Schoenfeld test for proportional hazards\n",
    "\n",
    "* Tests correlation between scaled Schoenfeld residuals and time\n",
    "* Equivalent to fitting a simple linear regression model with time as the predictor and residuals as the outcome\n",
    "* Parametric analog of smoothing the residuals against time using LOWESS\n",
    "* If the hazard ratio is constant, correlation should be zero.\n",
    "    + Positive values of the correlation suggest that the log-hazard ratio increases with time."
   ]
  },
  {
   "cell_type": "code",
   "execution_count": null,
   "metadata": {
    "attributes": {
     "classes": [],
     "echo": "FALSE",
     "id": ""
    }
   },
   "outputs": [],
   "source": [
    "fitzph"
   ]
  },
  {
   "cell_type": "markdown",
   "metadata": {},
   "source": [
    "# The hazard function h(t), stratified by Var1"
   ]
  },
  {
   "cell_type": "code",
   "execution_count": null,
   "metadata": {
    "attributes": {
     "classes": [],
     "echo": "FALSE",
     "id": ""
    }
   },
   "outputs": [],
   "source": [
    "par(cex=1.5)\n",
    "library(muhaz)\n",
    "hazhigh = with(mydat[mydat$Var1==\"high\", ], muhaz(time, cens))\n",
    "hazlow = with(mydat[mydat$Var1==\"low\", ], muhaz(time, cens))\n",
    "plot(hazlow, lwd=2, ylim=c(0, 0.002), xlab=\"Follow-up time\")\n",
    "lines(hazhigh, lty=2, lwd=2, col=\"red\")\n",
    "legend(\"topleft\", legend=c(\"Var1 = low\", \"Var1 = high\"), lty=1:2, lwd=2, col=c(\"black\", \"red\"), bty='n')"
   ]
  },
  {
   "cell_type": "markdown",
   "metadata": {},
   "source": [
    "# Log-minus-log plot"
   ]
  },
  {
   "cell_type": "code",
   "execution_count": null,
   "metadata": {
    "attributes": {
     "classes": [],
     "echo": "FALSE",
     "id": ""
    }
   },
   "outputs": [],
   "source": [
    "kmfit <- survfit(Surv(time, cens) ~ Var1, data=mydat)\n",
    "ggsurvplot(kmfit, fun=\"cloglog\")"
   ]
  },
  {
   "cell_type": "markdown",
   "metadata": {},
   "source": [
    "# Example: Primary Biliary Cirrhosis (PBC)\n",
    "\n",
    "* Mayo Clinic trial in primary biliary cirrhosis (PBC) of the liver conducted between 1974 and 1984, n=424 patients. \n",
    "* randomized placebo controlled trial of the drug D-penicillamine.\n",
    "    + 312 cases from RCT, plus additional 112 not from RCT.\n",
    "* Primary outcome is (censored) time to death\n",
    "\n",
    "# Kaplan-Meier plot of treatment and placebo arms"
   ]
  },
  {
   "cell_type": "code",
   "execution_count": null,
   "metadata": {
    "attributes": {
     "classes": [],
     "echo": "FALSE,",
     "id": "",
     "message": "FALSE"
    }
   },
   "outputs": [],
   "source": [
    "## Data cleaning\n",
    "pbc <- read.csv(\"PBC.csv\", row.names=1)\n",
    "pbc.os <- pbc[!is.na(pbc$time) & !is.na(pbc$status) & !is.na(pbc$trt), ]\n",
    "pbc.os$os <- pbc.os$status==2\n",
    "pbc.os <- pbc.os[!is.na(pbc.os$status), ]\n",
    "pbc.os$arm <- factor(pbc.os$trt, levels=2:1, labels=c(\"placebo\", \"treatment\"))\n",
    "pbc.os$ascites <- factor(pbc.os$ascites)\n",
    "pbc.os$hepato <- factor(pbc.os$hepato)\n",
    "pbc.os$spiders <- factor(pbc.os$spiders)\n",
    "pbc.os$edema <- factor(pbc.os$edema)\n",
    "pbc.os$stage <- factor(pbc.os$stage)"
   ]
  },
  {
   "cell_type": "code",
   "execution_count": null,
   "metadata": {
    "attributes": {
     "classes": [],
     "echo": "FALSE",
     "id": "",
     "message": "FALSE,"
    }
   },
   "outputs": [],
   "source": [
    "##KM plot of PBC data\n",
    "par(cex=1.5)\n",
    "library(survival)\n",
    "fit <- survfit(Surv(time/365, os) ~ arm, data=pbc.os)\n",
    "survminer::ggsurvplot(fit, risk.table = TRUE, linetype=1:2)"
   ]
  },
  {
   "cell_type": "markdown",
   "metadata": {},
   "source": [
    "# Tests for trend\n",
    "\n",
    "* For ordinal variables like stage (1, 2, 3, 4)\n",
    "    + This is a test for linear / quadratic / cubic relationship between coefficients and their index\n",
    "    + Model selection by LRT or Wald Test"
   ]
  },
  {
   "cell_type": "code",
   "execution_count": null,
   "metadata": {
    "attributes": {
     "classes": [],
     "echo": "FALSE",
     "id": ""
    }
   },
   "outputs": [],
   "source": [
    "par(cex=2)\n",
    "## This is a manual way to plot the trend.\n",
    "fit <- coxph(Surv(time, os) ~ stage, data=pbc.os)\n",
    "stagecoefs <- c(0, coef(fit)[c(\"stage2\", \"stage3\", \"stage4\")])\n",
    "plot(x=1:4, y=stagecoefs, type=\"b\", xlab=\"Stages 2, 3, 4 (1=ref)\", \n",
    "     ylab=\"Coefficient, ie ln(HR)\", xlim=c(1, 4))\n",
    "## In R, just define stage as an ordered factor and tests for trend are done automatically:\n",
    "pbc.os$stageordered <- factor(pbc.os$stage, ordered=TRUE)\n",
    "fit <- coxph(Surv(time, os) ~ stageordered, data=pbc.os)\n",
    "summary(fit)  ##highly significant tests of overall fit by LRT, Wald, and logrank test."
   ]
  },
  {
   "cell_type": "markdown",
   "metadata": {},
   "source": [
    "# Predicted survival for specific covariate patterns\n",
    "* The Cox model is a _relative_ risk model\n",
    "    + only predicts relative risks between pairs of subjects \n",
    "* Key is to calculate the overall $S(t)$, then multiply it by the relative hazard for the specific covariate pattern.\n",
    "* In this example we plot the baseline survival for all stages together, then for stages 1-4 separately. \n",
    "\n",
    "# Predicted survival for specific covariate patterns"
   ]
  },
  {
   "cell_type": "code",
   "execution_count": null,
   "metadata": {
    "attributes": {
     "classes": [],
     "echo": "FALSE",
     "id": ""
    }
   },
   "outputs": [],
   "source": [
    "par(cex=1.5)\n",
    "fit <- coxph(Surv(time, os) ~ stage, data=pbc.os)\n",
    "##HR for each stage, relative to overall\n",
    "HR <- predict(fit, newdata=data.frame(stage=factor(1:4)))\n",
    "plot(survfit(fit)$time, survfit(fit)$surv, type=\"l\", xlab=\"Time (days)\", ylab=\"Survival Probability\")\n",
    "for (i in 1:4)\n",
    "  lines(survfit(fit)$time, (survfit(fit)$surv)^exp(HR[i]), type=\"l\", col=i+1, lty=i+1)\n",
    "legend(\"bottomleft\", legend=c(\"Overall\", \"Stage 1\", \"Stage 2\", \"Stage 3\", \"Stage 4\"), col=1:5, lty=1:5, bty=\"n\")"
   ]
  },
  {
   "cell_type": "markdown",
   "metadata": {},
   "source": [
    "# Multivariate regression\n",
    "\n",
    "* Same coding and objectives as for `lm()` and `glm()`\n",
    "    + controlling for confounding\n",
    "    + testing for mediation\n",
    "    + testing for interaction\n",
    "\n",
    "# Multivariate regression"
   ]
  },
  {
   "cell_type": "code",
   "execution_count": null,
   "metadata": {},
   "outputs": [],
   "source": [
    "fit <- coxph(Surv(time, os) ~ age + sex + edema \n",
    "                + stage + arm, data=pbc.os)\n",
    "summary(fit)"
   ]
  },
  {
   "cell_type": "markdown",
   "metadata": {},
   "source": [
    "# Predicted survival for adjusted coefficients\n",
    "\n",
    "* Can create Kaplan-Meier curves for crude or unadjusted coefficients\n",
    "    + Section 6.3.2.3 in Vittinghoff\n",
    "* Idea is to estimate hazard ratio in an unadjusted model:"
   ]
  },
  {
   "cell_type": "code",
   "execution_count": null,
   "metadata": {},
   "outputs": [],
   "source": [
    "unadjfit <- coxph(Surv(time, os) ~ stage, data=pbc.os)\n",
    "coef(unadjfit)"
   ]
  },
  {
   "cell_type": "markdown",
   "metadata": {},
   "source": [
    "# Predicted survival for adjusted coefficients\n",
    "\n",
    "* and in an adjusted model:"
   ]
  },
  {
   "cell_type": "code",
   "execution_count": null,
   "metadata": {},
   "outputs": [],
   "source": [
    "adjfit <- coxph(Surv(time, os) ~ age + sex + edema \n",
    "                + stage + arm, data=pbc.os)\n",
    "coef(adjfit)"
   ]
  },
  {
   "cell_type": "markdown",
   "metadata": {},
   "source": [
    "# Predicted survival for adjusted coefficients (cont'd)\n",
    "\n",
    "* The survival function will be calculated for a \"baseline\" group, say stage 1, then exponentiated with the adjusted coefficient, e.g.:\n",
    "$$\n",
    "[S_{stage=1}(t)]^{exp(\\beta_{stage=4})}\n",
    "$$"
   ]
  },
  {
   "cell_type": "code",
   "execution_count": null,
   "metadata": {
    "attributes": {
     "classes": [],
     "echo": "FALSE",
     "id": ""
    }
   },
   "outputs": [],
   "source": [
    "par(cex=1.5)\n",
    "basefit <- survfit(unadjfit, newdata=data.frame(stage=factor(1)))\n",
    "plot(x=basefit$time, y=basefit$surv, type=\"l\", ylim=c(0, 1), xlab=\"Time\", ylab=\"Survival Probability\")\n",
    "stage4unadj <- (basefit$surv)^(exp(coef(unadjfit)[\"stage4\"]))\n",
    "stage4adj <- (basefit$surv)^(exp(coef(adjfit)[\"stage4\"]))\n",
    "lines(x=basefit$time, y=stage4adj, col=\"red\", lty=1, lw=2)\n",
    "lines(x=basefit$time, y=stage4unadj, col=\"blue\", lty=3)\n",
    "legend(\"bottomleft\", legend=c(\"Stage 1\", \"Stage 4 adjusted\", \"Stage 4 unadjusted\"),\n",
    "       col=c(\"black\", \"red\", \"blue\"), lw=c(1,2,1), lty=c(1,1,3))"
   ]
  },
  {
   "cell_type": "markdown",
   "metadata": {},
   "source": [
    "# Stratification\n",
    "\n",
    "* Vittinghoff 6.3.2\n",
    "* Separates the analysis into strata\n",
    "    + must have an adequate number of events in each stratum (at least 5 to 7)\n",
    "    + can be used to adjust for variables with strong impact on survival\n",
    "    + can help solve proportional hazards violations\n",
    "    \n",
    "* Strata have different baseline hazards\n",
    "* Coefficients / Hazard Ratios are calculated within stratum then combined.\n",
    "\n",
    "# Stratification\n",
    "\n",
    "**Example - in R, strata() can be added to any model formula**"
   ]
  },
  {
   "cell_type": "code",
   "execution_count": null,
   "metadata": {},
   "outputs": [],
   "source": [
    "mycox <- coxph(Surv(time, os) ~ trt + strata(stage), data=pbc.os)\n",
    "summary(mycox)"
   ]
  },
  {
   "cell_type": "markdown",
   "metadata": {},
   "source": [
    "# Immortal Time Bias in observational studies\n",
    "\n",
    "* For example, Yee *et al.* reported that new statin users reported a 26% reduction in the risk of diabetes progression with one year or more of treatment relative to never-users (adjusted HR 0.74, 95% CI: 0.56 to 0.97).\n",
    "    + New users excludes those who had received a lipid lowering drug from three years before to six months after cohort entry\n",
    "* This is a surprising finding because of confounding: people whose diabetes progresses are more likely to develop cardiovascular disease, an indication for statins.\n",
    "    + would result in HR > 1\n",
    "* Why?\n",
    "\n",
    "* Yee *et al.* Statin use in type 2 diabetes mellitus is associated with a delay in starting insulin (http://onlinelibrary.wiley.com/doi/10.1111/j.1464-5491.2004.01263.x/full)\n",
    "\n",
    "# Immortal Time Bias in observational studies\n",
    "\n",
    "* Why?\n",
    "    + all person days between cohort entry and end of follow-up were **classified as treated** for those who met the statin user definition, regardless of the date on which they met this definition and as untreated for non-users\n",
    "    + thus all persons in the *treated* group are \"immortal\" from time 0 until the initiation of statin treatment\n",
    "    + this period of immortality makes treatment look more effective\n",
    "\n",
    "# A solution: Time-dependent covariates (TDC)\n",
    "\n",
    "**Definition: A time-dependent covariate in a Cox model is a predictor whose values may vary with time.**\n",
    "\n",
    "* A solution is treating statin prescription as a Time Dependent Covariate (TDC) (Levesque \n",
    "*et al.*)\n",
    "* Levesque *et al.* Problem of immortal time bias in cohort studies: example using statins for preventing progression of diabetes (https://doi.org/10.1136/bmj.b5087)\n",
    "\n",
    "\n",
    "# Lab exercises\n",
    "\n",
    "Use the **PBC** dataset for these exercises.\n",
    "\n",
    "1. Does the dataset actually contain `n=424` patients as stated above?\n",
    "2. For how many patients is there complete data for `time`, `status`, and `trt`?\n",
    "3. Which variables are categorical, and which are continuous?\n",
    "4. Make a Kaplan-Meier plot for overall survival, stratified by the `trt` variable. \n",
    "5. Fit univariate Cox models for each available covariate, using a loop. Which have significant p-values (you can ignore multiple testing for now)?\n",
    "6. Fit a multivariate Cox model with `trt` and `spiders` as covariates. \n",
    "     a. Interpret the coefficients and p-values from this multivariate model. \n",
    "     b. Create a log-minus-log plots for `treatment+spiders` model. At what times, if any, does it look like there might be any violation of the proportional hazards assumption?\n",
    "7. Fit a Cox model with `trt` as a covariate while stratifying by `spiders`. Does this stratification make any relevant difference?\n",
    "8. Suppose it is hypothesized that the treatment effect is time-dependent, and changes at 5 years. Create a time-dependent covariate that is a step function at 5 years, and test this hypothesis by using an interaction term between the new time-dependent covariate and the `trt` variable, with these two covariates plus `spiders`, in the model."
   ]
  }
 ],
 "metadata": {
  "kernelspec": {
   "display_name": "R",
   "language": "R",
   "name": "ir"
  },
  "language_info": {
   "codemirror_mode": "r",
   "file_extension": ".r",
   "mimetype": "text/x-r-source",
   "name": "R",
   "pygments_lexer": "r",
   "version": "3.5.1"
  }
 },
 "nbformat": 4,
 "nbformat_minor": 2
}
