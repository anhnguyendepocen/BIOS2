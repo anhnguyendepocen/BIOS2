{
  "cells": [
    {
      "cell_type": "markdown",
      "source": [
        "# Repeated Measures and Longitudinal Data Analysis I\n",
        "## Levi Waldron\n",
        "\n",
        "# Welcome and outline - session 9\n",
        "\n",
        "Learning objectives:\n",
        "\n",
        "* Identify and define hierarchical and longitudinal data\n",
        "* Analyze correlated data using Analysis of Variance\n",
        "* Identify and define random and fixed effects\n",
        "\n",
        "Textbook sections:\n",
        "\n",
        "* Vittinghoff sections 7.1 (7.2-7.3 next class)\n",
        "\n",
        "# What are hierarchical and longitudinal data?\n",
        "\n",
        "* Knee radiographs are taken yearly in order to understand the onset of osteoarthritis\n",
        "* An indicator of heart damage is measured at 1, 3, and 6 days following a brain hemorrhage.\n",
        "* Groups of patients in a urinary incontinence trial are assembled from different treatment centers\n",
        "* Susceptibility to tuberculosis is measured in family members\n",
        "* A study of the choice of type of surgery to treat a brain aneurysm either by clipping the base of the aneurysm or implanting a small coil. The study is conducted by measuring the type of surgery a patient receives from a number of surgeons at a number of different institutions.\n",
        "\n",
        "# What is the distinction between hierarchical and longitudinal data?\n",
        "\n",
        "* Longitudinal data are repeated measures over time\n",
        "* Longitudinal data are a type of hierarchical data\n",
        "    - repeated measures are correlated, and nested within the observational unit (individual)\n",
        "* Other non-longitudinal data can also be hierarchical\n",
        "\n",
        "_Definition_: Hierarchical data are data (responses or predictors) collected from or specific to different levels within a study.\n",
        "\n",
        "# Important features of this type of data\n",
        "\n",
        "1. The outcomes are correlated across observations\n",
        "2. The predictor variables can be associated with different levels of a hierarchy.  _e.g._ we might be interested in:\n",
        "     - the volume of operations at the hospital, \n",
        "     - whether it is a for-profit or not-for-profit hospital,\n",
        "     - years of experience of the surgeon or where surgeons were trained, \n",
        "     - how the choice of surgery type depends on the age and gender of the patient.\n",
        "\n",
        "# A Simple Repeated Measures Example: Fecal Fat\n",
        "\n",
        "* Lack of digestive enzymes in the intestine can cause bowel absorption problems.\n",
        "     - This will be indicated by excess fat in the feces. \n",
        "     - Pancreatic enzyme supplements can alleviate the problem.\n",
        "     - fecfat.csv: a study of fecal fat quantity (g/day) for individuals given each of a placebo and 3 types of pills\n",
        "     \n",
        "![Fecal Fat dataset](VittinghoffTable71.png)\n",
        "\n# Option 1: non-hierarchical analysis (wrong)"
      ],
      "metadata": {}
    },
    {
      "cell_type": "code",
      "source": [
        "fecfat <- read.csv(\"fecfat.csv\")\n",
        "fecfat$pilltype <- factor(fecfat$pilltype, levels=c(\"none\", \"tablet\", \"capsule\", \"coated\"))\n",
        "fecfat$subject <- factor(fecfat$subject)"
      ],
      "outputs": [],
      "execution_count": null,
      "metadata": {
        "attributes": {
          "classes": [],
          "echo": "FALSE",
          "id": ""
        }
      }
    },
    {
      "cell_type": "code",
      "source": [
        "par(cex=1.5)\n",
        "library(RColorBrewer)\n",
        "# colors from display.brewer.all(n=3)\n",
        "mycols <- c(\"white\", brewer.pal(n=3, \"Pastel2\"))\n",
        "boxplot(fecfat ~ pilltype, data=fecfat,\n",
        "        notch=TRUE,\n",
        "        col=mycols, \n",
        "        xlab=\"Treatment\", ylab=\"Fecal Fat (mg/day)\")\n",
        "stripchart(fecfat ~ pilltype, data=fecfat, vertical=TRUE, pch=20,\n",
        "           method=\"jitter\", jitter=0.1, add=TRUE)"
      ],
      "outputs": [],
      "execution_count": null,
      "metadata": {
        "attributes": {
          "classes": [],
          "echo": "FALSE,",
          "id": "",
          "warning": "FALSE"
        }
      }
    },
    {
      "cell_type": "markdown",
      "source": [
        "# Option 1: non-hierarchical analysis (wrong)"
      ],
      "metadata": {}
    },
    {
      "cell_type": "code",
      "source": [
        "fit1way <- lm(fecfat ~ pilltype, data=fecfat)"
      ],
      "outputs": [],
      "execution_count": null,
      "metadata": {}
    },
    {
      "cell_type": "code",
      "source": [
        "library(xtable)\n",
        "print(xtable(anova(fit1way), caption=\"One-way analysis of variance table for fecal fat dataset\"), comment=FALSE)\n",
        "##library(stargazer)\n",
        "##stargazer(anova(fit1way), title=\"One-way analysis of variance results\", style=\"all2\", header=FALSE)"
      ],
      "outputs": [],
      "execution_count": null,
      "metadata": {
        "attributes": {
          "classes": [],
          "echo": "FALSE,",
          "id": "",
          "message": "FALSE",
          "results": "'asis',"
        }
      }
    },
    {
      "cell_type": "markdown",
      "source": [
        "* Does not account for similarity of measurements within individual\n",
        "* Would be correct if each treatment were given to a different individual\n",
        "\n",
        "# Option 2: two-way analysis of variance (getting closer)\n",
        "\n",
        "* Accounts for individual differences in mean fecal fat\n",
        "* Fits a coefficient for mean fecal fat per indivudual"
      ],
      "metadata": {}
    },
    {
      "cell_type": "code",
      "source": [
        "fecfat$fecfatminusmean <- residuals(lm(fecfat ~ subject, data=fecfat))\n",
        "par(mfrow=c(1,2), cex=1.35)\n",
        "interaction.plot(x.factor=fecfat$pilltype, \n",
        "                 trace.factor=fecfat$subject, \n",
        "                 response=fecfat$fecfat, \n",
        "                 xlab=\"Treatment\", ylab=\"Fecal Fat (mg/day)\",\n",
        "                 main=\"No subject effect correction\", legend=FALSE)\n",
        "interaction.plot(x.factor=fecfat$pilltype, \n",
        "                 trace.factor=fecfat$subject, \n",
        "                 response=fecfat$fecfatminusmean, \n",
        "                 xlab=\"Treatment\", ylab=\"Fecal Fat (mg/day)\",\n",
        "                 main=\"Subject mean subtracted\", legend=FALSE)"
      ],
      "outputs": [],
      "execution_count": null,
      "metadata": {
        "attributes": {
          "classes": [],
          "echo": "FALSE,",
          "fig.height": "6",
          "id": ""
        }
      }
    },
    {
      "cell_type": "markdown",
      "source": [
        "# Option 2: 2-way analysis of variance (getting closer)"
      ],
      "metadata": {}
    },
    {
      "cell_type": "code",
      "source": [
        "fit1way <- lm(fecfat ~ pilltype, data=fecfat)"
      ],
      "outputs": [],
      "execution_count": null,
      "metadata": {}
    },
    {
      "cell_type": "code",
      "source": [
        "print(xtable::xtable(anova(fit1way), caption=\"One-way analysis of variance table for fecal fat dataset\"), comment=FALSE)"
      ],
      "outputs": [],
      "execution_count": null,
      "metadata": {
        "attributes": {
          "classes": [],
          "echo": "FALSE,",
          "id": "",
          "message": "FALSE",
          "results": "'asis',"
        }
      }
    },
    {
      "cell_type": "code",
      "source": [
        "fit2way <- lm(fecfat ~ subject + pilltype, data=fecfat)"
      ],
      "outputs": [],
      "execution_count": null,
      "metadata": {}
    },
    {
      "cell_type": "code",
      "source": [
        "print(xtable(anova(fit2way), label=\"2\", caption=\"Two-way analysis of variance table. Note the similarity of the pilltype row.\"), comment=FALSE)"
      ],
      "outputs": [],
      "execution_count": null,
      "metadata": {
        "attributes": {
          "classes": [],
          "echo": "FALSE,",
          "id": "",
          "message": "FALSE",
          "results": "'asis',"
        }
      }
    },
    {
      "cell_type": "markdown",
      "source": [
        "# What happened??\n",
        "\n",
        "* 1-way ANOVA correctly estimates the effect of pill type\n",
        "* However, 1-way ANOVA fails to accommodate the correlation within subjects\n",
        "* 1-way ANOVA over-estimates the residual variance\n",
        "     - under-estimates the significance of pill type\n",
        "\n",
        "# Regression models for 1 and 2-way ANOVA\n",
        "\n",
        "* Recall for ordinary multiple linear regression:\n",
        "\\begin{equation*}\n",
        "E[y|x] = \\beta_0 + \\beta_1 x_1 + \\beta_2 x_2 + ... + \\beta_p x_p\n",
        "\\end{equation*}\n",
        "     - $x_p$ are the predictors or independent variables\n",
        "     - $y$ is the outcome, response, or dependent variable\n",
        "     - $E[y|x]$ is the expected value of $y$ given $x$\n",
        "     - $\\beta_p$ are the regression coefficients\n",
        "\n",
        "# Regression models for 1 and 2-way ANOVA\n",
        "\n",
        "* One-way ANOVA (person $i$ with pill type $j$):\n",
        "\\begin{equation*}\n",
        "\\begin{aligned}\n",
        "FECFAT_{ij} &= \\textrm{fecal fat measurement for person i with pill type j} \\\\\n",
        "            &= \\mu + PILLTYPE_j + \\epsilon_{ij}\n",
        "\\end{aligned}\n",
        "\\end{equation*}\n",
        "\n",
        "* Two-way ANOVA:\n",
        "\\begin{equation*}\n",
        "FECFAT_{ij} = \\mu + SUBJECT_i + PILLTYPE_j + \\epsilon_{ij}\n",
        "\\phantom{\\hspace{3cm}}\n",
        "\\end{equation*}\n",
        "\n",
        "Assumption: $\\epsilon_{ij} \\stackrel{iid}{\\sim} N(0, \\sigma_\\epsilon^2)$\n",
        "\n",
        "# Correlations within subjects\n",
        "\n",
        "* One-way ANOVA fails because it does not account for the correlation of measurements within-person\n",
        "* How highly correlated are measurements on the same person? Consider subject $i$, pill types $j$ and $k$:\n",
        "\n",
        "\\begin{equation*}\n",
        "corr(FECFAT_{ij}, FECFAT_{ik}) = \n",
        "          \\frac{cov(FECFAT_{ij}, FECFAT_{ik})}\n",
        "               {sd(FECFAT_{ij}) sd(FECFAT_{ik})}\n",
        "\\end{equation*}\n",
        "* This is a measure of how large the subject effect is, in relation to the error term\n",
        "\n",
        "# Correlation within subjects\n",
        "\n",
        "\\begin{equation*}\n",
        "\\begin{aligned}\n",
        "cov(FECFAT_{ij}, FECFAT_{ik}) &= cov(SUBJECT_i, SUBJECT_i) \\\\\n",
        "                              &= var(SUBJECT_i) \\\\\n",
        "                              &= \\sigma_{subject}^2. \\textrm{(definition)}\n",
        "\\end{aligned}\n",
        "\\end{equation*}\n",
        "\n",
        "* Equality 1:\n",
        "    + $\\mu$ and $pilltype$ terms are assumed to be constant, so do not enter into covariance calculation\n",
        "    + residuals $\\epsilon$ are assumed to be independent\n",
        "* Equality 2: \n",
        "    + covariance with self is variance\n",
        "\n",
        "Recall $SUBJECT_i$ is the term for individual in 2-way AOV. Now $\\beta_i * subjectID$, will later be treated as a **random variable**\n",
        "\n",
        "# Correlation within subjects\n",
        "Previous slide calculated *covariance*. Also need *variance*.\n",
        "\n",
        "\\begin{equation*}\n",
        "\\begin{aligned}\n",
        "var(FECFAT_{ij}) &= var(SUBJECT_i, SUBJECT_i) + var(\\epsilon_{ij}) \\\\\n",
        "                              &= \\sigma_{subject}^2 + \\sigma_{\\epsilon}^2. \\textrm{(definition)}\n",
        "\\end{aligned}\n",
        "\\end{equation*}\n",
        "\n",
        "* Difference is that the independent residuals do contribute to $var(FECFAT_{ij})$\n",
        "* Variance is broken into componenets due to *subject* and *residual* variance\n",
        "\n",
        "# Intraclass Correlation\n",
        "\n",
        "The correlation between two treatments $j$ and $k$ across subjects $i$ is:\n",
        "\\begin{equation*}\n",
        "\\begin{aligned}\n",
        "corr(FECFAT_{ij}, FECFAT_{ik}) & = \n",
        "          \\frac{cov(FECFAT_{ij}, FECFAT_{ik})}\n",
        "               {sd(FECFAT_{ij}) sd(FECFAT_{ik})} \\\\\n",
        "      & = \\frac{\\sigma_{subj}^2}{\\sigma_{subj}^2 + \\sigma_{\\epsilon}^2} \\\\\n",
        "ICC & = \\frac{\\tau_{00}^2}{\\tau_{00}^2 + \\sigma_\\epsilon^2}\n",
        "\\end{aligned}\n",
        "\\end{equation*}\n",
        "\n",
        "# Intuition behind correlations within subjects\n",
        "\n",
        "![Fecal Fat dataset](VittinghoffTable71.png)\n",
        "\n\\footnotesize"
      ],
      "metadata": {}
    },
    {
      "cell_type": "code",
      "source": [
        "library(tidyr)\n",
        "library(dplyr)\n",
        "fecfat.wide <- fecfat %>% \n",
        "  select(-fecfatminusmean) %>%  #get rid of fecfatminusmean column\n",
        "  spread(key=pilltype, value=fecfat) %>%\n",
        "  mutate(MEAN = (none+tablet+capsule+coated)/4)\n",
        "#print(xtable::xtable(fecfat.wide, digits=1, \n",
        "#                     caption=\"Wide version of fecal fat dataset\"), \n",
        "#      comment=FALSE)"
      ],
      "outputs": [],
      "execution_count": null,
      "metadata": {
        "attributes": {
          "classes": [],
          "echo": "FALSE,",
          "id": "",
          "message": "FALSE,",
          "results": "'hide'"
        }
      }
    },
    {
      "cell_type": "markdown",
      "source": [
        "Variance of the subject averages (`r round(var(fecfat.wide$MEAN), 1)`) is increased by correlation of measurements within individual.\n",
        "\n",
        "# Calculation of correlations within subjects (ICC)\n",
        "\nWhat is your estimate of the variability due to subjects, from the 2-way ANOVA?"
      ],
      "metadata": {}
    },
    {
      "cell_type": "code",
      "source": [
        "sum(residuals(fit2way)^2) / 15 / 4 #df=15, divided by 4 pilltypes\n",
        "279.419 - 26.75 #var(SUBJECT_i)"
      ],
      "outputs": [],
      "execution_count": null,
      "metadata": {}
    },
    {
      "cell_type": "markdown",
      "source": [
        "Residual variance is:"
      ],
      "metadata": {}
    },
    {
      "cell_type": "code",
      "source": [
        "sum(residuals(fit2way)^2) / 15 #df=15"
      ],
      "outputs": [],
      "execution_count": null,
      "metadata": {}
    },
    {
      "cell_type": "markdown",
      "source": [
        "# Calculation of correlations within subjects (ICC)\n",
        "\n",
        "Finally calculate ICC:\n",
        "\n",
        "\\begin{equation*}\n",
        "\\begin{aligned}\n",
        "ICC &= \\frac{\\sigma_{subj}^2}{\\sigma_{subj}^2 + \\sigma_{\\epsilon}^2} \\\\\n",
        "    &= \\frac{253}{253 + 107}\n",
        "    &= 0.70\n",
        "\\end{aligned}\n",
        "\\end{equation*}\n",
        "\n",
        "This calculation will become easier when we learn to estimate *random coefficients* in directly in the regression model.\n",
        "\n",
        "# The next step: a mixed effects model\n",
        "\n",
        "* Two-way ANOVA is a fixed effects model:\n",
        "$$\n",
        "FECFAT_{ij} = \\beta_0 + \\beta_{subject i} SUBJECT_i + \\beta_{pilltype j} PILLTYPE_j + \\epsilon_{ij}\n",
        "$$\n",
        "     - Assumption: $\\epsilon_i \\stackrel{iid}{\\sim} N(0, \\sigma_\\epsilon^2)$\n",
        "\n",
        "* Instead of fitting a $\\beta_{subject i}$ to each individual, assume that subject effects are selected from a distribution of possible subject effects:\n",
        "$$\n",
        "FECFAT_{ij} = \\mu + SUBJECT_i + \\beta_{pilltype j} PILLTYPE_j + \\epsilon_{ij}\n",
        "$$\n",
        "where $SUBJECT_i \\stackrel{iid}{\\sim} N(0, \\sigma_{subj}^2)$\n",
        "\n",
        "* Here subject is a _random_ effect, and pill type is a _fixed_ effect.\n",
        "* This is also a random intercept model\n",
        "\n",
        "# Random and fixed effects\n",
        "![Random and Fixed Effects](VittinghoffTable714.png)\n",
        "\n",
        "# Summary: correlations within subjects\n",
        "* Subject-to-subject variability simultaneously raises or lowers all the observations on a subject\n",
        "     - induces correlation of within-subject measurements\n",
        "* Variability of individual measurements can be separated into that due to subjects and that left to residual variance.\n",
        "     - $var(FECFAT_{ij}) = \\sigma_{subj}^2 + \\sigma_{\\epsilon}^2$\n",
        "* 2-way ANOVA does not directly estimate variability due to subjects\n",
        "     - variance of coefficients for individual is not too far off\n",
        "\n",
        "# Summary: hierarchical data\n",
        "* Estimates of coeffients (or \"effect sizes\") are unchanged by hierarchical modeling\n",
        "* Ignoring within-subject correlations results in incorrect estimates of variance, F statistics, p-values\n",
        "     - not always \"conservative\"\n",
        "* Intraclass Correlation (ICC) provides a measure of correlation induced by grouping\n",
        "* Should be able to recognize fixed and random effects\n",
        "\n",
        "# Lab\n",
        "\n",
        "1. Load the fecal fat dataset\n",
        "2. Produce summary statistics for the dataset\n",
        "3. Create a boxplot for fecal fat vs. treatment type\n",
        "4. Create a spaghetti plots for fecal fat vs. treatment type, with and without subject means subtracted\n",
        "5. Fit a linear model with random coefficients for pills, and summarize the output\n",
        "6. Create residuals plots for this model and interpret\n",
        "7. Calculate the ICC"
      ],
      "metadata": {}
    }
  ],
  "metadata": {
    "kernelspec": {
      "name": "ir",
      "language": "R",
      "display_name": "R"
    },
    "kernel_info": {
      "name": "ir"
    },
    "language_info": {
      "name": "R",
      "codemirror_mode": "r",
      "pygments_lexer": "r",
      "mimetype": "text/x-r-source",
      "file_extension": ".r",
      "version": "3.5.1"
    },
    "nteract": {
      "version": "0.12.3"
    }
  },
  "nbformat": 4,
  "nbformat_minor": 2
}