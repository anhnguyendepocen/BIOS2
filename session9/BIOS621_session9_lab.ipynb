{
  "cells": [
    {
      "metadata": {
        "collapsed": true
      },
      "cell_type": "markdown",
      "source": "# Lab\n\n## 1. Load the fecal fat dataset"
    },
    {
      "metadata": {
        "trusted": true
      },
      "cell_type": "code",
      "source": "fecfat <- read.csv(\"fecfat.csv\")\nfecfat$subject <- factor(fecfat$subject)\nfecfat$pilltype <- relevel(fecfat$pilltype, ref=\"none\")",
      "execution_count": null,
      "outputs": []
    },
    {
      "metadata": {
        "collapsed": true
      },
      "cell_type": "markdown",
      "source": "## 2. Produce summary statistics for the dataset"
    },
    {
      "metadata": {
        "trusted": true
      },
      "cell_type": "code",
      "source": "summary(fecfat)",
      "execution_count": null,
      "outputs": []
    },
    {
      "metadata": {
        "trusted": true
      },
      "cell_type": "code",
      "source": "# install.packages(\"tableone\")\nlibrary(tableone)\n#help(package=\"tableone\")\nCreateTableOne(data=fecfat, vars=c(\"fecfat\", \"pilltype\"))",
      "execution_count": null,
      "outputs": []
    },
    {
      "metadata": {
        "collapsed": true
      },
      "cell_type": "markdown",
      "source": "## 3. Create a boxplot for fecal fat vs. treatment type"
    },
    {
      "metadata": {
        "trusted": true
      },
      "cell_type": "code",
      "source": "?boxplot",
      "execution_count": null,
      "outputs": []
    },
    {
      "metadata": {
        "trusted": true
      },
      "cell_type": "code",
      "source": "library(RColorBrewer)\npar(cex=0.3)\ndisplay.brewer.all(4, colorblindFriendly=TRUE)\n(mycols <- brewer.pal(4, name=\"Set2\"))",
      "execution_count": null,
      "outputs": []
    },
    {
      "metadata": {
        "trusted": true
      },
      "cell_type": "code",
      "source": "library(ggplot2)\nggplot(fecfat, aes(x=pilltype, y=fecfat)) +\n   geom_boxplot()",
      "execution_count": null,
      "outputs": []
    },
    {
      "metadata": {
        "trusted": true
      },
      "cell_type": "code",
      "source": "png(\"boxplot.png\", width=3.25, height=3.25, units=\"in\", res=300)\npar(mar = c(5, 4, 4, 0) + 0.1))\npar(cex=0.75)\nboxplot(fecfat ~ pilltype, data=fecfat, \n        col = mycols,\n       xlab=\"Pill Type\", ylab=\"Fecal Fat (mg/day)\")\ndev.off()",
      "execution_count": null,
      "outputs": []
    },
    {
      "metadata": {
        "collapsed": true
      },
      "cell_type": "markdown",
      "source": "## 4. Create a spaghetti plot for fecal fat vs. treatment type, with and without subject means subtracted"
    },
    {
      "metadata": {
        "trusted": true
      },
      "cell_type": "code",
      "source": "fecfat$fecfatminusmean <- residuals(lm(fecfat ~ subject, data=fecfat))\ninteraction.plot(x.factor=fecfat$pilltype, \n                 trace.factor=fecfat$subject, \n                 response=fecfat$fecfat, \n                 xlab=\"Treatment\", ylab=\"Fecal Fat (mg/day)\",\n                 main=\"No subject effect correction\", legend=FALSE)\ninteraction.plot(x.factor=fecfat$pilltype, \n                 trace.factor=fecfat$subject, \n                 response=fecfat$fecfatminusmean, \n                 xlab=\"Treatment\", ylab=\"Fecal Fat (mg/day)\",\n                 main=\"Subject mean subtracted\", legend=FALSE)",
      "execution_count": null,
      "outputs": []
    },
    {
      "metadata": {
        "collapsed": true
      },
      "cell_type": "markdown",
      "source": "5. Fit a linear model with a random intercept, and summarize the output"
    },
    {
      "metadata": {
        "trusted": true
      },
      "cell_type": "code",
      "source": "",
      "execution_count": null,
      "outputs": []
    },
    {
      "metadata": {
        "collapsed": true
      },
      "cell_type": "markdown",
      "source": "6. Create residuals plots for this model and interpret"
    },
    {
      "metadata": {
        "trusted": true
      },
      "cell_type": "code",
      "source": "",
      "execution_count": null,
      "outputs": []
    },
    {
      "metadata": {
        "collapsed": true
      },
      "cell_type": "markdown",
      "source": "7. Calculate the ICC"
    },
    {
      "metadata": {
        "trusted": true
      },
      "cell_type": "code",
      "source": "",
      "execution_count": null,
      "outputs": []
    }
  ],
  "metadata": {
    "kernelspec": {
      "name": "r",
      "display_name": "R",
      "language": "R"
    },
    "language_info": {
      "mimetype": "text/x-r-source",
      "name": "R",
      "pygments_lexer": "r",
      "version": "3.4.1",
      "file_extension": ".r",
      "codemirror_mode": "r"
    }
  },
  "nbformat": 4,
  "nbformat_minor": 2
}